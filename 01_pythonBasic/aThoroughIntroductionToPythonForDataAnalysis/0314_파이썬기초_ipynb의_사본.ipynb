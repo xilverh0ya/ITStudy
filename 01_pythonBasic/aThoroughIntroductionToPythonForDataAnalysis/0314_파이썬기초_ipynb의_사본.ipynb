{
  "nbformat": 4,
  "nbformat_minor": 0,
  "metadata": {
    "colab": {
      "name": "0314_파이썬기초.ipynb의 사본",
      "provenance": [],
      "collapsed_sections": []
    },
    "kernelspec": {
      "name": "python3",
      "display_name": "Python 3"
    },
    "language_info": {
      "name": "python"
    }
  },
  "cells": [
    {
      "cell_type": "code",
      "execution_count": null,
      "metadata": {
        "colab": {
          "base_uri": "https://localhost:8080/"
        },
        "id": "Pj4UzxgYeOqa",
        "outputId": "86dcb3ad-0932-4288-9474-95b0afa9f9bb"
      },
      "outputs": [
        {
          "output_type": "stream",
          "name": "stdout",
          "text": [
            "HELLO\n"
          ]
        }
      ],
      "source": [
        "print('HELLO')"
      ]
    },
    {
      "cell_type": "markdown",
      "source": [
        "# IDE\n",
        "- 여러분이 보고계신 이 화면이 주피터라는 개발환경입니다.\n",
        "- 인공지능 하는 분들이 많이 사용합니다.\n",
        "- 서로 파일을 주고받을 수 있습니다. 구글의 GPU 나눠쓸 수 있습니다. (구글 코랩)\n",
        "- 돈을 안 내면 조금 나눠주고, 돈을 내면 많이 나눠줍니다.\n",
        "\n",
        "- 셀은 코드셀과 텍스트셀이 있습니다.\n",
        "코드셀 실행하는 법에는 ctrl + enter, shift + enter이 있습니다."
      ],
      "metadata": {
        "id": "lFPNpWWhewBs"
      }
    },
    {
      "cell_type": "code",
      "source": [
        "1+1"
      ],
      "metadata": {
        "id": "LflHnR0AeqeY",
        "colab": {
          "base_uri": "https://localhost:8080/"
        },
        "outputId": "65a53cbe-715b-4387-847a-b1b91fa99f47"
      },
      "execution_count": null,
      "outputs": [
        {
          "output_type": "execute_result",
          "data": {
            "text/plain": [
              "2"
            ]
          },
          "metadata": {},
          "execution_count": 1
        }
      ]
    },
    {
      "cell_type": "code",
      "source": [
        "# 주피터는 인터프리터의 동작환경을 최대한 끌어올린 개발환경입니다.\n",
        "# 한줄씩 실행이 가능합니다.\n",
        "# 출력을 하려면 print() 라는 표준 출력함수를 사용을 하는데요.\n",
        "# 주피터는 print 없이도 결과를 출력합니다.\n",
        "# 그게 굉장히 시간을 절약해주죠. 단점은 주피터에 너무 익숙해지면, print를 누락하고 결과물을 만들 수 있습니다. \n",
        "print(1+1)"
      ],
      "metadata": {
        "colab": {
          "base_uri": "https://localhost:8080/"
        },
        "id": "x0Et-7P5gWaB",
        "outputId": "84c2e97c-fb6c-4422-be20-0b2f9eee6d61"
      },
      "execution_count": null,
      "outputs": [
        {
          "output_type": "stream",
          "name": "stdout",
          "text": [
            "2\n"
          ]
        }
      ]
    },
    {
      "cell_type": "code",
      "source": [
        ""
      ],
      "metadata": {
        "id": "mNcDADYRs7N9"
      },
      "execution_count": null,
      "outputs": []
    },
    {
      "cell_type": "code",
      "source": [
        "1+1"
      ],
      "metadata": {
        "colab": {
          "base_uri": "https://localhost:8080/"
        },
        "id": "jNNLf2cigs4A",
        "outputId": "d23c7207-034f-4698-b20e-e1c5f2405096"
      },
      "execution_count": null,
      "outputs": [
        {
          "output_type": "execute_result",
          "data": {
            "text/plain": [
              "2"
            ]
          },
          "metadata": {},
          "execution_count": 3
        }
      ]
    },
    {
      "cell_type": "code",
      "source": [
        "1+1\n",
        "2+1\n",
        "3+4"
      ],
      "metadata": {
        "colab": {
          "base_uri": "https://localhost:8080/"
        },
        "id": "Ejd3XqVQgt7e",
        "outputId": "bd0df3e1-7a5f-4ef2-dc7f-eba2118aeaed"
      },
      "execution_count": null,
      "outputs": [
        {
          "output_type": "execute_result",
          "data": {
            "text/plain": [
              "7"
            ]
          },
          "metadata": {},
          "execution_count": 4
        }
      ]
    },
    {
      "cell_type": "code",
      "source": [
        "# 마지막 결과만 확인이 됩니다. \n",
        "# 출력이 되긴 했는데 인터프리터 언어의 특성상 한줄씩 돌아갔기 때문에 다음 출력결과에 의해서 덮어써진 겁니다.\n",
        "# 한 줄씩 실행되는 인터프리터 언어의 특성상 출력결과가 계속해서 덮어써집니다.\n",
        "print(1+1)\n",
        "print(2+1)\n",
        "print(3+4)\n",
        "#print를 사용하여 각각 출력해주면 해결할 수 있습니다."
      ],
      "metadata": {
        "colab": {
          "base_uri": "https://localhost:8080/"
        },
        "id": "3qQ5pvEAg3cI",
        "outputId": "84614ef3-b0a2-4067-dcb4-fd561a1f5b20"
      },
      "execution_count": null,
      "outputs": [
        {
          "output_type": "stream",
          "name": "stdout",
          "text": [
            "2\n",
            "3\n",
            "7\n"
          ]
        }
      ]
    },
    {
      "cell_type": "code",
      "source": [
        ""
      ],
      "metadata": {
        "id": "bLvNxN0UtQgP"
      },
      "execution_count": null,
      "outputs": []
    },
    {
      "cell_type": "code",
      "source": [
        ""
      ],
      "metadata": {
        "id": "0MOdyHvhtJPF"
      },
      "execution_count": null,
      "outputs": []
    },
    {
      "cell_type": "markdown",
      "source": [
        "## 파이썬 인터프리터의 특징 \n",
        "- 결국 기초수업은 인터프리터가 어떻게 동작하는지에 대해서 설명합니다.\n",
        "  - 파이썬을 이해한다는 것은 결국 **\"파이썬 인터프리터가 어떻게 실행되는가\"**를 이해하는 것과 같습니다.\n",
        "- 명령어를 실행하고, 어떻게 값이 돌아오는지를 한줄한줄 확인하기 위해 코랩을 사용할 예정입니다.(Input -> Output을 직관적으로 확인)\n",
        "\n",
        "- 파이썬 명령어는 모두 인터프리터에 의해서 실행되는 것을 가정하고 동작합니다.\n",
        "- py 파일에 전부 기록하고 -> 한번에 실행 되고요\n",
        "- 셀(블록) 단위로 나눠서 실행할 합니다. \n",
        "\n",
        "- 주피터는 일반적인 개발 환경과 인터프리터의 중간적인 환경을 제공하는 IDE입니다."
      ],
      "metadata": {
        "id": "SFpv6kuthWqd"
      }
    },
    {
      "cell_type": "markdown",
      "source": [
        "1. Hello, World!\n",
        "\n",
        "2. This's a dog\n",
        "\n",
        "3. 안녕하세요 (4칸 띄고) 만나서 반갑습니다.\n"
      ],
      "metadata": {
        "id": "0zvGP741h-d0"
      }
    },
    {
      "cell_type": "code",
      "source": [
        "print(\"Hello, World!\")\n",
        "print(\"This's a dog.\")\n",
        "print(\"안녕하세요    만나서 반갑습니다.\")\n"
      ],
      "metadata": {
        "colab": {
          "base_uri": "https://localhost:8080/"
        },
        "id": "ZY9RINNOh9xJ",
        "outputId": "0deeb134-be2b-41db-a98a-c40b822528af"
      },
      "execution_count": null,
      "outputs": [
        {
          "output_type": "stream",
          "name": "stdout",
          "text": [
            "Hello, World!\n",
            "This's a dog.\n",
            "안녕하세요    만나서 반갑습니다.\n"
          ]
        }
      ]
    },
    {
      "cell_type": "code",
      "source": [
        "print(\"안녕하세요\\t만나서 반갑습니다\")\n",
        "#이스케이프 시퀀스의 하나인 \\t를 사용하여 공백을 만들어낸 모습입니다.\n",
        "#현재 IDE 설정에 의해 tap은 4개의 공백으로 치환됩니다."
      ],
      "metadata": {
        "colab": {
          "base_uri": "https://localhost:8080/"
        },
        "id": "Lw52qWrvhNL3",
        "outputId": "2a5e8489-36b0-49db-c2a8-d2ad0ba3bc4a"
      },
      "execution_count": null,
      "outputs": [
        {
          "output_type": "stream",
          "name": "stdout",
          "text": [
            "안녕하세요\t만나서 반갑습니다\n"
          ]
        }
      ]
    },
    {
      "cell_type": "code",
      "source": [
        "print('This\\'s a dog')\n",
        "#마찬가지로 이스케이프 시퀀스를 사용하여 특수기호인 '를 처리해준 모습입니다."
      ],
      "metadata": {
        "colab": {
          "base_uri": "https://localhost:8080/"
        },
        "id": "2eZKqCc6i1fT",
        "outputId": "aa6cc48e-3186-4675-a7d1-96ea0a67d6f1"
      },
      "execution_count": null,
      "outputs": [
        {
          "output_type": "stream",
          "name": "stdout",
          "text": [
            "This's a dog\n"
          ]
        }
      ]
    },
    {
      "cell_type": "markdown",
      "source": [
        "너무 사소한 출력 구문이었는데 굉장히 다른 방식으로 표현을 하고 있습니다.\n",
        "이렇게 남의 코드를 보면서 실력을 키워나갈거에요.\n"
      ],
      "metadata": {
        "id": "Q1K-HVa0jEqu"
      }
    },
    {
      "cell_type": "markdown",
      "source": [
        "# 자료의 타입\n",
        "- 자료\n",
        "  - 프로그래밍(코딩)을 하는 대상을 `자료`라고 합니다. \n",
        "    - 파일(엑셀, 그림, 텍스트, ... ), 문자, 숫자,... \n",
        "    - 자료의 형태는 기본적으로 둘 중에 하나 입니다(문자, 숫자)\n",
        "      - 문자도 결국 바이너리코드가 되면 숫자이니 정확히 말하자면 `숫자` 하나.. \n",
        "      - 숫자를 RGB로 해석하면, 색정보, 문자 인코딩을 하면 문자, ... \n",
        "      - 결국, 컴퓨터에서 보여지는 모든 것들은 전부 숫자로 표현 가능\n",
        "\n",
        "- 파이썬의 타입은 여러가지가 있는데\n",
        "  - 기본 타입은 숫자( 정수, 실수 )\n",
        "  - 파이썬의 기본 타입은 자료를 구성하는 가장 기본적인 `최소 단위`\n"
      ],
      "metadata": {
        "id": "fObTTB9XyI3P"
      }
    },
    {
      "cell_type": "markdown",
      "source": [
        "파이썬의 자료타입 중에 가장 먼저 숫자\n",
        "\n",
        "# 숫자\n",
        "- 정수, 실수, BOOLEAN 3가지 타입의 자료 \n",
        "- INT, FLOAT, DOUBLE, LONG\n",
        "- 다른 언어(컴파일 언어) 용량을 최대한 아끼기 위해서 정수, 실수로 나누고 정수/실수 안에서도 더 크거나 긴 숫자는 다른 자료형으로 관리를 합니다.\n",
        "- 파이썬은 3개만 있다고 생각하시면 될 것 같아요\n",
        "- 정수와 실수만 있다 \n",
        "- BOOL (TRUE/FALSE) 1 / 0\n",
        "\n",
        "\n",
        "## 정수(Integer)\n",
        "- int 라고 표현\n",
        "- 음수, 양수, 0 3가지가 있습니다\n",
        "- 4바이트를 할당해요 - 웬만한 숫자는 다 들어감\n",
        "- 속도는 좀 느려집니다.\n",
        "\n"
      ],
      "metadata": {
        "id": "PcWZAwmE0PhF"
      }
    },
    {
      "cell_type": "code",
      "source": [
        "(2**8)**4\n",
        "#Python에서 **은 제곱을 의미합니다"
      ],
      "metadata": {
        "id": "2mslkN8Xi-9W",
        "colab": {
          "base_uri": "https://localhost:8080/"
        },
        "outputId": "10d342aa-72ff-45e8-e6e2-d4ce5ccd40bf"
      },
      "execution_count": null,
      "outputs": [
        {
          "output_type": "execute_result",
          "data": {
            "text/plain": [
              "4294967296"
            ]
          },
          "metadata": {},
          "execution_count": 6
        }
      ]
    },
    {
      "cell_type": "code",
      "source": [
        ""
      ],
      "metadata": {
        "id": "_sNpE6yku0b-"
      },
      "execution_count": null,
      "outputs": []
    },
    {
      "cell_type": "code",
      "source": [
        "2"
      ],
      "metadata": {
        "colab": {
          "base_uri": "https://localhost:8080/"
        },
        "id": "jwonA6Zlywyp",
        "outputId": "c3727fe7-b809-42e4-f46d-4ff29141d216"
      },
      "execution_count": null,
      "outputs": [
        {
          "output_type": "execute_result",
          "data": {
            "text/plain": [
              "2"
            ]
          },
          "metadata": {},
          "execution_count": 15
        }
      ]
    },
    {
      "cell_type": "code",
      "source": [
        "-2"
      ],
      "metadata": {
        "colab": {
          "base_uri": "https://localhost:8080/"
        },
        "id": "_k1JkyCr1QBU",
        "outputId": "1d3312b0-1a2a-4527-d78b-6d4f25dc929b"
      },
      "execution_count": null,
      "outputs": [
        {
          "output_type": "execute_result",
          "data": {
            "text/plain": [
              "-2"
            ]
          },
          "metadata": {},
          "execution_count": 16
        }
      ]
    },
    {
      "cell_type": "code",
      "source": [
        "0"
      ],
      "metadata": {
        "colab": {
          "base_uri": "https://localhost:8080/"
        },
        "id": "c68kO3S71Qne",
        "outputId": "d242a132-c1a5-4980-832d-3b23d685a35a"
      },
      "execution_count": null,
      "outputs": [
        {
          "output_type": "execute_result",
          "data": {
            "text/plain": [
              "0"
            ]
          },
          "metadata": {},
          "execution_count": 17
        }
      ]
    },
    {
      "cell_type": "code",
      "source": [
        "#아무리 긴 숫자를 나열해도 Int형으로 인식합니다\n",
        "type(-124127128947892758975897123895723895789578918490567823574238756237590238954712389567293016902146859048690347590238582309671906892375489237523760417689265892869034806719023467290672390589023869023754902367237549023769023850236823905723906)"
      ],
      "metadata": {
        "colab": {
          "base_uri": "https://localhost:8080/"
        },
        "id": "Vp6zyvQj1RVm",
        "outputId": "e4987951-6753-4063-e7ff-70c4d30b0ee3"
      },
      "execution_count": null,
      "outputs": [
        {
          "output_type": "execute_result",
          "data": {
            "text/plain": [
              "int"
            ]
          },
          "metadata": {},
          "execution_count": 7
        }
      ]
    },
    {
      "cell_type": "markdown",
      "source": [
        "## 실수 (float)\n",
        "- 파이썬에서는 float 하나만 제공\n",
        "  - 부동소수점 방식\n",
        "  - 움직이는 소수점 방식 이라는 뜻입니다. (부유하다) \n",
        "  - 소수점 위치가 고정되어 있지 않고 바뀐다는 의미입니다.\n",
        "  - 인터프리터의 오차라고 할까요?\n"
      ],
      "metadata": {
        "id": "xh-ABKSs1cwh"
      }
    },
    {
      "cell_type": "code",
      "source": [
        "type(0.35634634)"
      ],
      "metadata": {
        "colab": {
          "base_uri": "https://localhost:8080/"
        },
        "id": "bO6bRDWA1UG_",
        "outputId": "04a2714d-7959-4fd4-d01e-eb75f9069f71"
      },
      "execution_count": null,
      "outputs": [
        {
          "output_type": "execute_result",
          "data": {
            "text/plain": [
              "float"
            ]
          },
          "metadata": {},
          "execution_count": 22
        }
      ]
    },
    {
      "cell_type": "code",
      "source": [
        "type(10.)"
      ],
      "metadata": {
        "colab": {
          "base_uri": "https://localhost:8080/"
        },
        "id": "UNcmRHAK1g-G",
        "outputId": "4772bbc8-b745-43c8-aa7a-f45120658a4a"
      },
      "execution_count": null,
      "outputs": [
        {
          "output_type": "execute_result",
          "data": {
            "text/plain": [
              "float"
            ]
          },
          "metadata": {},
          "execution_count": 23
        }
      ]
    },
    {
      "cell_type": "code",
      "source": [
        "type(10)"
      ],
      "metadata": {
        "colab": {
          "base_uri": "https://localhost:8080/"
        },
        "id": "1EPQpemo2dKm",
        "outputId": "1aec1c11-b6a7-4fc8-8bc5-a207d87d8e20"
      },
      "execution_count": null,
      "outputs": [
        {
          "output_type": "execute_result",
          "data": {
            "text/plain": [
              "int"
            ]
          },
          "metadata": {},
          "execution_count": 24
        }
      ]
    },
    {
      "cell_type": "code",
      "source": [
        "type(.3)"
      ],
      "metadata": {
        "colab": {
          "base_uri": "https://localhost:8080/"
        },
        "id": "G75YvKCH2fze",
        "outputId": "de17db03-aac6-4e75-c5a9-1956c50eaf04"
      },
      "execution_count": null,
      "outputs": [
        {
          "output_type": "execute_result",
          "data": {
            "text/plain": [
              "float"
            ]
          },
          "metadata": {},
          "execution_count": 25
        }
      ]
    },
    {
      "cell_type": "code",
      "source": [
        "type(.)"
      ],
      "metadata": {
        "colab": {
          "base_uri": "https://localhost:8080/",
          "height": 136
        },
        "id": "f1_POXwr2h_G",
        "outputId": "dae04e62-de43-4e1e-f1c5-7e02eb501754"
      },
      "execution_count": null,
      "outputs": [
        {
          "output_type": "error",
          "ename": "SyntaxError",
          "evalue": "ignored",
          "traceback": [
            "\u001b[0;36m  File \u001b[0;32m\"<ipython-input-26-be29e4431175>\"\u001b[0;36m, line \u001b[0;32m1\u001b[0m\n\u001b[0;31m    type(.)\u001b[0m\n\u001b[0m         ^\u001b[0m\n\u001b[0;31mSyntaxError\u001b[0m\u001b[0;31m:\u001b[0m invalid syntax\n"
          ]
        }
      ]
    },
    {
      "cell_type": "markdown",
      "source": [
        "# 불리언 (bool)\n",
        "- 참, 거짓을 표현하는 값 (True, False)\n",
        "- True = 1, False = 0"
      ],
      "metadata": {
        "id": "1jw6SimJ2qY4"
      }
    },
    {
      "cell_type": "code",
      "source": [
        "type(True)"
      ],
      "metadata": {
        "colab": {
          "base_uri": "https://localhost:8080/"
        },
        "id": "rBlrc6ah2nTh",
        "outputId": "8e011aec-022a-4d8f-e262-592ebe6bf1bd"
      },
      "execution_count": null,
      "outputs": [
        {
          "output_type": "execute_result",
          "data": {
            "text/plain": [
              "bool"
            ]
          },
          "metadata": {},
          "execution_count": 27
        }
      ]
    },
    {
      "cell_type": "code",
      "source": [
        "type(False)"
      ],
      "metadata": {
        "colab": {
          "base_uri": "https://localhost:8080/"
        },
        "id": "yQBcHYB7213g",
        "outputId": "369b3e0d-0ccf-4b50-c334-b11882d62148"
      },
      "execution_count": null,
      "outputs": [
        {
          "output_type": "execute_result",
          "data": {
            "text/plain": [
              "bool"
            ]
          },
          "metadata": {},
          "execution_count": 28
        }
      ]
    },
    {
      "cell_type": "code",
      "source": [
        "type(0)"
      ],
      "metadata": {
        "colab": {
          "base_uri": "https://localhost:8080/"
        },
        "id": "rz4WM31y23vv",
        "outputId": "5365cd65-4739-4d0b-e5bc-69c87427b1d2"
      },
      "execution_count": null,
      "outputs": [
        {
          "output_type": "execute_result",
          "data": {
            "text/plain": [
              "int"
            ]
          },
          "metadata": {},
          "execution_count": 29
        }
      ]
    },
    {
      "cell_type": "code",
      "source": [
        "type(1)"
      ],
      "metadata": {
        "colab": {
          "base_uri": "https://localhost:8080/"
        },
        "id": "MTd-jQ6C25CJ",
        "outputId": "70647375-71c7-48e5-db16-24b43e36ffd0"
      },
      "execution_count": null,
      "outputs": [
        {
          "output_type": "execute_result",
          "data": {
            "text/plain": [
              "int"
            ]
          },
          "metadata": {},
          "execution_count": 30
        }
      ]
    },
    {
      "cell_type": "code",
      "source": [
        "True + False + True"
      ],
      "metadata": {
        "colab": {
          "base_uri": "https://localhost:8080/"
        },
        "id": "qstC94Sn26TI",
        "outputId": "68f7510c-e259-4be3-97b2-4ae8b38c4790"
      },
      "execution_count": null,
      "outputs": [
        {
          "output_type": "execute_result",
          "data": {
            "text/plain": [
              "2"
            ]
          },
          "metadata": {},
          "execution_count": 31
        }
      ]
    },
    {
      "cell_type": "code",
      "source": [
        "False + False "
      ],
      "metadata": {
        "colab": {
          "base_uri": "https://localhost:8080/"
        },
        "id": "7dqwZtna3BAH",
        "outputId": "7cea8430-877a-4730-ae70-e27b6ae25ec0"
      },
      "execution_count": null,
      "outputs": [
        {
          "output_type": "execute_result",
          "data": {
            "text/plain": [
              "0"
            ]
          },
          "metadata": {},
          "execution_count": 32
        }
      ]
    },
    {
      "cell_type": "markdown",
      "source": [
        "# 문자열 (string)\n",
        "- 문자와 문자열은 다른 개념입니다.\n",
        "- 문자와 문자열을 따로 구분하지 않고 string으로 취급합니다.\n",
        "- 파이썬에서 문자열을 표현하는 방법은 3가지가 있습니다\n",
        "- '' , \" \", ''' '''\n",
        "  -멀티라인 제외하고는 작은 따옴표와 큰 따옴표의 차이는 없습니다.\n",
        "  - 다만 규칙이라면 처음에 열어준 따옴표로 닫아주기도 해야합니다.\n",
        "  "
      ],
      "metadata": {
        "id": "_J9sEEpa3NC-"
      }
    },
    {
      "cell_type": "code",
      "source": [
        "'hELLO'"
      ],
      "metadata": {
        "colab": {
          "base_uri": "https://localhost:8080/",
          "height": 35
        },
        "id": "HLlai8qt3FPx",
        "outputId": "fe7ae56e-b8fa-461c-d50d-a5cbf4b52015"
      },
      "execution_count": null,
      "outputs": [
        {
          "output_type": "execute_result",
          "data": {
            "text/plain": [
              "'hELLO'"
            ],
            "application/vnd.google.colaboratory.intrinsic+json": {
              "type": "string"
            }
          },
          "metadata": {},
          "execution_count": 34
        }
      ]
    },
    {
      "cell_type": "code",
      "source": [
        "\"Hello\""
      ],
      "metadata": {
        "colab": {
          "base_uri": "https://localhost:8080/",
          "height": 35
        },
        "id": "KKmLlEso3ZKO",
        "outputId": "2814d8da-c15c-40b2-8c12-ea58b7e20063"
      },
      "execution_count": null,
      "outputs": [
        {
          "output_type": "execute_result",
          "data": {
            "text/plain": [
              "'Hello'"
            ],
            "application/vnd.google.colaboratory.intrinsic+json": {
              "type": "string"
            }
          },
          "metadata": {},
          "execution_count": 35
        }
      ]
    },
    {
      "cell_type": "code",
      "source": [
        "'Hello\" # EOL - END OF LINE의 약자입니다. "
      ],
      "metadata": {
        "colab": {
          "base_uri": "https://localhost:8080/",
          "height": 136
        },
        "id": "UN9s3M0B3-Bm",
        "outputId": "bb097956-f272-4064-a745-c1b3f00dc501"
      },
      "execution_count": null,
      "outputs": [
        {
          "output_type": "error",
          "ename": "SyntaxError",
          "evalue": "ignored",
          "traceback": [
            "\u001b[0;36m  File \u001b[0;32m\"<ipython-input-36-d9c26fb53ee0>\"\u001b[0;36m, line \u001b[0;32m1\u001b[0m\n\u001b[0;31m    'Hello\"\u001b[0m\n\u001b[0m           ^\u001b[0m\n\u001b[0;31mSyntaxError\u001b[0m\u001b[0;31m:\u001b[0m EOL while scanning string literal\n"
          ]
        }
      ]
    },
    {
      "cell_type": "markdown",
      "source": [
        "- 파이썬에서는 한줄에 하나의 명령어 또는 하나의 문자열을 입력하는 것이 원칙입니다. "
      ],
      "metadata": {
        "id": "STwvXBVH4OpK"
      }
    },
    {
      "cell_type": "code",
      "source": [
        "'HELLO\n",
        "PYTHON'"
      ],
      "metadata": {
        "colab": {
          "base_uri": "https://localhost:8080/",
          "height": 136
        },
        "id": "k3Y87p7F4BaX",
        "outputId": "ae17025f-3f13-49ae-c7c1-ef6952fb8ae0"
      },
      "execution_count": null,
      "outputs": [
        {
          "output_type": "error",
          "ename": "SyntaxError",
          "evalue": "ignored",
          "traceback": [
            "\u001b[0;36m  File \u001b[0;32m\"<ipython-input-37-57c3f7fe6d27>\"\u001b[0;36m, line \u001b[0;32m1\u001b[0m\n\u001b[0;31m    'HELLO\u001b[0m\n\u001b[0m          ^\u001b[0m\n\u001b[0;31mSyntaxError\u001b[0m\u001b[0;31m:\u001b[0m EOL while scanning string literal\n"
          ]
        }
      ]
    },
    {
      "cell_type": "code",
      "source": [
        "print('hello') print('world')"
      ],
      "metadata": {
        "colab": {
          "base_uri": "https://localhost:8080/",
          "height": 136
        },
        "id": "8RMUAmPt4bwu",
        "outputId": "7b65bea1-594f-4a48-b8f6-011da896cd3e"
      },
      "execution_count": null,
      "outputs": [
        {
          "output_type": "error",
          "ename": "SyntaxError",
          "evalue": "ignored",
          "traceback": [
            "\u001b[0;36m  File \u001b[0;32m\"<ipython-input-38-d9449622abc6>\"\u001b[0;36m, line \u001b[0;32m1\u001b[0m\n\u001b[0;31m    print('hello') print('world')\u001b[0m\n\u001b[0m                       ^\u001b[0m\n\u001b[0;31mSyntaxError\u001b[0m\u001b[0;31m:\u001b[0m invalid syntax\n"
          ]
        }
      ]
    },
    {
      "cell_type": "code",
      "source": [
        "# 멀티라인 \n",
        "'''HELLO\n",
        "PYTHON'''\n"
      ],
      "metadata": {
        "colab": {
          "base_uri": "https://localhost:8080/",
          "height": 35
        },
        "id": "ROsz-gh04iLm",
        "outputId": "8c05f9e7-5eaf-483b-da1d-ead49fc4b10f"
      },
      "execution_count": null,
      "outputs": [
        {
          "output_type": "execute_result",
          "data": {
            "text/plain": [
              "'HELLO\\nPYTHON'"
            ],
            "application/vnd.google.colaboratory.intrinsic+json": {
              "type": "string"
            }
          },
          "metadata": {},
          "execution_count": 39
        }
      ]
    },
    {
      "cell_type": "code",
      "source": [
        "print('hello') ; print('world') # 명령어 여러개를 한줄에 쓸 때는 세미콜론을 넣어주시면 됩니다."
      ],
      "metadata": {
        "colab": {
          "base_uri": "https://localhost:8080/"
        },
        "id": "_IEaEsfw4qT4",
        "outputId": "881e54a0-352b-4afb-ff4a-7f4d74379516"
      },
      "execution_count": null,
      "outputs": [
        {
          "output_type": "stream",
          "name": "stdout",
          "text": [
            "hello\n",
            "world\n"
          ]
        }
      ]
    },
    {
      "cell_type": "code",
      "source": [
        "# 코드의 띄어쓰기, 대/소문자 구분이 엄격합니다. \n",
        "''"
      ],
      "metadata": {
        "colab": {
          "base_uri": "https://localhost:8080/",
          "height": 35
        },
        "id": "T6tvmZPI4yM3",
        "outputId": "a8238f87-45ca-4193-db1f-24eae2842c7b"
      },
      "execution_count": null,
      "outputs": [
        {
          "output_type": "execute_result",
          "data": {
            "text/plain": [
              "''"
            ],
            "application/vnd.google.colaboratory.intrinsic+json": {
              "type": "string"
            }
          },
          "metadata": {},
          "execution_count": 41
        }
      ]
    },
    {
      "cell_type": "code",
      "source": [
        "' '"
      ],
      "metadata": {
        "colab": {
          "base_uri": "https://localhost:8080/",
          "height": 35
        },
        "id": "F9fI53Qt5svJ",
        "outputId": "a68503e2-6b4c-41b6-872a-4b658dfd8007"
      },
      "execution_count": null,
      "outputs": [
        {
          "output_type": "execute_result",
          "data": {
            "text/plain": [
              "' '"
            ],
            "application/vnd.google.colaboratory.intrinsic+json": {
              "type": "string"
            }
          },
          "metadata": {},
          "execution_count": 42
        }
      ]
    },
    {
      "cell_type": "code",
      "source": [
        "'' == ' '"
      ],
      "metadata": {
        "colab": {
          "base_uri": "https://localhost:8080/"
        },
        "id": "Ik_M8hSe5upJ",
        "outputId": "212d7887-cfd4-448e-d966-918c30a0617f"
      },
      "execution_count": null,
      "outputs": [
        {
          "output_type": "execute_result",
          "data": {
            "text/plain": [
              "False"
            ]
          },
          "metadata": {},
          "execution_count": 43
        }
      ]
    },
    {
      "cell_type": "code",
      "source": [
        "# 아스키코드 값이 다르면 다른 문자로 인식합니다.\n",
        "# 다른 문자처럼 보여도 아스키코드값이 같으면 같은 문자입니다. \n",
        "'a' == 'A'"
      ],
      "metadata": {
        "colab": {
          "base_uri": "https://localhost:8080/"
        },
        "id": "7DdSgzNx5yof",
        "outputId": "b5cefadc-feb2-411e-dd5f-5263d9524bb2"
      },
      "execution_count": null,
      "outputs": [
        {
          "output_type": "execute_result",
          "data": {
            "text/plain": [
              "False"
            ]
          },
          "metadata": {},
          "execution_count": 44
        }
      ]
    },
    {
      "cell_type": "code",
      "source": [
        "'apple' == 'Apple'"
      ],
      "metadata": {
        "colab": {
          "base_uri": "https://localhost:8080/"
        },
        "id": "Q0aHYLsi6Ibe",
        "outputId": "340d7c52-e0cd-45d1-d6aa-a8827db27f38"
      },
      "execution_count": null,
      "outputs": [
        {
          "output_type": "execute_result",
          "data": {
            "text/plain": [
              "False"
            ]
          },
          "metadata": {},
          "execution_count": 45
        }
      ]
    },
    {
      "cell_type": "code",
      "source": [
        "# 숫자는 대문자 소문자가 없죠 그래서 대/소를 구분하지 않습니다.\n",
        "10 == 0x0a"
      ],
      "metadata": {
        "colab": {
          "base_uri": "https://localhost:8080/"
        },
        "id": "YYbpQoDH6Mqi",
        "outputId": "224fba72-45ab-4efd-e3b5-9eab16f28f66"
      },
      "execution_count": null,
      "outputs": [
        {
          "output_type": "execute_result",
          "data": {
            "text/plain": [
              "True"
            ]
          },
          "metadata": {},
          "execution_count": 46
        }
      ]
    },
    {
      "cell_type": "code",
      "source": [
        "10 == 0x0A"
      ],
      "metadata": {
        "colab": {
          "base_uri": "https://localhost:8080/"
        },
        "id": "p2ws6lsD6Xm4",
        "outputId": "1debad28-ba69-4eec-cb1e-e61b8157a77c"
      },
      "execution_count": null,
      "outputs": [
        {
          "output_type": "execute_result",
          "data": {
            "text/plain": [
              "True"
            ]
          },
          "metadata": {},
          "execution_count": 47
        }
      ]
    },
    {
      "cell_type": "code",
      "source": [
        "# 아스키코드 값으로 문자도 대소비교를 합니다.\n",
        "'a' > 'A'"
      ],
      "metadata": {
        "colab": {
          "base_uri": "https://localhost:8080/"
        },
        "id": "6XYn_XmZ6aY2",
        "outputId": "6f014f32-ac62-4701-fca4-a76c130e80df"
      },
      "execution_count": null,
      "outputs": [
        {
          "output_type": "execute_result",
          "data": {
            "text/plain": [
              "True"
            ]
          },
          "metadata": {},
          "execution_count": 48
        }
      ]
    },
    {
      "cell_type": "code",
      "source": [
        "0x0A"
      ],
      "metadata": {
        "colab": {
          "base_uri": "https://localhost:8080/"
        },
        "id": "NAHUYRg96eDe",
        "outputId": "d32b7ddd-968d-4194-dac1-fe1f5878c641"
      },
      "execution_count": null,
      "outputs": [
        {
          "output_type": "execute_result",
          "data": {
            "text/plain": [
              "10"
            ]
          },
          "metadata": {},
          "execution_count": 49
        }
      ]
    },
    {
      "cell_type": "code",
      "source": [
        "'\\x75'"
      ],
      "metadata": {
        "colab": {
          "base_uri": "https://localhost:8080/",
          "height": 35
        },
        "id": "SqG3S_VC6uLX",
        "outputId": "445c073a-55e8-4ed4-f255-53afc864515b"
      },
      "execution_count": null,
      "outputs": [
        {
          "output_type": "execute_result",
          "data": {
            "text/plain": [
              "'u'"
            ],
            "application/vnd.google.colaboratory.intrinsic+json": {
              "type": "string"
            }
          },
          "metadata": {},
          "execution_count": 52
        }
      ]
    },
    {
      "cell_type": "code",
      "source": [
        "'\\t' #이스케이핑 문자"
      ],
      "metadata": {
        "colab": {
          "base_uri": "https://localhost:8080/",
          "height": 35
        },
        "id": "A6z6GnVW6xNO",
        "outputId": "92c6b90b-fe90-421f-a6ad-95605e7664aa"
      },
      "execution_count": null,
      "outputs": [
        {
          "output_type": "execute_result",
          "data": {
            "text/plain": [
              "'\\t'"
            ],
            "application/vnd.google.colaboratory.intrinsic+json": {
              "type": "string"
            }
          },
          "metadata": {},
          "execution_count": 53
        }
      ]
    },
    {
      "cell_type": "code",
      "source": [
        "chr(65)"
      ],
      "metadata": {
        "colab": {
          "base_uri": "https://localhost:8080/",
          "height": 35
        },
        "id": "p0s_9ItT69xK",
        "outputId": "7d9953fb-d2c2-4e7b-ea09-628672431071"
      },
      "execution_count": null,
      "outputs": [
        {
          "output_type": "execute_result",
          "data": {
            "text/plain": [
              "'A'"
            ],
            "application/vnd.google.colaboratory.intrinsic+json": {
              "type": "string"
            }
          },
          "metadata": {},
          "execution_count": 54
        }
      ]
    },
    {
      "cell_type": "code",
      "source": [
        "#ord = ORDonal value (서수값)\n",
        "ord('A')"
      ],
      "metadata": {
        "colab": {
          "base_uri": "https://localhost:8080/"
        },
        "id": "knGU_kod7Bk2",
        "outputId": "aee8a365-6497-49d0-cb84-3870dc05aebd"
      },
      "execution_count": null,
      "outputs": [
        {
          "output_type": "execute_result",
          "data": {
            "text/plain": [
              "65"
            ]
          },
          "metadata": {},
          "execution_count": 55
        }
      ]
    },
    {
      "cell_type": "markdown",
      "source": [
        "# 문자열 이스케이프\n",
        "  - 문자를 사용할 때 충돌이 발생하는 경우들이 있습니다.\n",
        "  - 우리가 사용하는 문자로써가 아니라 파이썬 인터프리터에서 이미 용도가 정해진 문자들이죠.\n",
        "  - This's a dog    - 어퍼스트로피는 파이썬에서 이미 약속된 규칙으로 문자열의 앞뒤를 감싸주는 작은따옴표와 기호가 같습니다. -> 파이썬 인터프리터에서의 역할과 우리가 입력하는 자료로서의 역할이 충돌을 하는 것이죠.\n",
        "\n",
        "- 충돌을 막기 위해서 역슬래시(\\)뒤에 그 문자, 혹은 그 문자를 의미하는 약어를 사용하는 방법으로 충돌을 피하는 것 : 이스케이핑 이라고 부릅니다."
      ],
      "metadata": {
        "id": "l6knkXj_7J8R"
      }
    },
    {
      "cell_type": "code",
      "source": [
        "print('안녕하세요\\t좋은 아침입니다.')"
      ],
      "metadata": {
        "colab": {
          "base_uri": "https://localhost:8080/"
        },
        "id": "Sw5hzR7P7DsW",
        "outputId": "a306f961-6143-4e7a-e8e6-4fccdc2ccc16"
      },
      "execution_count": null,
      "outputs": [
        {
          "output_type": "stream",
          "name": "stdout",
          "text": [
            "안녕하세요\t좋은 아침입니다.\n"
          ]
        }
      ]
    },
    {
      "cell_type": "code",
      "source": [
        "print('안녕하세요 \\'좋은 아침입니다.')"
      ],
      "metadata": {
        "colab": {
          "base_uri": "https://localhost:8080/"
        },
        "id": "JUVvqD-p7xHU",
        "outputId": "c250d709-f160-4a04-fb48-0f0f909472b5"
      },
      "execution_count": null,
      "outputs": [
        {
          "output_type": "stream",
          "name": "stdout",
          "text": [
            "안녕하세요'좋은 아침입니다.\n"
          ]
        }
      ]
    },
    {
      "cell_type": "code",
      "source": [
        "print('\\'안녕하세요 좋은 아침입니다.\\'')"
      ],
      "metadata": {
        "colab": {
          "base_uri": "https://localhost:8080/"
        },
        "id": "Iyt8O_a977Va",
        "outputId": "75081b2f-d6d9-4b4e-aa7f-d0f9668f856a"
      },
      "execution_count": null,
      "outputs": [
        {
          "output_type": "stream",
          "name": "stdout",
          "text": [
            "'안녕하세요 좋은 아침입니다.'\n"
          ]
        }
      ]
    },
    {
      "cell_type": "markdown",
      "source": [
        "- 경로를 표현할 때도 많이 씁니다.\n",
        "- 특히 윈조우에서 경로를 표현할 때는 폴더와 폴더 사이의 구분자로 역슬래시를 많이 씁니다.\n",
        "\n",
        "'C:\\ITStudy\\01_pythonBasic'\n",
        "\n",
        "- 문자열 내에서 표현하기 힘든 문자들\n",
        "- 엔터 백스페이스 그리고 탭 이런것들\n",
        "- 표현하기 힘든 문자들을 입력하는 방법으로도 역슬래시는 많이 쓰입니다.\n",
        "\n"
      ],
      "metadata": {
        "id": "HYSjiRtO8LCO"
      }
    },
    {
      "cell_type": "code",
      "source": [
        "# \\n : CRLF\n",
        "print('안녕하세요\\n좋은 아침입니다.')"
      ],
      "metadata": {
        "colab": {
          "base_uri": "https://localhost:8080/"
        },
        "id": "zPfJdLsf8H5G",
        "outputId": "b5b8de75-833a-45c4-cc74-d97acb4efba9"
      },
      "execution_count": null,
      "outputs": [
        {
          "output_type": "stream",
          "name": "stdout",
          "text": [
            "안녕하세요\n",
            "좋은 아침입니다.\n"
          ]
        }
      ]
    },
    {
      "cell_type": "code",
      "source": [
        "# \\xhh : 16진수의 숫자를 ASCII 코드값에 해당하는 문자로 치환\n",
        "print('안녕하세요\\x0a좋은 아침입니다.')"
      ],
      "metadata": {
        "colab": {
          "base_uri": "https://localhost:8080/"
        },
        "id": "351PtrOW8oYI",
        "outputId": "beb35760-f0f7-435e-f75e-0b4b8956aeff"
      },
      "execution_count": null,
      "outputs": [
        {
          "output_type": "stream",
          "name": "stdout",
          "text": [
            "안녕하세요\n",
            "좋은 아침입니다.\n"
          ]
        }
      ]
    },
    {
      "cell_type": "code",
      "source": [
        "# \\b : Backspace\n",
        "print('안녕하세요\\b\\b좋은 아침입니다.')"
      ],
      "metadata": {
        "colab": {
          "base_uri": "https://localhost:8080/"
        },
        "id": "_9NqHs1A8uNW",
        "outputId": "0135dda1-27f4-4e4b-f40b-fd987acbb693"
      },
      "execution_count": null,
      "outputs": [
        {
          "output_type": "stream",
          "name": "stdout",
          "text": [
            "안녕하세요\b\b좋은 아침입니다.\n"
          ]
        }
      ]
    },
    {
      "cell_type": "markdown",
      "source": [
        "\\n : 뉴라인 - 문자열의 끝을 의미합니다. - 아 여기서 문자열이 끝이구나 라고 인식을 하게 됩니다. \n"
      ],
      "metadata": {
        "id": "JUnbKSb89Bie"
      }
    },
    {
      "cell_type": "code",
      "source": [
        "print('안녕하세요\\n좋은 아침입니다.')"
      ],
      "metadata": {
        "colab": {
          "base_uri": "https://localhost:8080/"
        },
        "id": "6Bf2f9P380i_",
        "outputId": "0b0c7942-2cc1-4c9d-8316-4ed004d6361b"
      },
      "execution_count": null,
      "outputs": [
        {
          "output_type": "stream",
          "name": "stdout",
          "text": [
            "안녕하세요\n",
            "좋은 아침입니다.\n"
          ]
        }
      ]
    },
    {
      "cell_type": "code",
      "source": [
        "print('안녕하세요\\n      좋은 아침입니다.')\n",
        "#줄 바꾼 후 공백 처리되어 결과 표시"
      ],
      "metadata": {
        "colab": {
          "base_uri": "https://localhost:8080/"
        },
        "id": "skmVoqvK9Ws-",
        "outputId": "1caa4c79-a5ee-47b0-df9d-89bc5a0145d2"
      },
      "execution_count": null,
      "outputs": [
        {
          "output_type": "stream",
          "name": "stdout",
          "text": [
            "안녕하세요\n",
            "      좋은 아침입니다.\n"
          ]
        }
      ]
    },
    {
      "cell_type": "markdown",
      "source": [
        "# 사칙연산 (+, -, /, *)\n",
        "  - 추가적인 사칙연산 : 지수연산(**) 몫연산 (//) 나머지 연산 (%)로 표기합니다.\n",
        "- 부호 (-)\n"
      ],
      "metadata": {
        "id": "KgKFsegC9fUT"
      }
    },
    {
      "cell_type": "code",
      "source": [
        "type(-3)"
      ],
      "metadata": {
        "colab": {
          "base_uri": "https://localhost:8080/"
        },
        "id": "Zu3H36Ty9YpA",
        "outputId": "52b2302e-8088-49ec-f979-3c7c2eff1104"
      },
      "execution_count": null,
      "outputs": [
        {
          "output_type": "execute_result",
          "data": {
            "text/plain": [
              "int"
            ]
          },
          "metadata": {},
          "execution_count": 66
        }
      ]
    },
    {
      "cell_type": "markdown",
      "source": [
        "- 논리연산자 - 불리언 연산자 (and, or, not) \n",
        "- 비교연산자\n",
        "  - `=` 같다라는 뜻 아닙니다 -> 프로그래밍 언어에서는 할당 연산자로 사용을 합니다.(대입의 개념 - 변수에 값을 넣는다)\n",
        "  - `==` 같다라는 뜻 -> 항등 연산자, 자료형 타입과 값을 함께 비교\n",
        "  - a = 3 a라는 변수명에 3을 넣겠다 \n",
        "  - ==, !=, >, <, >=, <="
      ],
      "metadata": {
        "id": "v5_mGNNF93S_"
      }
    },
    {
      "cell_type": "code",
      "source": [
        "'a' <= 'A'"
      ],
      "metadata": {
        "colab": {
          "base_uri": "https://localhost:8080/"
        },
        "id": "DJuqOx_g9zps",
        "outputId": "c3a14d4f-e283-43bf-eb42-266c1511cb1b"
      },
      "execution_count": null,
      "outputs": [
        {
          "output_type": "execute_result",
          "data": {
            "text/plain": [
              "False"
            ]
          },
          "metadata": {},
          "execution_count": 69
        }
      ]
    },
    {
      "cell_type": "code",
      "source": [
        "1+2"
      ],
      "metadata": {
        "colab": {
          "base_uri": "https://localhost:8080/"
        },
        "id": "G0LzEuJDAyMg",
        "outputId": "69841af9-a8d9-496c-bba9-641d7df7aef9"
      },
      "execution_count": null,
      "outputs": [
        {
          "output_type": "execute_result",
          "data": {
            "text/plain": [
              "3"
            ]
          },
          "metadata": {},
          "execution_count": 74
        }
      ]
    },
    {
      "cell_type": "code",
      "source": [
        "1-2"
      ],
      "metadata": {
        "colab": {
          "base_uri": "https://localhost:8080/"
        },
        "id": "pTqO0yTzBRXm",
        "outputId": "9bfd1e64-598b-44a0-da45-6def0127329b"
      },
      "execution_count": null,
      "outputs": [
        {
          "output_type": "execute_result",
          "data": {
            "text/plain": [
              "-1"
            ]
          },
          "metadata": {},
          "execution_count": 75
        }
      ]
    },
    {
      "cell_type": "code",
      "source": [
        "1*2"
      ],
      "metadata": {
        "colab": {
          "base_uri": "https://localhost:8080/"
        },
        "id": "TPok0j40BSR3",
        "outputId": "b821ad4a-c06f-4037-b80e-788154382797"
      },
      "execution_count": null,
      "outputs": [
        {
          "output_type": "execute_result",
          "data": {
            "text/plain": [
              "2"
            ]
          },
          "metadata": {},
          "execution_count": 76
        }
      ]
    },
    {
      "cell_type": "code",
      "source": [
        "1/2"
      ],
      "metadata": {
        "colab": {
          "base_uri": "https://localhost:8080/"
        },
        "id": "KyS61heLBTV3",
        "outputId": "11167510-2a32-4714-baa9-f74c0f57fca9"
      },
      "execution_count": null,
      "outputs": [
        {
          "output_type": "execute_result",
          "data": {
            "text/plain": [
              "0.5"
            ]
          },
          "metadata": {},
          "execution_count": 77
        }
      ]
    },
    {
      "cell_type": "code",
      "source": [
        "0.5 + 0.5"
      ],
      "metadata": {
        "colab": {
          "base_uri": "https://localhost:8080/"
        },
        "id": "ZYxfNpXiBUOm",
        "outputId": "0c8698da-14b7-49d3-d876-229cd7cc141c"
      },
      "execution_count": null,
      "outputs": [
        {
          "output_type": "execute_result",
          "data": {
            "text/plain": [
              "1.0"
            ]
          },
          "metadata": {},
          "execution_count": 78
        }
      ]
    },
    {
      "cell_type": "code",
      "source": [
        "2 ** 2"
      ],
      "metadata": {
        "colab": {
          "base_uri": "https://localhost:8080/"
        },
        "id": "FpOMGTQXBa7-",
        "outputId": "6990c054-9758-485a-d8cf-68c46f2d972f"
      },
      "execution_count": null,
      "outputs": [
        {
          "output_type": "execute_result",
          "data": {
            "text/plain": [
              "4"
            ]
          },
          "metadata": {},
          "execution_count": 79
        }
      ]
    },
    {
      "cell_type": "code",
      "source": [
        "3 // 1"
      ],
      "metadata": {
        "colab": {
          "base_uri": "https://localhost:8080/"
        },
        "id": "52dbAMniBniv",
        "outputId": "a8f50e2f-b2e4-4a75-f4e6-099c726f6b3c"
      },
      "execution_count": null,
      "outputs": [
        {
          "output_type": "execute_result",
          "data": {
            "text/plain": [
              "3"
            ]
          },
          "metadata": {},
          "execution_count": 80
        }
      ]
    },
    {
      "cell_type": "code",
      "source": [
        "3 % 1"
      ],
      "metadata": {
        "colab": {
          "base_uri": "https://localhost:8080/"
        },
        "id": "gfg-GFi3BqOy",
        "outputId": "9eea7982-fd73-427d-bb57-3119d98b20a8"
      },
      "execution_count": null,
      "outputs": [
        {
          "output_type": "execute_result",
          "data": {
            "text/plain": [
              "0"
            ]
          },
          "metadata": {},
          "execution_count": 81
        }
      ]
    },
    {
      "cell_type": "code",
      "source": [
        "#문자열끼리 + 연산은 가능 (이어서 합친다는 개념)\n",
        "'hello' + 'python'"
      ],
      "metadata": {
        "colab": {
          "base_uri": "https://localhost:8080/",
          "height": 35
        },
        "id": "IQnSl0iGBxOv",
        "outputId": "7611820b-9278-474b-f44e-c90e75c7c676"
      },
      "execution_count": null,
      "outputs": [
        {
          "output_type": "execute_result",
          "data": {
            "text/plain": [
              "'hellopython'"
            ],
            "application/vnd.google.colaboratory.intrinsic+json": {
              "type": "string"
            }
          },
          "metadata": {},
          "execution_count": 82
        }
      ]
    },
    {
      "cell_type": "code",
      "source": [
        "# - 연산은 불가능\n",
        "'hello' - 'python'"
      ],
      "metadata": {
        "colab": {
          "base_uri": "https://localhost:8080/",
          "height": 172
        },
        "id": "BHjjaXxlB-KP",
        "outputId": "f26621a0-0d73-4020-b07f-dda5cffdfd14"
      },
      "execution_count": null,
      "outputs": [
        {
          "output_type": "error",
          "ename": "TypeError",
          "evalue": "ignored",
          "traceback": [
            "\u001b[0;31m---------------------------------------------------------------------------\u001b[0m",
            "\u001b[0;31mTypeError\u001b[0m                                 Traceback (most recent call last)",
            "\u001b[0;32m<ipython-input-83-7432b740be45>\u001b[0m in \u001b[0;36m<module>\u001b[0;34m()\u001b[0m\n\u001b[0;32m----> 1\u001b[0;31m \u001b[0;34m'hello'\u001b[0m \u001b[0;34m-\u001b[0m \u001b[0;34m'python'\u001b[0m\u001b[0;34m\u001b[0m\u001b[0;34m\u001b[0m\u001b[0m\n\u001b[0m",
            "\u001b[0;31mTypeError\u001b[0m: unsupported operand type(s) for -: 'str' and 'str'"
          ]
        }
      ]
    },
    {
      "cell_type": "code",
      "source": [
        "#같은 문자열을 반복하여 출력\n",
        "'hello'*3"
      ],
      "metadata": {
        "colab": {
          "base_uri": "https://localhost:8080/",
          "height": 35
        },
        "id": "PIjFt46MCAnW",
        "outputId": "a6798aba-b8bb-4496-a3bc-37c928799efc"
      },
      "execution_count": null,
      "outputs": [
        {
          "output_type": "execute_result",
          "data": {
            "text/plain": [
              "'hellohellohello'"
            ],
            "application/vnd.google.colaboratory.intrinsic+json": {
              "type": "string"
            }
          },
          "metadata": {},
          "execution_count": 84
        }
      ]
    },
    {
      "cell_type": "code",
      "source": [
        "#문자열끼리의 *연산은 불가능\n",
        "'hello' * '3'"
      ],
      "metadata": {
        "colab": {
          "base_uri": "https://localhost:8080/",
          "height": 172
        },
        "id": "R2qtW5itCEXX",
        "outputId": "0212339f-ff9e-4c7a-8e41-1f20fc57d170"
      },
      "execution_count": null,
      "outputs": [
        {
          "output_type": "error",
          "ename": "TypeError",
          "evalue": "ignored",
          "traceback": [
            "\u001b[0;31m---------------------------------------------------------------------------\u001b[0m",
            "\u001b[0;31mTypeError\u001b[0m                                 Traceback (most recent call last)",
            "\u001b[0;32m<ipython-input-85-9d9e004ca2ee>\u001b[0m in \u001b[0;36m<module>\u001b[0;34m()\u001b[0m\n\u001b[0;32m----> 1\u001b[0;31m \u001b[0;34m'hello'\u001b[0m \u001b[0;34m*\u001b[0m \u001b[0;34m'3'\u001b[0m\u001b[0;34m\u001b[0m\u001b[0;34m\u001b[0m\u001b[0m\n\u001b[0m",
            "\u001b[0;31mTypeError\u001b[0m: can't multiply sequence by non-int of type 'str'"
          ]
        }
      ]
    },
    {
      "cell_type": "markdown",
      "source": [
        "우선순위\n",
        "\n",
        " ()  >  **  > -(negative)  >  *, /, //, %  > +, - \n",
        "\n",
        " - 따로 우선순위를 외우시는 건 추천하지 않습니다.\n",
        " - ( ) 괄호로 우선 연산해야 하는 것들을 꼭 묶어주세요. \n",
        " - 남들이랑 같이 개발할 거잖아요 - 가독성 면에서도 큰 도움이 됩니다. "
      ],
      "metadata": {
        "id": "1s7NXg2tCNPH"
      }
    },
    {
      "cell_type": "code",
      "source": [
        "(1+3) / 2"
      ],
      "metadata": {
        "colab": {
          "base_uri": "https://localhost:8080/"
        },
        "id": "829iEC5pCHBw",
        "outputId": "52a0d035-f2ad-4c3b-fb9b-f5c9162aa9d9"
      },
      "execution_count": null,
      "outputs": [
        {
          "output_type": "execute_result",
          "data": {
            "text/plain": [
              "2.0"
            ]
          },
          "metadata": {},
          "execution_count": 86
        }
      ]
    },
    {
      "cell_type": "code",
      "source": [
        "1+3 / 2"
      ],
      "metadata": {
        "colab": {
          "base_uri": "https://localhost:8080/"
        },
        "id": "W0X0X_CKCYiu",
        "outputId": "bcef6a0a-079f-48a1-d47a-785d91656435"
      },
      "execution_count": null,
      "outputs": [
        {
          "output_type": "execute_result",
          "data": {
            "text/plain": [
              "2.5"
            ]
          },
          "metadata": {},
          "execution_count": 87
        }
      ]
    },
    {
      "cell_type": "markdown",
      "source": [
        "## 논리 연산\n",
        "- and, or, not \n",
        "- 명제들간 연산의 결과를 논리적으로 표현하는 방법입니다.\n",
        "\n",
        "  - 명제 : 참/거짓을 구분할 수 있는 모든 문장\n",
        "  - True / False를 실행결과로 반환할 수 있는 모든 명령어를 의미합니다.\n",
        "\n",
        "  \n",
        "| A | B |AND | OR | not A | not B |\n",
        "|:---:|:---:|:---:|:---:|:---:|:---:|\n",
        "|T|T|T|T|F|F|\n",
        "|T|F|F|T|F|T|\n",
        "|F|T|F|T|T|F|\n",
        "|F|F|F|F|T|T|\n",
        "\n",
        "\n",
        "- 세상에 완전히 새로운 생각은 없다. \n",
        "- 기존에 했던 생각에 and, or, not 세개를 붙인 생각만이 있을 뿐이다.\n",
        "\n",
        "\n",
        "- 우선순위\n",
        "not > and > or"
      ],
      "metadata": {
        "id": "iTmE2bQVCtJE"
      }
    },
    {
      "cell_type": "code",
      "source": [
        "1 == 1"
      ],
      "metadata": {
        "colab": {
          "base_uri": "https://localhost:8080/"
        },
        "id": "DTt5qC6_CaPX",
        "outputId": "369eed4a-8b4d-475b-a71e-8ec3d2798059"
      },
      "execution_count": null,
      "outputs": [
        {
          "output_type": "execute_result",
          "data": {
            "text/plain": [
              "True"
            ]
          },
          "metadata": {},
          "execution_count": 88
        }
      ]
    },
    {
      "cell_type": "code",
      "source": [
        "1 == 2"
      ],
      "metadata": {
        "colab": {
          "base_uri": "https://localhost:8080/"
        },
        "id": "BznmtSyqD1N-",
        "outputId": "61836aaf-4c6f-4652-a1d8-f11d60cbad58"
      },
      "execution_count": null,
      "outputs": [
        {
          "output_type": "execute_result",
          "data": {
            "text/plain": [
              "False"
            ]
          },
          "metadata": {},
          "execution_count": 89
        }
      ]
    },
    {
      "cell_type": "code",
      "source": [
        "1 == 1 and 1 == 2"
      ],
      "metadata": {
        "colab": {
          "base_uri": "https://localhost:8080/"
        },
        "id": "NpFn2NaCD3nX",
        "outputId": "a49755ab-3ed9-431e-a0ce-d1ac335982c3"
      },
      "execution_count": null,
      "outputs": [
        {
          "output_type": "execute_result",
          "data": {
            "text/plain": [
              "False"
            ]
          },
          "metadata": {},
          "execution_count": 90
        }
      ]
    },
    {
      "cell_type": "code",
      "source": [
        "# 1과 1이 같고, 1과 2가 같거나 1과 3이 같은 경우\n",
        "1 == 1 and 1 == 2 or 1 == 3"
      ],
      "metadata": {
        "colab": {
          "base_uri": "https://localhost:8080/"
        },
        "id": "9zEl29T-D-5o",
        "outputId": "b3845c99-fa08-4866-f4b6-691174209f8c"
      },
      "execution_count": null,
      "outputs": [
        {
          "output_type": "execute_result",
          "data": {
            "text/plain": [
              "False"
            ]
          },
          "metadata": {},
          "execution_count": 91
        }
      ]
    },
    {
      "cell_type": "code",
      "source": [
        "# 1과 1이 같거나 1과 2가 같고 1과 3이 같으면\n",
        "#  True or (False           )\n",
        "1 == 1 or 1 == 2 and 1 == 3"
      ],
      "metadata": {
        "colab": {
          "base_uri": "https://localhost:8080/"
        },
        "id": "gOVo3EzWEFVb",
        "outputId": "fbbf6ccc-35be-47b2-8faa-d7e3c9f537f2"
      },
      "execution_count": null,
      "outputs": [
        {
          "output_type": "execute_result",
          "data": {
            "text/plain": [
              "True"
            ]
          },
          "metadata": {},
          "execution_count": 92
        }
      ]
    },
    {
      "cell_type": "markdown",
      "source": [
        " not > and > or"
      ],
      "metadata": {
        "id": "vaB9HiXLEhlv"
      }
    },
    {
      "cell_type": "code",
      "source": [
        "#(True           ) and  False\n",
        "(1 == 1 or 1 == 2) and 1 == 3"
      ],
      "metadata": {
        "colab": {
          "base_uri": "https://localhost:8080/"
        },
        "id": "VLR_viTlEQd3",
        "outputId": "ad5325e8-183a-4810-f771-572c9997d9f4"
      },
      "execution_count": null,
      "outputs": [
        {
          "output_type": "execute_result",
          "data": {
            "text/plain": [
              "False"
            ]
          },
          "metadata": {},
          "execution_count": 93
        }
      ]
    },
    {
      "cell_type": "code",
      "source": [
        "# True       and True\n",
        "( 20 != 10 ) and 20 != 2"
      ],
      "metadata": {
        "colab": {
          "base_uri": "https://localhost:8080/"
        },
        "id": "3oTLEKfFEZqf",
        "outputId": "4c8fa972-cfed-4d6f-a4af-5a42246e0a0d"
      },
      "execution_count": null,
      "outputs": [
        {
          "output_type": "execute_result",
          "data": {
            "text/plain": [
              "True"
            ]
          },
          "metadata": {},
          "execution_count": 94
        }
      ]
    },
    {
      "cell_type": "code",
      "source": [
        "# 정호님 \n",
        "#  False           or not( False )             and True\n",
        "(ord('A') == 54 or (not ord('a') == 65)) and \"BB\" == chr(66) * 2"
      ],
      "metadata": {
        "colab": {
          "base_uri": "https://localhost:8080/"
        },
        "id": "vaiGKmG7GN43",
        "outputId": "6fc75c0e-b095-410d-926a-b3183d73c1f8"
      },
      "execution_count": null,
      "outputs": [
        {
          "output_type": "execute_result",
          "data": {
            "text/plain": [
              "True"
            ]
          },
          "metadata": {},
          "execution_count": 96
        }
      ]
    },
    {
      "cell_type": "code",
      "source": [
        "ord('A') == 54 or not ord('a') == 65 and \"BB\" == chr(66) * 2\n",
        "# 괄호로 깔끔하게 순서정리를 해주셨다 -> 커뮤니케이션하기 좋은 개발자다"
      ],
      "metadata": {
        "colab": {
          "base_uri": "https://localhost:8080/"
        },
        "id": "Xxw0F_jKGP35",
        "outputId": "c8220645-2d30-485c-e73f-46555e8974d5"
      },
      "execution_count": null,
      "outputs": [
        {
          "output_type": "execute_result",
          "data": {
            "text/plain": [
              "True"
            ]
          },
          "metadata": {},
          "execution_count": 95
        }
      ]
    },
    {
      "cell_type": "code",
      "source": [
        "ord('A') == 54 "
      ],
      "metadata": {
        "colab": {
          "base_uri": "https://localhost:8080/"
        },
        "id": "1vmBrJnQG-PP",
        "outputId": "c3e3bfa3-061f-45e1-8172-8123718cca72"
      },
      "execution_count": null,
      "outputs": [
        {
          "output_type": "execute_result",
          "data": {
            "text/plain": [
              "False"
            ]
          },
          "metadata": {},
          "execution_count": 97
        }
      ]
    },
    {
      "cell_type": "code",
      "source": [
        "ord('A')"
      ],
      "metadata": {
        "colab": {
          "base_uri": "https://localhost:8080/"
        },
        "id": "KFL5Pc0UHFR_",
        "outputId": "655faad1-dd01-42c3-b372-1e5c9bdf43d7"
      },
      "execution_count": null,
      "outputs": [
        {
          "output_type": "execute_result",
          "data": {
            "text/plain": [
              "65"
            ]
          },
          "metadata": {},
          "execution_count": 99
        }
      ]
    },
    {
      "cell_type": "code",
      "source": [
        "not ord('a') == 65"
      ],
      "metadata": {
        "colab": {
          "base_uri": "https://localhost:8080/"
        },
        "id": "uHddNRSjHH3H",
        "outputId": "337da2f3-bf76-474e-f597-d2ce3717173b"
      },
      "execution_count": null,
      "outputs": [
        {
          "output_type": "execute_result",
          "data": {
            "text/plain": [
              "True"
            ]
          },
          "metadata": {},
          "execution_count": 100
        }
      ]
    },
    {
      "cell_type": "code",
      "source": [
        "ord('a')"
      ],
      "metadata": {
        "colab": {
          "base_uri": "https://localhost:8080/"
        },
        "id": "UPwoOe79HMu2",
        "outputId": "526eb61d-d2ce-437c-986f-dac1d138648d"
      },
      "execution_count": null,
      "outputs": [
        {
          "output_type": "execute_result",
          "data": {
            "text/plain": [
              "97"
            ]
          },
          "metadata": {},
          "execution_count": 102
        }
      ]
    },
    {
      "cell_type": "code",
      "source": [
        "\"BB\" == chr(66) * 2"
      ],
      "metadata": {
        "colab": {
          "base_uri": "https://localhost:8080/"
        },
        "id": "1dkEAMUNHO85",
        "outputId": "711dd648-016a-4541-d73c-4cb0955a6f9a"
      },
      "execution_count": null,
      "outputs": [
        {
          "output_type": "execute_result",
          "data": {
            "text/plain": [
              "True"
            ]
          },
          "metadata": {},
          "execution_count": 103
        }
      ]
    },
    {
      "cell_type": "code",
      "source": [
        " chr(66) * 2"
      ],
      "metadata": {
        "colab": {
          "base_uri": "https://localhost:8080/",
          "height": 35
        },
        "id": "e0sgix8LHTmw",
        "outputId": "6c31fd0e-83dd-4ee4-fc91-e79fa7b15e0b"
      },
      "execution_count": null,
      "outputs": [
        {
          "output_type": "execute_result",
          "data": {
            "text/plain": [
              "'BB'"
            ],
            "application/vnd.google.colaboratory.intrinsic+json": {
              "type": "string"
            }
          },
          "metadata": {},
          "execution_count": 104
        }
      ]
    },
    {
      "cell_type": "markdown",
      "source": [
        "# 타입변환\n",
        "\n",
        "- 자료형을 자기가 알아서 지정해준다\n",
        "- 자유롭게 형변환도 허락을 합니다.\n",
        "- str(), int(), float(), bool()"
      ],
      "metadata": {
        "id": "904mzqzEH3Y6"
      }
    },
    {
      "cell_type": "code",
      "source": [
        "a = str(2980788158938575)"
      ],
      "metadata": {
        "id": "JoGXDsnqHVG4"
      },
      "execution_count": null,
      "outputs": []
    },
    {
      "cell_type": "code",
      "source": [
        "type(str(2980788158938575))"
      ],
      "metadata": {
        "colab": {
          "base_uri": "https://localhost:8080/"
        },
        "id": "1__Siiy-IJ8q",
        "outputId": "187cf97d-dfdf-4b48-ac97-a45a2bbd7ade"
      },
      "execution_count": null,
      "outputs": [
        {
          "output_type": "execute_result",
          "data": {
            "text/plain": [
              "str"
            ]
          },
          "metadata": {},
          "execution_count": 106
        }
      ]
    },
    {
      "cell_type": "code",
      "source": [
        "a"
      ],
      "metadata": {
        "colab": {
          "base_uri": "https://localhost:8080/",
          "height": 35
        },
        "id": "yzFhvHrVIQfu",
        "outputId": "bfc3b1a5-e14f-40e7-e09a-bf4ffd90635d"
      },
      "execution_count": null,
      "outputs": [
        {
          "output_type": "execute_result",
          "data": {
            "text/plain": [
              "'2980788158938575'"
            ],
            "application/vnd.google.colaboratory.intrinsic+json": {
              "type": "string"
            }
          },
          "metadata": {},
          "execution_count": 108
        }
      ]
    },
    {
      "cell_type": "code",
      "source": [
        "int(a)"
      ],
      "metadata": {
        "colab": {
          "base_uri": "https://localhost:8080/"
        },
        "id": "wmboKCBSITyy",
        "outputId": "10996600-ed4e-4865-8115-e56a9040c5cf"
      },
      "execution_count": null,
      "outputs": [
        {
          "output_type": "execute_result",
          "data": {
            "text/plain": [
              "2980788158938575"
            ]
          },
          "metadata": {},
          "execution_count": 109
        }
      ]
    },
    {
      "cell_type": "code",
      "source": [
        ""
      ],
      "metadata": {
        "colab": {
          "base_uri": "https://localhost:8080/",
          "height": 172
        },
        "id": "cvpZpZbzIXUG",
        "outputId": "dea4d585-be0c-4540-9948-f9960874a959"
      },
      "execution_count": null,
      "outputs": [
        {
          "output_type": "error",
          "ename": "ValueError",
          "evalue": "ignored",
          "traceback": [
            "\u001b[0;31m---------------------------------------------------------------------------\u001b[0m",
            "\u001b[0;31mValueError\u001b[0m                                Traceback (most recent call last)",
            "\u001b[0;32m<ipython-input-110-9fdaef6f037b>\u001b[0m in \u001b[0;36m<module>\u001b[0;34m()\u001b[0m\n\u001b[0;32m----> 1\u001b[0;31m \u001b[0mint\u001b[0m\u001b[0;34m(\u001b[0m\u001b[0;34m'adio354646'\u001b[0m\u001b[0;34m)\u001b[0m\u001b[0;34m\u001b[0m\u001b[0;34m\u001b[0m\u001b[0m\n\u001b[0m",
            "\u001b[0;31mValueError\u001b[0m: invalid literal for int() with base 10: 'adio354646'"
          ]
        }
      ]
    },
    {
      "cell_type": "code",
      "source": [
        "float(a)"
      ],
      "metadata": {
        "colab": {
          "base_uri": "https://localhost:8080/"
        },
        "id": "9iHftEUkIbtn",
        "outputId": "1b1bb950-2080-4926-b528-812657737f06"
      },
      "execution_count": null,
      "outputs": [
        {
          "output_type": "execute_result",
          "data": {
            "text/plain": [
              "2980788158938575.0"
            ]
          },
          "metadata": {},
          "execution_count": 111
        }
      ]
    },
    {
      "cell_type": "code",
      "source": [
        "a = 3.14"
      ],
      "metadata": {
        "id": "Cmqc0TXRIkyv"
      },
      "execution_count": null,
      "outputs": []
    },
    {
      "cell_type": "code",
      "source": [
        "type(a)"
      ],
      "metadata": {
        "colab": {
          "base_uri": "https://localhost:8080/"
        },
        "id": "Q7JUTRRSIq6n",
        "outputId": "9bb65acb-b4f8-4525-d847-930f0d08d86f"
      },
      "execution_count": null,
      "outputs": [
        {
          "output_type": "execute_result",
          "data": {
            "text/plain": [
              "float"
            ]
          },
          "metadata": {},
          "execution_count": 113
        }
      ]
    },
    {
      "cell_type": "code",
      "source": [
        "int(a)"
      ],
      "metadata": {
        "colab": {
          "base_uri": "https://localhost:8080/"
        },
        "id": "kzM6WTOeIsG_",
        "outputId": "2f400418-63e2-429b-f881-d69326a2ad60"
      },
      "execution_count": null,
      "outputs": [
        {
          "output_type": "execute_result",
          "data": {
            "text/plain": [
              "3"
            ]
          },
          "metadata": {},
          "execution_count": 114
        }
      ]
    },
    {
      "cell_type": "code",
      "source": [
        "a = 3.66"
      ],
      "metadata": {
        "id": "u8b93T8mItbv"
      },
      "execution_count": null,
      "outputs": []
    },
    {
      "cell_type": "code",
      "source": [
        "# round - 반올림 하는 메소드\n",
        "int(round(a))"
      ],
      "metadata": {
        "colab": {
          "base_uri": "https://localhost:8080/"
        },
        "id": "jbp2K4kPIwku",
        "outputId": "6fecf8e7-479a-44f1-84e9-162cfc262125"
      },
      "execution_count": null,
      "outputs": [
        {
          "output_type": "execute_result",
          "data": {
            "text/plain": [
              "4"
            ]
          },
          "metadata": {},
          "execution_count": 117
        }
      ]
    },
    {
      "cell_type": "code",
      "source": [
        "a"
      ],
      "metadata": {
        "colab": {
          "base_uri": "https://localhost:8080/"
        },
        "id": "3UjOWouLIx79",
        "outputId": "64c9a9c8-9d5a-429c-ba5f-289977548f67"
      },
      "execution_count": null,
      "outputs": [
        {
          "output_type": "execute_result",
          "data": {
            "text/plain": [
              "3.66"
            ]
          },
          "metadata": {},
          "execution_count": 118
        }
      ]
    },
    {
      "cell_type": "code",
      "source": [
        "# round(값, 소수점이하 n째자리수)\n",
        "round(a, 1)"
      ],
      "metadata": {
        "colab": {
          "base_uri": "https://localhost:8080/"
        },
        "id": "IucKUWPwI6bK",
        "outputId": "260e59e4-03ce-4266-b30e-6bd864f9a4de"
      },
      "execution_count": null,
      "outputs": [
        {
          "output_type": "execute_result",
          "data": {
            "text/plain": [
              "3.7"
            ]
          },
          "metadata": {},
          "execution_count": 119
        }
      ]
    },
    {
      "cell_type": "markdown",
      "source": [
        "문자열을 정수나 실수로 반환하는 경우\n",
        "- 문자열 내에 문자들이 전부 10진수 정수 형태의 문자만 있어야 합니다."
      ],
      "metadata": {
        "id": "vAGNoudGJHU4"
      }
    },
    {
      "cell_type": "code",
      "source": [
        "# str -> int로 형변환할 때 - 무조건 숫자만 들어있어야 합니다. \n",
        "int('adio354646')"
      ],
      "metadata": {
        "id": "Y_uEdLnRJA1H"
      },
      "execution_count": null,
      "outputs": []
    },
    {
      "cell_type": "markdown",
      "source": [
        "# bool\n",
        "- 변환하는데 규칙이 있습니다.\n",
        "  - 어떤 타입이든 다 변환이 가능해요. True/False\n",
        "  - True인 경우 0이 아닌 비어있지 않은 모든 값\n",
        "  - False - 빈문자, 빈객체, 0이 다 거짓이 되겠죠"
      ],
      "metadata": {
        "id": "NGDaI76OJRZH"
      }
    },
    {
      "cell_type": "code",
      "source": [
        "bool(1)"
      ],
      "metadata": {
        "colab": {
          "base_uri": "https://localhost:8080/"
        },
        "id": "dukJKrPlJgot",
        "outputId": "ae064f6d-b2e7-4544-8c84-99995acbcfae"
      },
      "execution_count": null,
      "outputs": [
        {
          "output_type": "execute_result",
          "data": {
            "text/plain": [
              "True"
            ]
          },
          "metadata": {},
          "execution_count": 120
        }
      ]
    },
    {
      "cell_type": "code",
      "source": [
        "bool('안녕하세요')"
      ],
      "metadata": {
        "colab": {
          "base_uri": "https://localhost:8080/"
        },
        "id": "9NK57feVJh5n",
        "outputId": "db6dbdaf-fb3c-465e-90a5-3791545839f1"
      },
      "execution_count": null,
      "outputs": [
        {
          "output_type": "execute_result",
          "data": {
            "text/plain": [
              "True"
            ]
          },
          "metadata": {},
          "execution_count": 121
        }
      ]
    },
    {
      "cell_type": "code",
      "source": [
        "bool(0)"
      ],
      "metadata": {
        "colab": {
          "base_uri": "https://localhost:8080/"
        },
        "id": "oT-3jdzQJjkl",
        "outputId": "d1140fe8-99e3-4e43-c447-c25b35715970"
      },
      "execution_count": null,
      "outputs": [
        {
          "output_type": "execute_result",
          "data": {
            "text/plain": [
              "False"
            ]
          },
          "metadata": {},
          "execution_count": 122
        }
      ]
    },
    {
      "cell_type": "code",
      "source": [
        "bool('')"
      ],
      "metadata": {
        "colab": {
          "base_uri": "https://localhost:8080/"
        },
        "id": "csQlcrl_Jns-",
        "outputId": "a5975006-b63f-454d-93e8-dc44338b5b7b"
      },
      "execution_count": null,
      "outputs": [
        {
          "output_type": "execute_result",
          "data": {
            "text/plain": [
              "False"
            ]
          },
          "metadata": {},
          "execution_count": 123
        }
      ]
    },
    {
      "cell_type": "code",
      "source": [
        "bool()"
      ],
      "metadata": {
        "colab": {
          "base_uri": "https://localhost:8080/"
        },
        "id": "PUWirgWPJqff",
        "outputId": "ba9418bb-2c23-4cbc-8138-0b2de71ffc31"
      },
      "execution_count": null,
      "outputs": [
        {
          "output_type": "execute_result",
          "data": {
            "text/plain": [
              "False"
            ]
          },
          "metadata": {},
          "execution_count": 124
        }
      ]
    },
    {
      "cell_type": "markdown",
      "source": [
        "# 메모리(Memory)\n",
        "- RAM (Random Access Memory)\n",
        "- 주기억장치 라고 부릅니다.\n",
        "- 보조기억장치에 자료들을 넣어놓고 주기억장치에 있는 프로그램으로 자료들을 불러와서 crud합니다. \n",
        "  - 자료가 보조기억장치에 있을때 **`파일`**이라고 부릅니다.\n",
        "\n",
        "\n",
        "- 주기억장치\n",
        "  - 프로그램이 실행중인 동안은 반드시 메모리에 있어야 합니다. \n",
        "  - 다루려는 자료도 메모리에 있어야 합니다.\n",
        "  - **`실행중인 프로그램`**에서 자료를 저장할 수 있는 공간\n",
        "  - 메모리 어딘가에 보조기억장치에서 불러온 파일의 내용을 저장해두고 두고두고 꺼내쓰는 개념입니다.\n",
        "  - 메모리에 저장해두고 불러오기 위해서 이름을 지어주는 것을 '변수'라고 부릅니다.\n",
        "\n",
        "\n",
        "- 주소값이 할당이 됩니다\n",
        "  - 변수명을 입혀줘서 다시 불러올 수 있게 만들면 되는 거죠. \n",
        "  - 파이썬은 변수를 주소 기준으로 식별을 하고요.\n",
        "  - 자료는 비트 형태로 저장이 되고 1바이트(8비트)마다 번호를 부여를 합니다.\n",
        "\n",
        "  - 메모리 크기가 크기 때문에 주소값도 당연히 길겠죠\n",
        "  - 10진수보다 16진수를 컴퓨터 프로그래밍에서 많이 사용하는 이유가 이것때문입니다. \n"
      ],
      "metadata": {
        "id": "l3FaHJiFJwxN"
      }
    },
    {
      "cell_type": "markdown",
      "source": [
        "- 변수 : 긴 숫자로 되어있는 메모리 속 주소에 이름을 달아주는 것"
      ],
      "metadata": {
        "id": "Egx8BPshMCK8"
      }
    },
    {
      "cell_type": "code",
      "source": [
        "var = 18989797894789"
      ],
      "metadata": {
        "id": "vEdQMgczJtH_"
      },
      "execution_count": null,
      "outputs": []
    },
    {
      "cell_type": "code",
      "source": [
        "var"
      ],
      "metadata": {
        "colab": {
          "base_uri": "https://localhost:8080/"
        },
        "id": "Xn_REj54PIgz",
        "outputId": "5e077c47-702e-4cf9-a91c-0e97b48e8210"
      },
      "execution_count": null,
      "outputs": [
        {
          "output_type": "execute_result",
          "data": {
            "text/plain": [
              "18989797894789"
            ]
          },
          "metadata": {},
          "execution_count": 12
        }
      ]
    },
    {
      "cell_type": "code",
      "source": [
        "#주소값 확인하는 법\n",
        "id(var)"
      ],
      "metadata": {
        "colab": {
          "base_uri": "https://localhost:8080/"
        },
        "id": "ldw_68ngPJhf",
        "outputId": "e8fbc317-7c06-44e6-f11a-3335a435c458"
      },
      "execution_count": null,
      "outputs": [
        {
          "output_type": "execute_result",
          "data": {
            "text/plain": [
              "139849584647120"
            ]
          },
          "metadata": {},
          "execution_count": 13
        }
      ]
    },
    {
      "cell_type": "code",
      "source": [
        "#주소값을 16진수로 확인(훨씬 줄어듦!)\n",
        "hex(id(var))"
      ],
      "metadata": {
        "colab": {
          "base_uri": "https://localhost:8080/",
          "height": 35
        },
        "id": "3USWuoX1PMcw",
        "outputId": "8ca979d2-bbaa-4ad2-b701-32b908bf6f8f"
      },
      "execution_count": null,
      "outputs": [
        {
          "output_type": "execute_result",
          "data": {
            "text/plain": [
              "'0x7f3144d09bd0'"
            ],
            "application/vnd.google.colaboratory.intrinsic+json": {
              "type": "string"
            }
          },
          "metadata": {},
          "execution_count": 15
        }
      ]
    },
    {
      "cell_type": "markdown",
      "source": [
        "# 변수명명법\n",
        "- 이름은 결국 개발자가 지어주는 거죠\n",
        "- 파이썬은 한글 변수명도 만들 수 있습니다 `UTF-8`\n",
        "- 영문 대/소문자, 숫자, 한글 다 쓸 수 있어요\n",
        "- 특수문자도 쓸 수는 있어요. 쓰지 않는 편입니다. _ 말고는 거의 쓰지 않습니다.\n",
        "- 숫자를 변수명의 앞에는 쓸 수 없습니다.\n",
        "\n",
        "- 파이썬이 권장하는 변수 이름을 짓는 방법이 있겠죠\n",
        "  - 시작은 소문자 \n",
        "  - 인터프리터가 이미 사용하고 있는 단어는 사용하지 않는 것이 좋습니다. (True, int 이런단어도 변수명으로 쓸 수 있어요)\n",
        "  - 저 명령어는 사용하지 못합니다.\n",
        "   \n",
        "  - 해당 언어가 이미 사용하고 있는 단어 (예약어, keyword) \n",
        "  - IDE 들은 대부분 예약어나 피해야할 변수명에 색깔을 칠해줍니다.\n",
        "\n",
        "  \n"
      ],
      "metadata": {
        "id": "LTFGoNDePnu6"
      }
    },
    {
      "cell_type": "code",
      "source": [
        "int = 100"
      ],
      "metadata": {
        "id": "BLG0wvMcQyIC"
      },
      "execution_count": null,
      "outputs": []
    },
    {
      "cell_type": "code",
      "source": [
        "int"
      ],
      "metadata": {
        "colab": {
          "base_uri": "https://localhost:8080/"
        },
        "id": "9uT_2qC2Q0-h",
        "outputId": "5770b0a4-4544-43de-9f36-015842364105"
      },
      "execution_count": null,
      "outputs": [
        {
          "output_type": "execute_result",
          "data": {
            "text/plain": [
              "100"
            ]
          },
          "metadata": {},
          "execution_count": 140
        }
      ]
    },
    {
      "cell_type": "code",
      "source": [
        "str = 100"
      ],
      "metadata": {
        "id": "ABXTa-OQQ3iQ"
      },
      "execution_count": null,
      "outputs": []
    },
    {
      "cell_type": "code",
      "source": [
        "str('100')"
      ],
      "metadata": {
        "colab": {
          "base_uri": "https://localhost:8080/",
          "height": 172
        },
        "id": "-IXjfPEvQ-nv",
        "outputId": "027b3aa5-e8c7-476b-bac9-b91c7e364073"
      },
      "execution_count": null,
      "outputs": [
        {
          "output_type": "error",
          "ename": "TypeError",
          "evalue": "ignored",
          "traceback": [
            "\u001b[0;31m---------------------------------------------------------------------------\u001b[0m",
            "\u001b[0;31mTypeError\u001b[0m                                 Traceback (most recent call last)",
            "\u001b[0;32m<ipython-input-143-dc09cb708099>\u001b[0m in \u001b[0;36m<module>\u001b[0;34m()\u001b[0m\n\u001b[0;32m----> 1\u001b[0;31m \u001b[0mstr\u001b[0m\u001b[0;34m(\u001b[0m\u001b[0;34m'100'\u001b[0m\u001b[0;34m)\u001b[0m\u001b[0;34m\u001b[0m\u001b[0;34m\u001b[0m\u001b[0m\n\u001b[0m",
            "\u001b[0;31mTypeError\u001b[0m: 'int' object is not callable"
          ]
        }
      ]
    },
    {
      "cell_type": "code",
      "source": [
        "사과 = 1000"
      ],
      "metadata": {
        "id": "-R_rnXAuPSkA"
      },
      "execution_count": null,
      "outputs": []
    },
    {
      "cell_type": "code",
      "source": [
        "사과"
      ],
      "metadata": {
        "colab": {
          "base_uri": "https://localhost:8080/"
        },
        "id": "GpNvVzcQQBLP",
        "outputId": "b91295b4-d98f-45fa-b88d-00c033af46ae"
      },
      "execution_count": null,
      "outputs": [
        {
          "output_type": "execute_result",
          "data": {
            "text/plain": [
              "1000"
            ]
          },
          "metadata": {},
          "execution_count": 134
        }
      ]
    },
    {
      "cell_type": "code",
      "source": [
        "#기호를 사용하면 에러가 나는 모습\n",
        "HAPPY! = 1000"
      ],
      "metadata": {
        "colab": {
          "base_uri": "https://localhost:8080/",
          "height": 136
        },
        "id": "-v2j1LV_QCBs",
        "outputId": "2b698249-d95f-45dd-d028-f8b6072a3f84"
      },
      "execution_count": null,
      "outputs": [
        {
          "output_type": "error",
          "ename": "SyntaxError",
          "evalue": "ignored",
          "traceback": [
            "\u001b[0;36m  File \u001b[0;32m\"<ipython-input-135-01ea515c949b>\"\u001b[0;36m, line \u001b[0;32m1\u001b[0m\n\u001b[0;31m    HAPPY! = 1000\u001b[0m\n\u001b[0m         ^\u001b[0m\n\u001b[0;31mSyntaxError\u001b[0m\u001b[0;31m:\u001b[0m invalid syntax\n"
          ]
        }
      ]
    },
    {
      "cell_type": "code",
      "source": [
        "#언더바(Under Bar => _)는 사용 가능\n",
        "_init = 100"
      ],
      "metadata": {
        "id": "BkU6FtO8QFNf"
      },
      "execution_count": null,
      "outputs": []
    },
    {
      "cell_type": "code",
      "source": [
        "_init"
      ],
      "metadata": {
        "colab": {
          "base_uri": "https://localhost:8080/"
        },
        "id": "X7FGHXwMQLVh",
        "outputId": "007072aa-f69e-41e2-a765-70c629c36669"
      },
      "execution_count": null,
      "outputs": [
        {
          "output_type": "execute_result",
          "data": {
            "text/plain": [
              "100"
            ]
          },
          "metadata": {},
          "execution_count": 137
        }
      ]
    },
    {
      "cell_type": "code",
      "source": [
        "#첫 글자에 숫자 사용 X\n",
        "1apple = 1"
      ],
      "metadata": {
        "colab": {
          "base_uri": "https://localhost:8080/",
          "height": 136
        },
        "id": "BEJCXJ0LQMd_",
        "outputId": "5a889f4c-7acf-4663-94d3-d8e1e211bb0a"
      },
      "execution_count": null,
      "outputs": [
        {
          "output_type": "error",
          "ename": "SyntaxError",
          "evalue": "ignored",
          "traceback": [
            "\u001b[0;36m  File \u001b[0;32m\"<ipython-input-138-78302eb0a9fc>\"\u001b[0;36m, line \u001b[0;32m1\u001b[0m\n\u001b[0;31m    1apple = 1\u001b[0m\n\u001b[0m         ^\u001b[0m\n\u001b[0;31mSyntaxError\u001b[0m\u001b[0;31m:\u001b[0m invalid syntax\n"
          ]
        }
      ]
    },
    {
      "cell_type": "code",
      "source": [
        "del int"
      ],
      "metadata": {
        "id": "Bre-dB0QQO6h"
      },
      "execution_count": null,
      "outputs": []
    },
    {
      "cell_type": "code",
      "source": [
        "int"
      ],
      "metadata": {
        "colab": {
          "base_uri": "https://localhost:8080/"
        },
        "id": "KkFw2I11RI-O",
        "outputId": "b186ecb6-7995-4f3d-e13a-5f841bc1fb04"
      },
      "execution_count": null,
      "outputs": [
        {
          "output_type": "execute_result",
          "data": {
            "text/plain": [
              "int"
            ]
          },
          "metadata": {},
          "execution_count": 145
        }
      ]
    },
    {
      "cell_type": "code",
      "source": [
        "del str"
      ],
      "metadata": {
        "id": "hNEJdV55RJ64"
      },
      "execution_count": null,
      "outputs": []
    },
    {
      "cell_type": "code",
      "source": [
        "str"
      ],
      "metadata": {
        "colab": {
          "base_uri": "https://localhost:8080/"
        },
        "id": "ZT8jYefdRMfX",
        "outputId": "eb612c26-1ab7-4b91-e52c-3f894f648ed5"
      },
      "execution_count": null,
      "outputs": [
        {
          "output_type": "execute_result",
          "data": {
            "text/plain": [
              "str"
            ]
          },
          "metadata": {},
          "execution_count": 147
        }
      ]
    },
    {
      "cell_type": "code",
      "source": [
        "int('1020')"
      ],
      "metadata": {
        "colab": {
          "base_uri": "https://localhost:8080/"
        },
        "id": "fWUhzC2ARNqf",
        "outputId": "3d8e8fc0-96e2-484a-ad98-2e85c6152939"
      },
      "execution_count": null,
      "outputs": [
        {
          "output_type": "execute_result",
          "data": {
            "text/plain": [
              "1020"
            ]
          },
          "metadata": {},
          "execution_count": 148
        }
      ]
    },
    {
      "cell_type": "code",
      "source": [
        "# TypeError: ~~~ object is not callable\n",
        "# 어디선가 해당 이름으로 변수를 정의한 적이 있는 겁니다\n",
        "# del 변수명 "
      ],
      "metadata": {
        "id": "geXRUCPFRQNg"
      },
      "execution_count": null,
      "outputs": []
    },
    {
      "cell_type": "markdown",
      "source": [
        "swap\n",
        "  - 변수의 값을 교환하기 위해서 많이 씁니다."
      ],
      "metadata": {
        "id": "fYrg_uNlRkiq"
      }
    },
    {
      "cell_type": "code",
      "source": [
        "a = 10\n",
        "b = 20\n",
        "    \n",
        "c = a"
      ],
      "metadata": {
        "id": "uEbB6eH9Ro5X"
      },
      "execution_count": null,
      "outputs": []
    },
    {
      "cell_type": "code",
      "source": [
        "a, b, c"
      ],
      "metadata": {
        "colab": {
          "base_uri": "https://localhost:8080/"
        },
        "id": "5OM3FFk2R3sf",
        "outputId": "04b4ea30-0601-4337-ee9f-36a2d1ecb15a"
      },
      "execution_count": null,
      "outputs": [
        {
          "output_type": "execute_result",
          "data": {
            "text/plain": [
              "(10, 20, 10)"
            ]
          },
          "metadata": {},
          "execution_count": 150
        }
      ]
    },
    {
      "cell_type": "code",
      "source": [
        "a = b"
      ],
      "metadata": {
        "id": "iYzywqP9R42f"
      },
      "execution_count": null,
      "outputs": []
    },
    {
      "cell_type": "code",
      "source": [
        "a,b, c"
      ],
      "metadata": {
        "colab": {
          "base_uri": "https://localhost:8080/"
        },
        "id": "ZtXPi2MqR-9H",
        "outputId": "96679bce-13e3-4800-cbef-dfd181a17a62"
      },
      "execution_count": null,
      "outputs": [
        {
          "output_type": "execute_result",
          "data": {
            "text/plain": [
              "(20, 20, 10)"
            ]
          },
          "metadata": {},
          "execution_count": 152
        }
      ]
    },
    {
      "cell_type": "code",
      "source": [
        "b = c"
      ],
      "metadata": {
        "id": "xhDp83Z6R_4H"
      },
      "execution_count": null,
      "outputs": []
    },
    {
      "cell_type": "code",
      "source": [
        "a, b, c"
      ],
      "metadata": {
        "colab": {
          "base_uri": "https://localhost:8080/"
        },
        "id": "zzkXTRGeSCgH",
        "outputId": "10b2db2b-0865-4944-b08d-3de00bcb348e"
      },
      "execution_count": null,
      "outputs": [
        {
          "output_type": "execute_result",
          "data": {
            "text/plain": [
              "(20, 10, 10)"
            ]
          },
          "metadata": {},
          "execution_count": 154
        }
      ]
    },
    {
      "cell_type": "markdown",
      "source": [
        "# 시퀀스 타입\n",
        "- 기본 타입(숫자, 문자열)을 여러개 모아서 하나의 자료형으로 관리하기 위한 방법 \n",
        "  - '배열'\n",
        "  - 한개 식빵 -> 숫자, 문자열이라면\n",
        "  - 시퀀스 타입 -> 식빵들 ... 자료구조의 종류\n",
        "\n",
        "\n",
        "- 파이선에서 제공하는 시퀀스 타입\n",
        "  - 리스트\n",
        "    - 배열\n",
        "    - 가장 많이 사용하는 자료형입니다\n",
        "    - 선형자료구조 라고 부릅니다\n",
        "\n",
        "  - 튜플(tuple)\n",
        "    - 리스트와 본질적으로 같아요. 자료 값을 변경할 수가 없습니다. \n",
        "    - 튜플로 만들면 - 내부의 자료값을 변하게 하지 않았게 라는 약속입니다.  \n",
        "  - 레인지 \n",
        "    - 수열을 만든다\n",
        "\n",
        "\n",
        "- 가변형 타입 vs 불가변형 타입 \n",
        "  - 튜플 -> 불가변형 타입\n",
        "    - 자료들의 값을 바꿀 수 없고\n",
        "  - 리스트 -> 가변형 타입\n",
        "    - 자료들의 값을 변경할 수 있습니다.\n",
        "\n",
        "  - 가변형 타입에서만 사용할 수 있는 연산자가 띠로 있기 때문입니다.\n",
        "\n",
        "\n",
        "\n",
        "\n",
        "  - 세트\n",
        "  - 딕셔너리\n",
        "\n",
        "\n",
        "\n",
        "\n",
        "\n",
        "\n"
      ],
      "metadata": {
        "id": "mUAJYmvxSK-f"
      }
    },
    {
      "cell_type": "code",
      "source": [
        "# 튜플\n",
        "arr = ()\n",
        "type(arr)"
      ],
      "metadata": {
        "colab": {
          "base_uri": "https://localhost:8080/"
        },
        "id": "bGTRZszxSD1n",
        "outputId": "57cee76b-73c7-467c-8def-28d8d8f3c3aa"
      },
      "execution_count": null,
      "outputs": [
        {
          "output_type": "execute_result",
          "data": {
            "text/plain": [
              "tuple"
            ]
          },
          "metadata": {},
          "execution_count": 26
        }
      ]
    },
    {
      "cell_type": "code",
      "source": [
        "# 리스트\n",
        "arr1 = []\n",
        "type(arr1)"
      ],
      "metadata": {
        "colab": {
          "base_uri": "https://localhost:8080/"
        },
        "id": "wXFCnuPcVtWQ",
        "outputId": "b229c974-acf0-4e9f-801e-d3dff537d698"
      },
      "execution_count": null,
      "outputs": [
        {
          "output_type": "execute_result",
          "data": {
            "text/plain": [
              "list"
            ]
          },
          "metadata": {},
          "execution_count": 27
        }
      ]
    },
    {
      "cell_type": "code",
      "source": [
        "# 튜플을 사용할 때 주의점\n",
        "arr = (1)\n",
        "type(arr)"
      ],
      "metadata": {
        "colab": {
          "base_uri": "https://localhost:8080/"
        },
        "id": "Z8NrEfenVzpX",
        "outputId": "e38549fe-c625-4b02-cc06-b530e34517dd"
      },
      "execution_count": null,
      "outputs": [
        {
          "output_type": "execute_result",
          "data": {
            "text/plain": [
              "int"
            ]
          },
          "metadata": {},
          "execution_count": 28
        }
      ]
    },
    {
      "cell_type": "code",
      "source": [
        "arr = (1,)\n",
        "# 콤마가 있다 = 연속된 자료형이다 라고 파이썬이 판단을 해주는 거죠\n",
        "type(arr)"
      ],
      "metadata": {
        "colab": {
          "base_uri": "https://localhost:8080/"
        },
        "id": "eWR09H-AV_DQ",
        "outputId": "ae5fdf69-58c4-4faa-bb26-b80871e0ca56"
      },
      "execution_count": null,
      "outputs": [
        {
          "output_type": "execute_result",
          "data": {
            "text/plain": [
              "tuple"
            ]
          },
          "metadata": {},
          "execution_count": 29
        }
      ]
    },
    {
      "cell_type": "code",
      "source": [
        "arr"
      ],
      "metadata": {
        "colab": {
          "base_uri": "https://localhost:8080/"
        },
        "id": "qZZz_rbJWCLI",
        "outputId": "354a32d6-c7cb-4d21-ff4f-7585728f10cd"
      },
      "execution_count": null,
      "outputs": [
        {
          "output_type": "execute_result",
          "data": {
            "text/plain": [
              "(1,)"
            ]
          },
          "metadata": {},
          "execution_count": 30
        }
      ]
    },
    {
      "cell_type": "markdown",
      "source": [
        "1, 2, 3, 4, 5, 6이 들어있는 튜플 tu1\n",
        "리스트 li1 을 만들고 출력해주세요. \n",
        "type 확인을 해주시고요.\n"
      ],
      "metadata": {
        "id": "gdoBvpAJWNLD"
      }
    },
    {
      "cell_type": "code",
      "source": [
        "tu1 = (1,2,3,4,5,6)\n",
        "print(type(tu1))\n",
        "li1  = [1,2,3,4,5,6]\n",
        "print(type(li1))\n",
        "print(tu1, li1)\n"
      ],
      "metadata": {
        "colab": {
          "base_uri": "https://localhost:8080/"
        },
        "id": "IGxzO6EOWDLA",
        "outputId": "8e934112-1143-4ec5-8c0e-9945b08fe958"
      },
      "execution_count": null,
      "outputs": [
        {
          "output_type": "stream",
          "name": "stdout",
          "text": [
            "<class 'tuple'>\n",
            "<class 'list'>\n",
            "(1, 2, 3, 4, 5, 6) [1, 2, 3, 4, 5, 6]\n"
          ]
        }
      ]
    },
    {
      "cell_type": "markdown",
      "source": [
        "# 공통 연산자\n",
        "- 가변형 타입과 불가변형 타입 모두에게 동일하게 사용할 수 있는 연산자 몇개 "
      ],
      "metadata": {
        "id": "fssiaNN8XPzN"
      }
    },
    {
      "cell_type": "code",
      "source": [
        "3 in li1"
      ],
      "metadata": {
        "colab": {
          "base_uri": "https://localhost:8080/"
        },
        "id": "9I3jnoD4XFZ4",
        "outputId": "c2311a71-3289-4924-96a0-cb6a4c8db7cc"
      },
      "execution_count": null,
      "outputs": [
        {
          "output_type": "execute_result",
          "data": {
            "text/plain": [
              "True"
            ]
          },
          "metadata": {},
          "execution_count": 32
        }
      ]
    },
    {
      "cell_type": "code",
      "source": [
        "3 in tu1"
      ],
      "metadata": {
        "colab": {
          "base_uri": "https://localhost:8080/"
        },
        "id": "52ILa7PiX64H",
        "outputId": "9842d4f4-14d2-463c-bac9-4d1fa20d8f96"
      },
      "execution_count": null,
      "outputs": [
        {
          "output_type": "execute_result",
          "data": {
            "text/plain": [
              "True"
            ]
          },
          "metadata": {},
          "execution_count": 33
        }
      ]
    },
    {
      "cell_type": "code",
      "source": [
        "3 not in li1"
      ],
      "metadata": {
        "colab": {
          "base_uri": "https://localhost:8080/"
        },
        "id": "xApmN79SX98P",
        "outputId": "edcb97e2-ed5d-4b20-e366-1109c00dc0ed"
      },
      "execution_count": null,
      "outputs": [
        {
          "output_type": "execute_result",
          "data": {
            "text/plain": [
              "False"
            ]
          },
          "metadata": {},
          "execution_count": 34
        }
      ]
    },
    {
      "cell_type": "code",
      "source": [
        "3 not in tu1"
      ],
      "metadata": {
        "colab": {
          "base_uri": "https://localhost:8080/"
        },
        "id": "08VxtDHGYA7u",
        "outputId": "be28f953-30ee-4ad3-f005-be61de9610bf"
      },
      "execution_count": null,
      "outputs": [
        {
          "output_type": "execute_result",
          "data": {
            "text/plain": [
              "False"
            ]
          },
          "metadata": {},
          "execution_count": 35
        }
      ]
    },
    {
      "cell_type": "code",
      "source": [
        "tu1 + (10, 9, 8)"
      ],
      "metadata": {
        "colab": {
          "base_uri": "https://localhost:8080/"
        },
        "id": "YpQVNS-QYDL_",
        "outputId": "7f6e745c-934e-4783-ac91-1fe6417c5aac"
      },
      "execution_count": null,
      "outputs": [
        {
          "output_type": "execute_result",
          "data": {
            "text/plain": [
              "(1, 2, 3, 4, 5, 6, 10, 9, 8)"
            ]
          },
          "metadata": {},
          "execution_count": 36
        }
      ]
    },
    {
      "cell_type": "code",
      "source": [
        "tu1 * 3"
      ],
      "metadata": {
        "colab": {
          "base_uri": "https://localhost:8080/"
        },
        "id": "Zll1TLWSYLLQ",
        "outputId": "f69166b6-f880-4a50-ebb2-059e9fd6849a"
      },
      "execution_count": null,
      "outputs": [
        {
          "output_type": "execute_result",
          "data": {
            "text/plain": [
              "(1, 2, 3, 4, 5, 6, 1, 2, 3, 4, 5, 6, 1, 2, 3, 4, 5, 6)"
            ]
          },
          "metadata": {},
          "execution_count": 37
        }
      ]
    },
    {
      "cell_type": "code",
      "source": [
        "tu1"
      ],
      "metadata": {
        "colab": {
          "base_uri": "https://localhost:8080/"
        },
        "id": "fOcNzz9CYNc4",
        "outputId": "b2773b60-104b-4a3e-8b91-ef8f79e81913"
      },
      "execution_count": null,
      "outputs": [
        {
          "output_type": "execute_result",
          "data": {
            "text/plain": [
              "(1, 2, 3, 4, 5, 6)"
            ]
          },
          "metadata": {},
          "execution_count": 38
        }
      ]
    },
    {
      "cell_type": "markdown",
      "source": [
        "- 원본은 변하지 않고\n",
        "- 원본에 새로운 튜플을 합친 새로운 튜플을 반환할 뿐입니다."
      ],
      "metadata": {
        "id": "EUCDMBe6YTJP"
      }
    },
    {
      "cell_type": "markdown",
      "source": [
        "- list에만 가능한 것 - 원본에 무언가를 추가하거나 곱하는 것"
      ],
      "metadata": {
        "id": "xf6kJWi4YacM"
      }
    },
    {
      "cell_type": "code",
      "source": [
        "tu1[3]"
      ],
      "metadata": {
        "colab": {
          "base_uri": "https://localhost:8080/"
        },
        "id": "zsF1vknMYRvJ",
        "outputId": "62e7264a-fa7b-43a1-cb7c-9cf499938ea6"
      },
      "execution_count": null,
      "outputs": [
        {
          "output_type": "execute_result",
          "data": {
            "text/plain": [
              "4"
            ]
          },
          "metadata": {},
          "execution_count": 39
        }
      ]
    },
    {
      "cell_type": "code",
      "source": [
        "li1[3]"
      ],
      "metadata": {
        "colab": {
          "base_uri": "https://localhost:8080/"
        },
        "id": "xx2w2NquYjqu",
        "outputId": "a7ba3fbc-522e-4714-810a-8bc0a70fc632"
      },
      "execution_count": null,
      "outputs": [
        {
          "output_type": "execute_result",
          "data": {
            "text/plain": [
              "4"
            ]
          },
          "metadata": {},
          "execution_count": 40
        }
      ]
    },
    {
      "cell_type": "code",
      "source": [
        "li1[2:4] # [시작숫자 : 끝점+1 숫자]"
      ],
      "metadata": {
        "colab": {
          "base_uri": "https://localhost:8080/"
        },
        "id": "ARae-2AVYmnn",
        "outputId": "fd312075-5b4a-493b-ba20-59914cdc2ffb"
      },
      "execution_count": null,
      "outputs": [
        {
          "output_type": "execute_result",
          "data": {
            "text/plain": [
              "[3, 4]"
            ]
          },
          "metadata": {},
          "execution_count": 41
        }
      ]
    },
    {
      "cell_type": "code",
      "source": [
        "tu1[2:4]"
      ],
      "metadata": {
        "colab": {
          "base_uri": "https://localhost:8080/"
        },
        "id": "WKzEHSygYsQy",
        "outputId": "8dcf0105-d13d-47d5-ed9c-b87e2e30af55"
      },
      "execution_count": null,
      "outputs": [
        {
          "output_type": "execute_result",
          "data": {
            "text/plain": [
              "(3, 4)"
            ]
          },
          "metadata": {},
          "execution_count": 42
        }
      ]
    },
    {
      "cell_type": "markdown",
      "source": [
        "# 인덱싱과 슬라이싱 \n",
        "  - 파이썬의 시퀀스 타입은 자동으로 인덱스를 생성해줍니다. \n",
        "    - 0부터 순서대로 1씩 증가하면서 자동으로 만들어줍니다.\n",
        "    - 0부터 시작한다라는 겁니다.\n",
        "    - 첫번재 원소 인덱스가 0이고, \n",
        "    - `[ ]` 안에 인덱스 숫자로 참조하길 원하는 원소를 선택을 합니다\n",
        "\n",
        "    - 슬라이스는 시퀀스 내에서 원하는 범위를 잘라서 가져오는 개념입니다.\n",
        "    - 프로그래밍에서는 반복문, 반복문을 활용한 인덱싱/슬라이싱을 많이 하게 됩니다"
      ],
      "metadata": {
        "id": "b7TDbAXqY2er"
      }
    },
    {
      "cell_type": "code",
      "source": [
        "# 내가 원하는 원소만 선택하는 법\n",
        "tu1[0]"
      ],
      "metadata": {
        "colab": {
          "base_uri": "https://localhost:8080/"
        },
        "id": "29N8IPH-YzWX",
        "outputId": "f24d2826-4ee8-4493-cba3-10fe84c9e03d"
      },
      "execution_count": null,
      "outputs": [
        {
          "output_type": "execute_result",
          "data": {
            "text/plain": [
              "1"
            ]
          },
          "metadata": {},
          "execution_count": 43
        }
      ]
    },
    {
      "cell_type": "code",
      "source": [
        "# 2, 4, 6\n",
        "tu1 [1: 6 : 2]"
      ],
      "metadata": {
        "colab": {
          "base_uri": "https://localhost:8080/"
        },
        "id": "vfxw0ajoZaRQ",
        "outputId": "396e7d50-758e-4603-b49d-33e27b75bee1"
      },
      "execution_count": null,
      "outputs": [
        {
          "output_type": "execute_result",
          "data": {
            "text/plain": [
              "(2, 4, 6)"
            ]
          },
          "metadata": {},
          "execution_count": 44
        }
      ]
    },
    {
      "cell_type": "code",
      "source": [
        "tu1[1: 7: 2]"
      ],
      "metadata": {
        "colab": {
          "base_uri": "https://localhost:8080/"
        },
        "id": "3easIMCZactI",
        "outputId": "2e63fcdd-77ad-4f08-f084-21952e3295c7"
      },
      "execution_count": null,
      "outputs": [
        {
          "output_type": "execute_result",
          "data": {
            "text/plain": [
              "(2, 4, 6)"
            ]
          },
          "metadata": {},
          "execution_count": 45
        }
      ]
    },
    {
      "cell_type": "code",
      "source": [
        "tu1[1:len(tu1):2]"
      ],
      "metadata": {
        "colab": {
          "base_uri": "https://localhost:8080/"
        },
        "id": "YThtiqcnahRA",
        "outputId": "b4fd92a5-ee1a-42ea-e5ae-eaa2e48df06a"
      },
      "execution_count": null,
      "outputs": [
        {
          "output_type": "execute_result",
          "data": {
            "text/plain": [
              "(2, 4, 6)"
            ]
          },
          "metadata": {},
          "execution_count": 46
        }
      ]
    },
    {
      "cell_type": "code",
      "source": [
        "tu1[1], tu1[3], tu1[5]"
      ],
      "metadata": {
        "colab": {
          "base_uri": "https://localhost:8080/"
        },
        "id": "auycGf6gantQ",
        "outputId": "55f88ade-bc9e-44d7-de37-6de5d2f63480"
      },
      "execution_count": null,
      "outputs": [
        {
          "output_type": "execute_result",
          "data": {
            "text/plain": [
              "(2, 4, 6)"
            ]
          },
          "metadata": {},
          "execution_count": 47
        }
      ]
    },
    {
      "cell_type": "code",
      "source": [
        "tu1[1::2]"
      ],
      "metadata": {
        "colab": {
          "base_uri": "https://localhost:8080/"
        },
        "id": "cPQSxfcOarAQ",
        "outputId": "ba26365c-d901-49d5-bc2c-aae3f97f68dc"
      },
      "execution_count": null,
      "outputs": [
        {
          "output_type": "execute_result",
          "data": {
            "text/plain": [
              "(2, 4, 6)"
            ]
          },
          "metadata": {},
          "execution_count": 48
        }
      ]
    },
    {
      "cell_type": "code",
      "source": [
        "tu1[0:5:2]"
      ],
      "metadata": {
        "colab": {
          "base_uri": "https://localhost:8080/"
        },
        "id": "n2YCYyONavjn",
        "outputId": "13d0f314-1692-4be5-91b8-f6625f6fb28c"
      },
      "execution_count": null,
      "outputs": [
        {
          "output_type": "execute_result",
          "data": {
            "text/plain": [
              "(1, 3, 5)"
            ]
          },
          "metadata": {},
          "execution_count": 49
        }
      ]
    },
    {
      "cell_type": "code",
      "source": [
        "tu1[1],tu1[3],tu1[-1]"
      ],
      "metadata": {
        "colab": {
          "base_uri": "https://localhost:8080/"
        },
        "id": "FISI7V5_ayzn",
        "outputId": "371547e2-08c9-4fef-f482-60e708bdd094"
      },
      "execution_count": null,
      "outputs": [
        {
          "output_type": "execute_result",
          "data": {
            "text/plain": [
              "(2, 4, 6)"
            ]
          },
          "metadata": {},
          "execution_count": 50
        }
      ]
    },
    {
      "cell_type": "code",
      "source": [
        "tu1[1:3], tu1[4]"
      ],
      "metadata": {
        "colab": {
          "base_uri": "https://localhost:8080/"
        },
        "id": "NaCGiLIua6Bo",
        "outputId": "791ecbfe-dc1d-48ab-8d2a-98982fac3ff2"
      },
      "execution_count": null,
      "outputs": [
        {
          "output_type": "execute_result",
          "data": {
            "text/plain": [
              "((2, 3), 5)"
            ]
          },
          "metadata": {},
          "execution_count": 51
        }
      ]
    },
    {
      "cell_type": "code",
      "source": [
        "# s[i:j:k]\n"
      ],
      "metadata": {
        "id": "EjCzBubxbM5Y"
      },
      "execution_count": null,
      "outputs": []
    },
    {
      "cell_type": "markdown",
      "source": [
        "# 정말 중요한 것 \n",
        "- 반복문으로 인덱싱/슬라이싱을 하다 보면 주어진 시퀀스타입을 범위를 벗어나는 참조를 굉장히 많이 하게 됩니다.\n"
      ],
      "metadata": {
        "id": "fTQ72fgfbt7-"
      }
    },
    {
      "cell_type": "markdown",
      "source": [
        "- IndexError: list index out of range\n"
      ],
      "metadata": {
        "id": "oWF-whJzb9Tw"
      }
    },
    {
      "cell_type": "code",
      "source": [
        "len(li1)"
      ],
      "metadata": {
        "colab": {
          "base_uri": "https://localhost:8080/"
        },
        "id": "8bBwVmP5b1ku",
        "outputId": "a633b0aa-1719-41fa-da60-3dd951ed6a7c"
      },
      "execution_count": null,
      "outputs": [
        {
          "output_type": "execute_result",
          "data": {
            "text/plain": [
              "6"
            ]
          },
          "metadata": {},
          "execution_count": 53
        }
      ]
    },
    {
      "cell_type": "code",
      "source": [
        "li1[6]"
      ],
      "metadata": {
        "colab": {
          "base_uri": "https://localhost:8080/",
          "height": 172
        },
        "id": "qFUy9Aipb3IP",
        "outputId": "20f24310-a625-4c2c-a161-5b60de2d57a8"
      },
      "execution_count": null,
      "outputs": [
        {
          "output_type": "error",
          "ename": "IndexError",
          "evalue": "ignored",
          "traceback": [
            "\u001b[0;31m---------------------------------------------------------------------------\u001b[0m",
            "\u001b[0;31mIndexError\u001b[0m                                Traceback (most recent call last)",
            "\u001b[0;32m<ipython-input-54-87bf51984c06>\u001b[0m in \u001b[0;36m<module>\u001b[0;34m()\u001b[0m\n\u001b[0;32m----> 1\u001b[0;31m \u001b[0mli1\u001b[0m\u001b[0;34m[\u001b[0m\u001b[0;36m6\u001b[0m\u001b[0;34m]\u001b[0m\u001b[0;34m\u001b[0m\u001b[0;34m\u001b[0m\u001b[0m\n\u001b[0m",
            "\u001b[0;31mIndexError\u001b[0m: list index out of range"
          ]
        }
      ]
    },
    {
      "cell_type": "code",
      "source": [
        "# 시퀀스 크기와 상관없이 가장 마지막 원소를 참조하게 하고 싶다면\n",
        "li1[len(li1)-1]"
      ],
      "metadata": {
        "colab": {
          "base_uri": "https://localhost:8080/"
        },
        "id": "LFX_9qhCb5j_",
        "outputId": "e68fe617-1ffc-4089-feca-5ccf6b606a15"
      },
      "execution_count": null,
      "outputs": [
        {
          "output_type": "execute_result",
          "data": {
            "text/plain": [
              "6"
            ]
          },
          "metadata": {},
          "execution_count": 55
        }
      ]
    },
    {
      "cell_type": "code",
      "source": [
        "li1[len(li1)]"
      ],
      "metadata": {
        "colab": {
          "base_uri": "https://localhost:8080/",
          "height": 172
        },
        "id": "ASp72zmHcI_w",
        "outputId": "e9f685b9-ec0f-40e3-b8ee-2f94d0dab69b"
      },
      "execution_count": null,
      "outputs": [
        {
          "output_type": "error",
          "ename": "IndexError",
          "evalue": "ignored",
          "traceback": [
            "\u001b[0;31m---------------------------------------------------------------------------\u001b[0m",
            "\u001b[0;31mIndexError\u001b[0m                                Traceback (most recent call last)",
            "\u001b[0;32m<ipython-input-56-37e2f0059fa0>\u001b[0m in \u001b[0;36m<module>\u001b[0;34m()\u001b[0m\n\u001b[0;32m----> 1\u001b[0;31m \u001b[0mli1\u001b[0m\u001b[0;34m[\u001b[0m\u001b[0mlen\u001b[0m\u001b[0;34m(\u001b[0m\u001b[0mli1\u001b[0m\u001b[0;34m)\u001b[0m\u001b[0;34m]\u001b[0m\u001b[0;34m\u001b[0m\u001b[0;34m\u001b[0m\u001b[0m\n\u001b[0m",
            "\u001b[0;31mIndexError\u001b[0m: list index out of range"
          ]
        }
      ]
    },
    {
      "cell_type": "code",
      "source": [
        "# tu1[-1] = 6 인데 왜 tu1[:-1] 은 (1,2,3,4,5) 인가요? tu1[:6] 이랑 왜 다른가요?\n",
        "# tu[6]은 1의 값을 지칭하고 그렇기 때문에 tu1[:6]은 1 이전의 값 전부를 말하고요, tu[-1]은 6을 의미해서 tu1[:-1] 는 6 앞의 값들이 나열되는 것같아요\n",
        "\n",
        "# li1[2:4] # [시작숫자 : 끝점+1 숫자]\n",
        "tu1[:-1]"
      ],
      "metadata": {
        "colab": {
          "base_uri": "https://localhost:8080/"
        },
        "id": "2a7CeoC1cOt_",
        "outputId": "5262dc16-dd10-48b1-8174-c73d7f3a4f8d"
      },
      "execution_count": null,
      "outputs": [
        {
          "output_type": "execute_result",
          "data": {
            "text/plain": [
              "(1, 2, 3, 4, 5)"
            ]
          },
          "metadata": {},
          "execution_count": 57
        }
      ]
    },
    {
      "cell_type": "code",
      "source": [
        "tu1[:len(tu1)]"
      ],
      "metadata": {
        "colab": {
          "base_uri": "https://localhost:8080/"
        },
        "id": "KtnNMoc-fTru",
        "outputId": "9b560354-42c2-4b00-921d-d528a21a2acd"
      },
      "execution_count": null,
      "outputs": [
        {
          "output_type": "execute_result",
          "data": {
            "text/plain": [
              "(1, 2, 3, 4, 5, 6)"
            ]
          },
          "metadata": {},
          "execution_count": 58
        }
      ]
    },
    {
      "cell_type": "code",
      "source": [
        "# tu1[1::2] 이라고하면,  1번째 인덱스 부터 끝인덱스까지 2칸 단위로 표시를 해주는걸까요?\n",
        "tu1[1::2] "
      ],
      "metadata": {
        "colab": {
          "base_uri": "https://localhost:8080/"
        },
        "id": "C43bDmFtcdC4",
        "outputId": "0bc35757-89a8-4467-eb6c-11200267b43f"
      },
      "execution_count": null,
      "outputs": [
        {
          "output_type": "execute_result",
          "data": {
            "text/plain": [
              "(2, 4, 6)"
            ]
          },
          "metadata": {},
          "execution_count": 59
        }
      ]
    },
    {
      "cell_type": "code",
      "source": [
        "# 음수 인덱스를 지원 합니다\n",
        "tu1[-2]"
      ],
      "metadata": {
        "colab": {
          "base_uri": "https://localhost:8080/"
        },
        "id": "y_2EMXIqdcbg",
        "outputId": "582bd9a3-7718-4a4b-deb5-1fc3fb5959e5"
      },
      "execution_count": null,
      "outputs": [
        {
          "output_type": "execute_result",
          "data": {
            "text/plain": [
              "5"
            ]
          },
          "metadata": {},
          "execution_count": 60
        }
      ]
    },
    {
      "cell_type": "code",
      "source": [
        "tu1[-3]"
      ],
      "metadata": {
        "colab": {
          "base_uri": "https://localhost:8080/"
        },
        "id": "ZMKjCXlPftzn",
        "outputId": "f35588b8-4a88-43fd-ff60-20cefc58a8b2"
      },
      "execution_count": null,
      "outputs": [
        {
          "output_type": "execute_result",
          "data": {
            "text/plain": [
              "4"
            ]
          },
          "metadata": {},
          "execution_count": 61
        }
      ]
    },
    {
      "cell_type": "code",
      "source": [
        "# 음수 인덱스에도 out of ... IndexError: tuple index out of range\n",
        "tu1[-7]"
      ],
      "metadata": {
        "colab": {
          "base_uri": "https://localhost:8080/",
          "height": 190
        },
        "id": "-aoMq6-5fz0h",
        "outputId": "c3f11391-27da-42f3-928b-7d2ccaa9cc14"
      },
      "execution_count": null,
      "outputs": [
        {
          "output_type": "error",
          "ename": "IndexError",
          "evalue": "ignored",
          "traceback": [
            "\u001b[0;31m---------------------------------------------------------------------------\u001b[0m",
            "\u001b[0;31mIndexError\u001b[0m                                Traceback (most recent call last)",
            "\u001b[0;32m<ipython-input-62-ce5adf2772f1>\u001b[0m in \u001b[0;36m<module>\u001b[0;34m()\u001b[0m\n\u001b[1;32m      1\u001b[0m \u001b[0;31m# 음수 인덱스에도 out of ... IndexError: tuple index out of range\u001b[0m\u001b[0;34m\u001b[0m\u001b[0;34m\u001b[0m\u001b[0;34m\u001b[0m\u001b[0m\n\u001b[0;32m----> 2\u001b[0;31m \u001b[0mtu1\u001b[0m\u001b[0;34m[\u001b[0m\u001b[0;34m-\u001b[0m\u001b[0;36m7\u001b[0m\u001b[0;34m]\u001b[0m\u001b[0;34m\u001b[0m\u001b[0;34m\u001b[0m\u001b[0m\n\u001b[0m",
            "\u001b[0;31mIndexError\u001b[0m: tuple index out of range"
          ]
        }
      ]
    },
    {
      "cell_type": "code",
      "source": [
        "print(tu1[-1])"
      ],
      "metadata": {
        "colab": {
          "base_uri": "https://localhost:8080/"
        },
        "id": "I-HBcXolf8TJ",
        "outputId": "6df4c10c-8ca2-43f1-ddaf-5c03a00e8b7e"
      },
      "execution_count": null,
      "outputs": [
        {
          "output_type": "stream",
          "name": "stdout",
          "text": [
            "6\n"
          ]
        }
      ]
    },
    {
      "cell_type": "markdown",
      "source": [
        "# 슬라이스 사용법\n",
        "\n",
        "arr [ 시작인덱스 : 끝인덱스+1] "
      ],
      "metadata": {
        "id": "hGjL2Am6gEOp"
      }
    },
    {
      "cell_type": "code",
      "source": [
        "# 끝값에 대하여 out of range가 발생하지 않습니다.\n",
        "# 시작인덱스와 끝 인덱스는 생략이 가능합니다.\n",
        "# 시작 위치가 생략되면 첫번째 원소부터 를 의미하고\n",
        "# 끝 위치가 생략되면 마지막 원소까지를 의미합니다.\n",
        "tu1[1:8]"
      ],
      "metadata": {
        "colab": {
          "base_uri": "https://localhost:8080/"
        },
        "id": "Rep1Wm4XgCPv",
        "outputId": "6bfda737-cac1-43d6-d1ec-5cfd194b7642"
      },
      "execution_count": null,
      "outputs": [
        {
          "output_type": "execute_result",
          "data": {
            "text/plain": [
              "(2, 3, 4, 5, 6)"
            ]
          },
          "metadata": {},
          "execution_count": 64
        }
      ]
    },
    {
      "cell_type": "code",
      "source": [
        "tu1[:]"
      ],
      "metadata": {
        "colab": {
          "base_uri": "https://localhost:8080/"
        },
        "id": "HsL513-_gR_Y",
        "outputId": "1f2c175d-ec98-40b3-c02b-6e6e2cf8968e"
      },
      "execution_count": null,
      "outputs": [
        {
          "output_type": "execute_result",
          "data": {
            "text/plain": [
              "(1, 2, 3, 4, 5, 6)"
            ]
          },
          "metadata": {},
          "execution_count": 65
        }
      ]
    },
    {
      "cell_type": "code",
      "source": [
        "tu1[2:]"
      ],
      "metadata": {
        "colab": {
          "base_uri": "https://localhost:8080/"
        },
        "id": "Ea6bfj0mgmIw",
        "outputId": "f0d23d97-11a3-406a-cc0b-c9fc1399e83f"
      },
      "execution_count": null,
      "outputs": [
        {
          "output_type": "execute_result",
          "data": {
            "text/plain": [
              "(3, 4, 5, 6)"
            ]
          },
          "metadata": {},
          "execution_count": 66
        }
      ]
    },
    {
      "cell_type": "code",
      "source": [
        "tu1[:3]"
      ],
      "metadata": {
        "colab": {
          "base_uri": "https://localhost:8080/"
        },
        "id": "0cmbewLogoCp",
        "outputId": "26f65526-06fb-4ea1-dd4a-1e08463c4dda"
      },
      "execution_count": null,
      "outputs": [
        {
          "output_type": "execute_result",
          "data": {
            "text/plain": [
              "(1, 2, 3)"
            ]
          },
          "metadata": {},
          "execution_count": 67
        }
      ]
    },
    {
      "cell_type": "code",
      "source": [
        "# 음수 인덱스도 가능하고\n",
        "# reverse 연산 \n",
        "tu1[::-1]"
      ],
      "metadata": {
        "colab": {
          "base_uri": "https://localhost:8080/"
        },
        "id": "HVfMWy47gq8v",
        "outputId": "5c404a84-b620-45af-ed30-e4495db436da"
      },
      "execution_count": null,
      "outputs": [
        {
          "output_type": "execute_result",
          "data": {
            "text/plain": [
              "(6, 5, 4, 3, 2, 1)"
            ]
          },
          "metadata": {},
          "execution_count": 68
        }
      ]
    },
    {
      "cell_type": "code",
      "source": [
        "tu1[-1:-7:-1]"
      ],
      "metadata": {
        "colab": {
          "base_uri": "https://localhost:8080/"
        },
        "id": "3WnKYEa8g5pg",
        "outputId": "644d6e7d-b9f5-47e5-ab4d-0ce89f0a410c"
      },
      "execution_count": null,
      "outputs": [
        {
          "output_type": "execute_result",
          "data": {
            "text/plain": [
              "(6, 5, 4, 3, 2, 1)"
            ]
          },
          "metadata": {},
          "execution_count": 69
        }
      ]
    },
    {
      "cell_type": "code",
      "source": [
        "min(li1)"
      ],
      "metadata": {
        "colab": {
          "base_uri": "https://localhost:8080/"
        },
        "id": "RaR7i-Tkg95v",
        "outputId": "171d0c3f-8289-45d4-bd80-e8cab12b7496"
      },
      "execution_count": null,
      "outputs": [
        {
          "output_type": "execute_result",
          "data": {
            "text/plain": [
              "1"
            ]
          },
          "metadata": {},
          "execution_count": 70
        }
      ]
    },
    {
      "cell_type": "code",
      "source": [
        "max(li1)"
      ],
      "metadata": {
        "colab": {
          "base_uri": "https://localhost:8080/"
        },
        "id": "86b0vujShIrh",
        "outputId": "161ec240-50a7-4d5c-fced-405411bc310c"
      },
      "execution_count": null,
      "outputs": [
        {
          "output_type": "execute_result",
          "data": {
            "text/plain": [
              "6"
            ]
          },
          "metadata": {},
          "execution_count": 71
        }
      ]
    },
    {
      "cell_type": "markdown",
      "source": [
        "# 문자열 (String) \n",
        "- 배열의 한 종류\n",
        "- 튜플의 속성을 가지고 있어요"
      ],
      "metadata": {
        "id": "DllDv2ophVVl"
      }
    },
    {
      "cell_type": "code",
      "source": [
        "str1 = 'hello'"
      ],
      "metadata": {
        "id": "vson-LUchKvw"
      },
      "execution_count": null,
      "outputs": []
    },
    {
      "cell_type": "code",
      "source": [
        "str1[2]"
      ],
      "metadata": {
        "colab": {
          "base_uri": "https://localhost:8080/",
          "height": 35
        },
        "id": "TGlTPPnahhjP",
        "outputId": "d25368a7-6a6c-461d-e5b5-f1d537eeaa38"
      },
      "execution_count": null,
      "outputs": [
        {
          "output_type": "execute_result",
          "data": {
            "text/plain": [
              "'l'"
            ],
            "application/vnd.google.colaboratory.intrinsic+json": {
              "type": "string"
            }
          },
          "metadata": {},
          "execution_count": 73
        }
      ]
    },
    {
      "cell_type": "code",
      "source": [
        "str1[2:4]"
      ],
      "metadata": {
        "colab": {
          "base_uri": "https://localhost:8080/",
          "height": 35
        },
        "id": "2txva2bAhn74",
        "outputId": "9461281e-38e0-4eae-f3d1-66234aa5a122"
      },
      "execution_count": null,
      "outputs": [
        {
          "output_type": "execute_result",
          "data": {
            "text/plain": [
              "'ll'"
            ],
            "application/vnd.google.colaboratory.intrinsic+json": {
              "type": "string"
            }
          },
          "metadata": {},
          "execution_count": 74
        }
      ]
    },
    {
      "cell_type": "code",
      "source": [
        "str1[::-1]"
      ],
      "metadata": {
        "colab": {
          "base_uri": "https://localhost:8080/",
          "height": 35
        },
        "id": "clGJW6K2hqyQ",
        "outputId": "2c1ac3d5-b85f-4046-81c9-72483128b691"
      },
      "execution_count": null,
      "outputs": [
        {
          "output_type": "execute_result",
          "data": {
            "text/plain": [
              "'olleh'"
            ],
            "application/vnd.google.colaboratory.intrinsic+json": {
              "type": "string"
            }
          },
          "metadata": {},
          "execution_count": 75
        }
      ]
    },
    {
      "cell_type": "code",
      "source": [
        "str1[::2]"
      ],
      "metadata": {
        "colab": {
          "base_uri": "https://localhost:8080/",
          "height": 35
        },
        "id": "J-7qt6iqhuN_",
        "outputId": "8f842a9c-35b3-4603-cc3a-f66433f755b8"
      },
      "execution_count": null,
      "outputs": [
        {
          "output_type": "execute_result",
          "data": {
            "text/plain": [
              "'hlo'"
            ],
            "application/vnd.google.colaboratory.intrinsic+json": {
              "type": "string"
            }
          },
          "metadata": {},
          "execution_count": 76
        }
      ]
    },
    {
      "cell_type": "code",
      "source": [
        "tu2 = tu1[::-2]\n",
        "tu2[::-1]\n"
      ],
      "metadata": {
        "colab": {
          "base_uri": "https://localhost:8080/"
        },
        "id": "xJ8rGR0YjKOn",
        "outputId": "bcd391a2-5495-44be-ccc6-f1fe07698992"
      },
      "execution_count": null,
      "outputs": [
        {
          "output_type": "execute_result",
          "data": {
            "text/plain": [
              "(2, 4, 6)"
            ]
          },
          "metadata": {},
          "execution_count": 77
        }
      ]
    },
    {
      "cell_type": "markdown",
      "source": [
        "# 가변 연산자 \n",
        "- 가변형 타입에서만 사용 가능한 명령어(연산)\n",
        "- string, 튜플에서는 사용할 수 없습니다. \n",
        "\n",
        "\n",
        "List \n",
        "- 파이썬에서 가장 많이 사용하는 자료형\n",
        "- 배열\n",
        "- 파이썬에서 자료를 다루는 가장 기본적인 형태입니다.\n"
      ],
      "metadata": {
        "id": "-g5-ZtOCiIEA"
      }
    },
    {
      "cell_type": "code",
      "source": [
        "str1[0] = 'H'"
      ],
      "metadata": {
        "colab": {
          "base_uri": "https://localhost:8080/",
          "height": 172
        },
        "id": "4v7Xwcm8hx8f",
        "outputId": "7ffde6c2-c62e-4a69-c41b-b0e403f0c1ec"
      },
      "execution_count": null,
      "outputs": [
        {
          "output_type": "error",
          "ename": "TypeError",
          "evalue": "ignored",
          "traceback": [
            "\u001b[0;31m---------------------------------------------------------------------------\u001b[0m",
            "\u001b[0;31mTypeError\u001b[0m                                 Traceback (most recent call last)",
            "\u001b[0;32m<ipython-input-81-5561c004c112>\u001b[0m in \u001b[0;36m<module>\u001b[0;34m()\u001b[0m\n\u001b[0;32m----> 1\u001b[0;31m \u001b[0mstr1\u001b[0m\u001b[0;34m[\u001b[0m\u001b[0;36m0\u001b[0m\u001b[0;34m]\u001b[0m \u001b[0;34m=\u001b[0m \u001b[0;34m'H'\u001b[0m\u001b[0;34m\u001b[0m\u001b[0;34m\u001b[0m\u001b[0m\n\u001b[0m",
            "\u001b[0;31mTypeError\u001b[0m: 'str' object does not support item assignment"
          ]
        }
      ]
    },
    {
      "cell_type": "code",
      "source": [
        "tu1[0] = 'H'"
      ],
      "metadata": {
        "colab": {
          "base_uri": "https://localhost:8080/",
          "height": 172
        },
        "id": "crzoimmtiszg",
        "outputId": "dd32e576-6f14-4f05-9884-64fa5d4dfced"
      },
      "execution_count": null,
      "outputs": [
        {
          "output_type": "error",
          "ename": "TypeError",
          "evalue": "ignored",
          "traceback": [
            "\u001b[0;31m---------------------------------------------------------------------------\u001b[0m",
            "\u001b[0;31mTypeError\u001b[0m                                 Traceback (most recent call last)",
            "\u001b[0;32m<ipython-input-82-2d7c154867c2>\u001b[0m in \u001b[0;36m<module>\u001b[0;34m()\u001b[0m\n\u001b[0;32m----> 1\u001b[0;31m \u001b[0mtu1\u001b[0m\u001b[0;34m[\u001b[0m\u001b[0;36m0\u001b[0m\u001b[0;34m]\u001b[0m \u001b[0;34m=\u001b[0m \u001b[0;34m'H'\u001b[0m\u001b[0;34m\u001b[0m\u001b[0;34m\u001b[0m\u001b[0m\n\u001b[0m",
            "\u001b[0;31mTypeError\u001b[0m: 'tuple' object does not support item assignment"
          ]
        }
      ]
    },
    {
      "cell_type": "code",
      "source": [
        "li1[0] = 'H'"
      ],
      "metadata": {
        "id": "RQsEjVQzh6YP"
      },
      "execution_count": null,
      "outputs": []
    },
    {
      "cell_type": "code",
      "source": [
        "li1"
      ],
      "metadata": {
        "colab": {
          "base_uri": "https://localhost:8080/"
        },
        "id": "P6NX7RHlh9Pn",
        "outputId": "9b087f3f-2a16-415f-8cfe-1eb866009c9a"
      },
      "execution_count": null,
      "outputs": [
        {
          "output_type": "execute_result",
          "data": {
            "text/plain": [
              "['H', 2, 3, 4, 5, 6]"
            ]
          },
          "metadata": {},
          "execution_count": 84
        }
      ]
    },
    {
      "cell_type": "markdown",
      "source": [
        "append / extend라는 명령어\n",
        "- 리스트에 원소를 추가하는 명령어\n",
        "- 리스트에만 사용이 가능합니다.\n",
        "- 하나만 추가할때 여러개를 한께번에 추가할 때\n"
      ],
      "metadata": {
        "id": "r0a1jNpMi2sO"
      }
    },
    {
      "cell_type": "code",
      "source": [
        "li1"
      ],
      "metadata": {
        "colab": {
          "base_uri": "https://localhost:8080/"
        },
        "id": "_zh8YkruipHw",
        "outputId": "fa3822f8-a2dc-4ec7-c086-16b3e6eff929"
      },
      "execution_count": null,
      "outputs": [
        {
          "output_type": "execute_result",
          "data": {
            "text/plain": [
              "['H', 2, 3, 4, 5, 6]"
            ]
          },
          "metadata": {},
          "execution_count": 85
        }
      ]
    },
    {
      "cell_type": "code",
      "source": [
        "# 원소 하나를 추가 할 때 사용합니다. \n",
        "li1.append(7)\n",
        "li1"
      ],
      "metadata": {
        "colab": {
          "base_uri": "https://localhost:8080/"
        },
        "id": "64S0VlwujBPh",
        "outputId": "95cf4412-b315-4182-ac4e-08e5cf88ffc4"
      },
      "execution_count": null,
      "outputs": [
        {
          "output_type": "execute_result",
          "data": {
            "text/plain": [
              "['H', 2, 3, 4, 5, 6, 7]"
            ]
          },
          "metadata": {},
          "execution_count": 86
        }
      ]
    },
    {
      "cell_type": "code",
      "source": [
        "li1.append([8,9,10])"
      ],
      "metadata": {
        "id": "4G_VCa4Ljaf6"
      },
      "execution_count": null,
      "outputs": []
    },
    {
      "cell_type": "code",
      "source": [
        "li1"
      ],
      "metadata": {
        "colab": {
          "base_uri": "https://localhost:8080/"
        },
        "id": "0AwJSyFujc-_",
        "outputId": "32602b5a-634b-4fe1-c27b-7b2b84b9ae96"
      },
      "execution_count": null,
      "outputs": [
        {
          "output_type": "execute_result",
          "data": {
            "text/plain": [
              "['H', 2, 3, 4, 5, 6, 7, [8, 9, 10]]"
            ]
          },
          "metadata": {},
          "execution_count": 88
        }
      ]
    },
    {
      "cell_type": "code",
      "source": [
        "# 원소 여러개를 한번에 추가할 때 \n",
        "# 리스트와 리스트를 더해서 새로 변수를 할당해주는 역할\n",
        "li1.extend([8,9,10])\n",
        "li1"
      ],
      "metadata": {
        "colab": {
          "base_uri": "https://localhost:8080/"
        },
        "id": "p0lcAT2DjQ_A",
        "outputId": "5461970c-39c7-4b38-96da-d0518d69ab21"
      },
      "execution_count": null,
      "outputs": [
        {
          "output_type": "execute_result",
          "data": {
            "text/plain": [
              "['H', 2, 3, 4, 5, 6, 7, [8, 9, 10], 8, 9, 10]"
            ]
          },
          "metadata": {},
          "execution_count": 89
        }
      ]
    },
    {
      "cell_type": "code",
      "source": [
        "# 명령어를 실행한 결과를 반환하지 않습니다. 직접 호출해서 잘 들어갔는지 확인해 주시면 좋습니다."
      ],
      "metadata": {
        "id": "LLOngmTLjYq_"
      },
      "execution_count": null,
      "outputs": []
    },
    {
      "cell_type": "code",
      "source": [
        "li1"
      ],
      "metadata": {
        "colab": {
          "base_uri": "https://localhost:8080/"
        },
        "id": "sxku5HL6j8r7",
        "outputId": "c412ccc7-847e-448b-b733-6aa479857002"
      },
      "execution_count": null,
      "outputs": [
        {
          "output_type": "execute_result",
          "data": {
            "text/plain": [
              "['H', 2, 3, 4, 5, 6, 7, [8, 9, 10], 8, 9, 10]"
            ]
          },
          "metadata": {},
          "execution_count": 91
        }
      ]
    },
    {
      "cell_type": "code",
      "source": [
        "li1 = li1 + [11, 12, 13]"
      ],
      "metadata": {
        "id": "BfE_QY3Ij4-8"
      },
      "execution_count": null,
      "outputs": []
    },
    {
      "cell_type": "code",
      "source": [
        "li1 += [11, 12, 13]"
      ],
      "metadata": {
        "id": "-ZAiMhzYj_Nv"
      },
      "execution_count": null,
      "outputs": []
    },
    {
      "cell_type": "code",
      "source": [
        "li1"
      ],
      "metadata": {
        "colab": {
          "base_uri": "https://localhost:8080/"
        },
        "id": "8JySRJJLkLhA",
        "outputId": "9f23fec1-4eca-4c0c-95a2-42d2ce8bdab8"
      },
      "execution_count": null,
      "outputs": [
        {
          "output_type": "execute_result",
          "data": {
            "text/plain": [
              "['H', 2, 3, 4, 5, 6, 7, [8, 9, 10], 8, 9, 10, 11, 12, 13, 11, 12, 13]"
            ]
          },
          "metadata": {},
          "execution_count": 94
        }
      ]
    },
    {
      "cell_type": "markdown",
      "source": [
        "append vs insert\n",
        "- append는 맨 끝에 원소를 추가하고요\n",
        "- insert 중간에 내가 원하는 위치에 원소를 삽입니다."
      ],
      "metadata": {
        "id": "k8_pLtimkVPV"
      }
    },
    {
      "cell_type": "code",
      "source": [
        "arr = [10, 20, 30, 40, 50]\n",
        "arr"
      ],
      "metadata": {
        "colab": {
          "base_uri": "https://localhost:8080/"
        },
        "id": "DSGb5pBAkMXI",
        "outputId": "627a57e4-7f84-4ca6-e8be-0e4f4ec75dd7"
      },
      "execution_count": null,
      "outputs": [
        {
          "output_type": "execute_result",
          "data": {
            "text/plain": [
              "[10, 20, 30, 40, 50]"
            ]
          },
          "metadata": {},
          "execution_count": 95
        }
      ]
    },
    {
      "cell_type": "code",
      "source": [
        "arr.append(60)"
      ],
      "metadata": {
        "id": "3K9xKieMkjL4"
      },
      "execution_count": null,
      "outputs": []
    },
    {
      "cell_type": "code",
      "source": [
        "arr"
      ],
      "metadata": {
        "colab": {
          "base_uri": "https://localhost:8080/"
        },
        "id": "XYGEoankknqo",
        "outputId": "251b9c7d-575f-45ce-ea73-5c76aa1e3cd3"
      },
      "execution_count": null,
      "outputs": [
        {
          "output_type": "execute_result",
          "data": {
            "text/plain": [
              "[10, 20, 30, 40, 50, 60]"
            ]
          },
          "metadata": {},
          "execution_count": 97
        }
      ]
    },
    {
      "cell_type": "code",
      "source": [
        "arr.insert(3, 35) # 변수명.insert(원하는 자리, 원하는 값)\n",
        "arr"
      ],
      "metadata": {
        "colab": {
          "base_uri": "https://localhost:8080/"
        },
        "id": "a-21HMxnkonv",
        "outputId": "3d210e2c-0eac-484e-e3c2-38821b3489b2"
      },
      "execution_count": null,
      "outputs": [
        {
          "output_type": "execute_result",
          "data": {
            "text/plain": [
              "[10, 20, 30, 35, 40, 50, 60]"
            ]
          },
          "metadata": {},
          "execution_count": 98
        }
      ]
    },
    {
      "cell_type": "markdown",
      "source": [
        "# range \n",
        "  - 범위 내에서 수열을 생성하는 시퀀스 타입입니다.\n",
        "  - 정수만 가능하고요\n",
        "  - 반복문이랑 가장 많이 쓰이는 명령어 중 하나입니다.\n",
        "\n",
        "\n",
        "range(시작점, 끝점+1, step) \n",
        "- 시작점과 step은 생략 가능하다"
      ],
      "metadata": {
        "id": "vsiMAwydk5yD"
      }
    },
    {
      "cell_type": "code",
      "source": [
        "range(1, 10)"
      ],
      "metadata": {
        "colab": {
          "base_uri": "https://localhost:8080/"
        },
        "id": "ammuc1W9lRP_",
        "outputId": "901d3906-ea61-4641-ea62-1abce3f94911"
      },
      "execution_count": null,
      "outputs": [
        {
          "output_type": "execute_result",
          "data": {
            "text/plain": [
              "range(1, 10)"
            ]
          },
          "metadata": {},
          "execution_count": 99
        }
      ]
    },
    {
      "cell_type": "code",
      "source": [
        "a = list(range(1, 10))"
      ],
      "metadata": {
        "id": "pUy2pqMOkw5P"
      },
      "execution_count": null,
      "outputs": []
    },
    {
      "cell_type": "code",
      "source": [
        "len(a)"
      ],
      "metadata": {
        "colab": {
          "base_uri": "https://localhost:8080/"
        },
        "id": "tJzZ9rOQlcrr",
        "outputId": "8631b616-7053-46ba-93bd-61071faeac9c"
      },
      "execution_count": null,
      "outputs": [
        {
          "output_type": "execute_result",
          "data": {
            "text/plain": [
              "9"
            ]
          },
          "metadata": {},
          "execution_count": 101
        }
      ]
    },
    {
      "cell_type": "code",
      "source": [
        "tuple(range(1, 10))"
      ],
      "metadata": {
        "colab": {
          "base_uri": "https://localhost:8080/"
        },
        "id": "IFTEmOivlJa3",
        "outputId": "8f9dac3a-d2d6-4561-bdad-54f72935c451"
      },
      "execution_count": null,
      "outputs": [
        {
          "output_type": "execute_result",
          "data": {
            "text/plain": [
              "(1, 2, 3, 4, 5, 6, 7, 8, 9)"
            ]
          },
          "metadata": {},
          "execution_count": 102
        }
      ]
    },
    {
      "cell_type": "code",
      "source": [
        "# 슬라이스와 유사 \n",
        "# [:]\n",
        "# 시작점은 생략 가능, 끝점은 불가\n",
        "list(range(10))"
      ],
      "metadata": {
        "colab": {
          "base_uri": "https://localhost:8080/"
        },
        "id": "iHcJpgmflPyv",
        "outputId": "a3b8dc4a-006c-434c-bcb7-784be3184838"
      },
      "execution_count": null,
      "outputs": [
        {
          "output_type": "execute_result",
          "data": {
            "text/plain": [
              "[0, 1, 2, 3, 4, 5, 6, 7, 8, 9]"
            ]
          },
          "metadata": {},
          "execution_count": 103
        }
      ]
    },
    {
      "cell_type": "code",
      "source": [
        "list(range(2, 10))"
      ],
      "metadata": {
        "colab": {
          "base_uri": "https://localhost:8080/"
        },
        "id": "HhGvCIK3lqYQ",
        "outputId": "89fb9209-d1d0-4f06-f405-0c1d355c2617"
      },
      "execution_count": null,
      "outputs": [
        {
          "output_type": "execute_result",
          "data": {
            "text/plain": [
              "[2, 3, 4, 5, 6, 7, 8, 9]"
            ]
          },
          "metadata": {},
          "execution_count": 104
        }
      ]
    },
    {
      "cell_type": "code",
      "source": [
        "# step은 생략 가능 - 1일때는 \n",
        "list(range(2, 10, 2))"
      ],
      "metadata": {
        "colab": {
          "base_uri": "https://localhost:8080/"
        },
        "id": "BAF9uEw1lt3g",
        "outputId": "755e005b-5683-43d7-e40a-2718ba59dc49"
      },
      "execution_count": null,
      "outputs": [
        {
          "output_type": "execute_result",
          "data": {
            "text/plain": [
              "[2, 4, 6, 8]"
            ]
          },
          "metadata": {},
          "execution_count": 105
        }
      ]
    },
    {
      "cell_type": "markdown",
      "source": [
        "```\n",
        "[0, 2, 4, 6, 8]\n",
        "[1, 3, 5, 7, 9]\n",
        "```"
      ],
      "metadata": {
        "id": "Ri1OfQuFl0jv"
      }
    },
    {
      "cell_type": "code",
      "source": [
        "list(range(0,10,2)),list(range(1,10,2))"
      ],
      "metadata": {
        "colab": {
          "base_uri": "https://localhost:8080/"
        },
        "id": "bkcoHbLZlyhD",
        "outputId": "aca7c8dc-2715-413b-ffa9-993d82e1e018"
      },
      "execution_count": null,
      "outputs": [
        {
          "output_type": "execute_result",
          "data": {
            "text/plain": [
              "([0, 2, 4, 6, 8], [1, 3, 5, 7, 9])"
            ]
          },
          "metadata": {},
          "execution_count": 106
        }
      ]
    },
    {
      "cell_type": "code",
      "source": [
        ""
      ],
      "metadata": {
        "id": "vCbwhc9dncET"
      },
      "execution_count": null,
      "outputs": []
    },
    {
      "cell_type": "code",
      "source": [
        "list(range(0,8,2))"
      ],
      "metadata": {
        "colab": {
          "base_uri": "https://localhost:8080/"
        },
        "id": "uTHZ_W3imfi4",
        "outputId": "c17eb869-bb46-47e8-8d4c-4018b5274b03"
      },
      "execution_count": null,
      "outputs": [
        {
          "output_type": "execute_result",
          "data": {
            "text/plain": [
              "[0, 2, 4, 6]"
            ]
          },
          "metadata": {},
          "execution_count": 107
        }
      ]
    },
    {
      "cell_type": "code",
      "source": [
        "a= list(range(0,9,2))\n",
        "b = list(range(1,10,2))\n",
        "print(a, b , sep='\\n')"
      ],
      "metadata": {
        "colab": {
          "base_uri": "https://localhost:8080/"
        },
        "id": "mjOdRKGRmvSA",
        "outputId": "baef00f2-3980-42f0-a855-931530a62743"
      },
      "execution_count": null,
      "outputs": [
        {
          "output_type": "stream",
          "name": "stdout",
          "text": [
            "[0, 2, 4, 6, 8]\n",
            "[1, 3, 5, 7, 9]\n"
          ]
        }
      ]
    },
    {
      "cell_type": "code",
      "source": [
        ""
      ],
      "metadata": {
        "id": "Igwe6qpZnUow"
      },
      "execution_count": null,
      "outputs": []
    }
  ]
}