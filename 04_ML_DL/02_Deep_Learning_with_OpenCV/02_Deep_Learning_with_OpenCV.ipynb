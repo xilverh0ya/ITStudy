{
 "cells": [
  {
   "cell_type": "markdown",
   "id": "e6da92e1",
   "metadata": {},
   "source": [
    "# 동영상 파일 다루기"
   ]
  },
  {
   "cell_type": "code",
   "execution_count": 4,
   "id": "a8f9a062",
   "metadata": {},
   "outputs": [],
   "source": [
    "import cv2\n",
    "import sys"
   ]
  },
  {
   "cell_type": "markdown",
   "id": "81cb71a7",
   "metadata": {},
   "source": [
    "### 파일로된 영상"
   ]
  },
  {
   "cell_type": "code",
   "execution_count": 11,
   "id": "31122620",
   "metadata": {},
   "outputs": [
    {
     "name": "stdout",
     "output_type": "stream",
     "text": [
      "frame width, height 640 480\n",
      "fps 30\n",
      "frame read error\n"
     ]
    }
   ],
   "source": [
    "cap = cv2.VideoCapture('./data/stopwatch.avi')\n",
    "\n",
    "if not cap.isOpened():\n",
    "    print(\"Camera open failed!\")\n",
    "    sys.exit()\n",
    "    \n",
    "w, h = int(cap.get(cv2.CAP_PROP_FRAME_WIDTH)), int(cap.get(cv2.CAP_PROP_FRAME_HEIGHT))\n",
    "fps = int(cap.get(cv2.CAP_PROP_FPS))\n",
    "\n",
    "print(\"frame width, height\", w, h)\n",
    "print(\"fps\", fps)\n",
    "\n",
    "while True:\n",
    "    ret, frame = cap.read()\n",
    "    \n",
    "    if not ret:\n",
    "        print(\"frame read error\")\n",
    "        break\n",
    "        \n",
    "    cv2.imshow(\"frame\", frame)\n",
    "    \n",
    "    if cv2.waitKey(10) == 27:    # 27(Exit key), 10 : 10ms delay\n",
    "        break\n",
    "        \n",
    "if cap.isOpened():\n",
    "    cap.release()\n",
    "cv2.destroyAllWindows()"
   ]
  },
  {
   "cell_type": "markdown",
   "id": "2a04e325",
   "metadata": {},
   "source": [
    "**색상 반전하기**"
   ]
  },
  {
   "cell_type": "code",
   "execution_count": 17,
   "id": "407109d2",
   "metadata": {},
   "outputs": [
    {
     "name": "stdout",
     "output_type": "stream",
     "text": [
      "frame width, height 640 480\n",
      "fps 30\n"
     ]
    }
   ],
   "source": [
    "cap = cv2.VideoCapture('./data/stopwatch.avi')\n",
    "\n",
    "if not cap.isOpened():\n",
    "    print(\"Camera open failed!\")\n",
    "    sys.exit()\n",
    "    \n",
    "w, h = int(cap.get(cv2.CAP_PROP_FRAME_WIDTH)), int(cap.get(cv2.CAP_PROP_FRAME_HEIGHT))\n",
    "fps = int(cap.get(cv2.CAP_PROP_FPS))\n",
    "\n",
    "print(\"frame width, height\", w, h)\n",
    "print(\"fps\", fps)\n",
    "\n",
    "while True:\n",
    "    ret, frame = cap.read()\n",
    "    \n",
    "    if not ret:\n",
    "        print(\"frame read error\")\n",
    "        break\n",
    "        \n",
    "    cv2.imshow(\"frame\", 1 - frame[:, :, :])\n",
    "    cv2.imshow(\"frame2\", -frame)\n",
    "    \n",
    "    if cv2.waitKey(10) == 27:    # 27(Exit key), 10 : 10ms delay\n",
    "        break\n",
    "        \n",
    "if cap.isOpened():\n",
    "    cap.release()\n",
    "cv2.destroyAllWindows()"
   ]
  },
  {
   "cell_type": "markdown",
   "id": "6c10704c",
   "metadata": {},
   "source": [
    "### 동영상 저장"
   ]
  },
  {
   "cell_type": "code",
   "execution_count": null,
   "id": "31a11992",
   "metadata": {},
   "outputs": [],
   "source": [
    "cap = cv2.VideoCapture(0)    # 카메라 입력\n",
    "\n",
    "out"
   ]
  },
  {
   "cell_type": "markdown",
   "id": "53e765fd",
   "metadata": {},
   "source": [
    "### 드로이드캠 영상"
   ]
  },
  {
   "cell_type": "markdown",
   "id": "bf8ced87",
   "metadata": {},
   "source": [
    "안드로이드 스마트폰 앱 중 DroidCam을 이용하면 스마트폰 카메라에서 촬영한 영상을 소켓 통신을 통해 보내고 받을 수 있다.\n",
    "- 사용 순서\n",
    "1. 플레이스토어에서 DroidCam 설치\n",
    "2. 스마트폰에서 DroidCam 앱을 실행하고 와이파이 IP, 포트 번호, 'mpegfeed'를 사용해 VideoCapture 객체 cap을 생성(http://IP:port/mjpegfeed')\n",
    "3. 와이파이 IP, 포트 번호는 스마트폰 및 와이파이 환경에 따라 다르고, 'mjpegfeed' 문자열은 앱에 따라 다를 수 있음.\n",
    "아이폰의 경우 (http://IP:port/video')"
   ]
  },
  {
   "cell_type": "code",
   "execution_count": null,
   "id": "4b8406d9",
   "metadata": {},
   "outputs": [],
   "source": []
  },
  {
   "cell_type": "code",
   "execution_count": null,
   "id": "1a0b0f65",
   "metadata": {},
   "outputs": [],
   "source": []
  },
  {
   "cell_type": "markdown",
   "id": "2a0f0f8a",
   "metadata": {},
   "source": [
    "### 유튜브 영상"
   ]
  },
  {
   "cell_type": "markdown",
   "id": "7ce584da",
   "metadata": {},
   "source": [
    "- pafy : 비디오에서 메타데이터 획득, 비디오/오디오를 다운로드 하는 패키지\n",
    "- youtube_dl : patfy의 backend에서 유튜브 동영상을 다운로드\n",
    "\n",
    "**설치방법**\n",
    "- pip install pafy\n",
    "- pip install youtube_dl"
   ]
  },
  {
   "cell_type": "code",
   "execution_count": null,
   "id": "59485551",
   "metadata": {},
   "outputs": [],
   "source": []
  },
  {
   "cell_type": "code",
   "execution_count": null,
   "id": "5a9da1e7",
   "metadata": {},
   "outputs": [],
   "source": []
  },
  {
   "cell_type": "code",
   "execution_count": null,
   "id": "9ab8d8b7",
   "metadata": {},
   "outputs": [],
   "source": []
  },
  {
   "cell_type": "markdown",
   "id": "2f8bf384",
   "metadata": {},
   "source": [
    "# 다양한 그리기 함수"
   ]
  },
  {
   "cell_type": "markdown",
   "id": "a90d5e39",
   "metadata": {},
   "source": [
    "### 직선 그리기"
   ]
  },
  {
   "cell_type": "code",
   "execution_count": null,
   "id": "64397273",
   "metadata": {},
   "outputs": [],
   "source": []
  },
  {
   "cell_type": "code",
   "execution_count": null,
   "id": "4a8cfa48",
   "metadata": {},
   "outputs": [],
   "source": []
  },
  {
   "cell_type": "markdown",
   "id": "12842633",
   "metadata": {},
   "source": [
    "### 도형 그리기"
   ]
  },
  {
   "cell_type": "code",
   "execution_count": null,
   "id": "5c750465",
   "metadata": {},
   "outputs": [],
   "source": []
  },
  {
   "cell_type": "code",
   "execution_count": null,
   "id": "2d6fd1cc",
   "metadata": {},
   "outputs": [],
   "source": []
  },
  {
   "cell_type": "markdown",
   "id": "9efcb6fe",
   "metadata": {},
   "source": [
    "### 문자열 출력하기"
   ]
  },
  {
   "cell_type": "code",
   "execution_count": null,
   "id": "91d8d9f4",
   "metadata": {},
   "outputs": [],
   "source": []
  },
  {
   "cell_type": "code",
   "execution_count": null,
   "id": "3a3f587d",
   "metadata": {},
   "outputs": [],
   "source": []
  },
  {
   "cell_type": "markdown",
   "id": "e234d6bb",
   "metadata": {},
   "source": [
    "### Workshop : 카운트 다운 영상 만들기"
   ]
  },
  {
   "cell_type": "code",
   "execution_count": null,
   "id": "1b0d4430",
   "metadata": {},
   "outputs": [],
   "source": []
  },
  {
   "cell_type": "code",
   "execution_count": null,
   "id": "b941747e",
   "metadata": {},
   "outputs": [],
   "source": []
  },
  {
   "cell_type": "markdown",
   "id": "a87754e8",
   "metadata": {},
   "source": [
    "# 이벤트 처리"
   ]
  },
  {
   "cell_type": "markdown",
   "id": "88d18510",
   "metadata": {},
   "source": [
    "### Keyboard Event"
   ]
  },
  {
   "cell_type": "code",
   "execution_count": null,
   "id": "4021cb05",
   "metadata": {},
   "outputs": [],
   "source": []
  },
  {
   "cell_type": "code",
   "execution_count": null,
   "id": "b24ca456",
   "metadata": {},
   "outputs": [],
   "source": []
  },
  {
   "cell_type": "markdown",
   "id": "c2428156",
   "metadata": {},
   "source": [
    "### Workshop : 키보드 이벤트 처리"
   ]
  },
  {
   "cell_type": "code",
   "execution_count": null,
   "id": "249c99ad",
   "metadata": {},
   "outputs": [],
   "source": []
  },
  {
   "cell_type": "code",
   "execution_count": null,
   "id": "4e9287cf",
   "metadata": {},
   "outputs": [],
   "source": []
  },
  {
   "cell_type": "markdown",
   "id": "69234eac",
   "metadata": {},
   "source": [
    "### Mouse Event"
   ]
  },
  {
   "cell_type": "code",
   "execution_count": null,
   "id": "13361b98",
   "metadata": {},
   "outputs": [],
   "source": []
  },
  {
   "cell_type": "code",
   "execution_count": null,
   "id": "bebe2ef8",
   "metadata": {},
   "outputs": [],
   "source": []
  },
  {
   "cell_type": "markdown",
   "id": "5e0c7bfa",
   "metadata": {},
   "source": [
    "### Workshop : 마우스 이벤트 처리"
   ]
  },
  {
   "cell_type": "code",
   "execution_count": null,
   "id": "d84e7ca8",
   "metadata": {},
   "outputs": [],
   "source": []
  },
  {
   "cell_type": "code",
   "execution_count": null,
   "id": "dacbc357",
   "metadata": {},
   "outputs": [],
   "source": []
  },
  {
   "cell_type": "markdown",
   "id": "7572a481",
   "metadata": {},
   "source": [
    "### Trackbar"
   ]
  },
  {
   "cell_type": "code",
   "execution_count": null,
   "id": "63529196",
   "metadata": {},
   "outputs": [],
   "source": []
  },
  {
   "cell_type": "code",
   "execution_count": null,
   "id": "deb230b0",
   "metadata": {},
   "outputs": [],
   "source": []
  },
  {
   "cell_type": "markdown",
   "id": "d8660a91",
   "metadata": {},
   "source": [
    "### Workshop : 트랙바 이벤트 처리"
   ]
  },
  {
   "cell_type": "code",
   "execution_count": null,
   "id": "6fe08268",
   "metadata": {},
   "outputs": [],
   "source": []
  },
  {
   "cell_type": "code",
   "execution_count": null,
   "id": "80ab1c88",
   "metadata": {},
   "outputs": [],
   "source": []
  },
  {
   "cell_type": "code",
   "execution_count": null,
   "id": "95786b06",
   "metadata": {},
   "outputs": [],
   "source": []
  }
 ],
 "metadata": {
  "kernelspec": {
   "display_name": "Python 3 (ipykernel)",
   "language": "python",
   "name": "python3"
  },
  "language_info": {
   "codemirror_mode": {
    "name": "ipython",
    "version": 3
   },
   "file_extension": ".py",
   "mimetype": "text/x-python",
   "name": "python",
   "nbconvert_exporter": "python",
   "pygments_lexer": "ipython3",
   "version": "3.7.13"
  }
 },
 "nbformat": 4,
 "nbformat_minor": 5
}
