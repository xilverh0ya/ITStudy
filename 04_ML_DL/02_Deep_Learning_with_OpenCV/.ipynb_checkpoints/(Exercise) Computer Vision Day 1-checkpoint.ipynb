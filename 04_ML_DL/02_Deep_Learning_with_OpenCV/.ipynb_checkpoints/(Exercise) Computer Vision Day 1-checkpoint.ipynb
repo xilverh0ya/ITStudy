{
 "cells": [
  {
   "cell_type": "markdown",
   "id": "5e29d7a8",
   "metadata": {},
   "source": [
    "# 기초 사용법"
   ]
  },
  {
   "cell_type": "markdown",
   "id": "a9d6655b",
   "metadata": {},
   "source": [
    "- opencv tutorial : https://docs.opencv.org/4.x/d9/df8/tutorial_root.html"
   ]
  },
  {
   "cell_type": "code",
   "execution_count": 1,
   "id": "440e8610",
   "metadata": {},
   "outputs": [
    {
     "data": {
      "text/plain": [
       "'4.5.5'"
      ]
     },
     "execution_count": 1,
     "metadata": {},
     "output_type": "execute_result"
    }
   ],
   "source": [
    "import cv2\n",
    "\n",
    "cv2.__version__"
   ]
  },
  {
   "cell_type": "code",
   "execution_count": null,
   "id": "7d735667",
   "metadata": {},
   "outputs": [],
   "source": [
    "img = cv2.imread('./data/lenna.bmp')\n",
    "print(type(img), img.shape)\n",
    "\n",
    "cv2.namedWindow(\"image\") # 생략 가능\n",
    "cv2.imshow(\"image\", img)\n",
    "\n",
    "## 종료조건\n",
    "cv2.waitKey()\n",
    "cv2.destroyAllWindows()"
   ]
  },
  {
   "cell_type": "markdown",
   "id": "339899c4",
   "metadata": {},
   "source": [
    "## Workshop : 영상 파일 저장\n",
    "\n",
    "1. './data/lena.jpg' 파일을 읽어 들여서 bmp 파일 형식의 './out/Lena.bmp'로 저장하라.\n",
    "\n",
    "2. './data/lena.jpg' 파일을 읽어 들여서 png 파일 형식의 './out/Lena.png'로 저장하라.\n",
    "\n",
    "3. './data/lena.jpg' 파일을 읽어 들여서 png 파일 형식의 './out/Lena2.png'로 저장하되 압축률 90%를 적용하라. \n",
    "\n",
    "4. './data/lena.jpg' 파일을 읽어 들여서 jpg 파일 형식의 './out/Lena2.jpg'로 저장하되 압축률 50%를 적용하라 "
   ]
  },
  {
   "cell_type": "code",
   "execution_count": null,
   "id": "d76476c4",
   "metadata": {},
   "outputs": [],
   "source": [
    "# cv2.imread(읽을 파일명, 읽을 모드(예:회색 또는 컬러))\n",
    "\n",
    "# cv2.imwrite(저장할 파일명, 이미지데이터) # 압축률 없이 그대로 저장\n",
    "# cv2.imwrite(저장할 파일명, 이미지데이터, [cv2.IMWRITE_PNG_COMPRESSION, 0~9]) # 0~9 압축률로 저장 (png)\n",
    "# cv2.imwrite(저장할 파일명, 이미지데이터, [cv2.IMWRITE_JPEG_QUALIT, 0~100]) # 0~100 압축률로 저장 (jpeg)\n"
   ]
  },
  {
   "cell_type": "code",
   "execution_count": null,
   "id": "98911335",
   "metadata": {},
   "outputs": [],
   "source": [
    "# 1.\n",
    "# color mode로 읽을 경우\n",
    "img = cv2.imread('./data/lena.jpg') # flag : cv2.IMREAD_COLOR(default)\n",
    "\n",
    "# graysclae mode로 읽을 경우\n",
    "# img = cv2.imread('./data/lena.jpg', cv2.IMREAD_GRAYSCALE) # flag : cv2.IMREAD_GRAYSCALE\n",
    "\n",
    "cv2.imwrite('./out/Lena.bmp', img)\n"
   ]
  },
  {
   "cell_type": "code",
   "execution_count": null,
   "id": "5a408b65",
   "metadata": {},
   "outputs": [],
   "source": [
    "# 2.\n",
    "# color mode로 읽을 경우\n",
    "img = cv2.imread('./data/lena.jpg') # flag : cv2.IMREAD_COLOR(default)\n",
    "\n",
    "# graysclae mode로 읽을 경우\n",
    "# img = cv2.imread('./data/lena.jpg', cv2.IMREAD_GRAYSCALE) # flag : cv2.IMREAD_GRAYSCALE\n",
    "\n",
    "cv2.imwrite('./out/Lena.png', img)"
   ]
  },
  {
   "cell_type": "code",
   "execution_count": null,
   "id": "9182aa84",
   "metadata": {},
   "outputs": [],
   "source": [
    "# 3.\n",
    "# color mode로 읽을 경우\n",
    "img = cv2.imread('./data/lena.jpg') # flag : cv2.IMREAD_COLOR(default)\n",
    "\n",
    "# graysclae mode로 읽을 경우\n",
    "# img = cv2.imread('./data/lena.jpg', cv2.IMREAD_GRAYSCALE) # flag : cv2.IMREAD_GRAYSCALE\n",
    "\n",
    "cv2.imwrite('./out/Lena2.png', img, [cv2.IMWRITE_PNG_COMPRESSION, 9])"
   ]
  },
  {
   "cell_type": "code",
   "execution_count": null,
   "id": "e2fbd06c",
   "metadata": {},
   "outputs": [],
   "source": [
    "# 4.\n",
    "# color mode로 읽을 경우\n",
    "img = cv2.imread('./data/lena.jpg') # flag : cv2.IMREAD_COLOR(default)\n",
    "\n",
    "# graysclae mode로 읽을 경우\n",
    "# img = cv2.imread('./data/lena.jpg', cv2.IMREAD_GRAYSCALE) # flag : cv2.IMREAD_GRAYSCALE\n",
    "\n",
    "cv2.imwrite( './out/Lena2.jpg', img, [cv2.IMWRITE_JPEG_QUALITY, 50])"
   ]
  },
  {
   "cell_type": "markdown",
   "id": "7f33af1e",
   "metadata": {},
   "source": [
    "## Workshop : matplotlib  컬러영상 표시\n",
    "1. openCV를 이용해 './data/lena.jpg' 파일을 읽어 들인 후 matplotlib.pyplot의 imshow() 함수를 사용해 화면에 표시하라. \n",
    "- 결과 확인 : **rgb가 반대로 보이는 현상**\n",
    "2. openCV를 이용해 './data/lena.jpg' 파일을 읽어 들인 후 matplotlib.pyplot의 imshow() 함수를 사용해 화면에 표시하라. \n",
    "- 표시된 결과가 원본과 동일한 색조가 되도록 변환 후 화면에 표시\n",
    "3. openCV를 이용해 './data/lena.jpg' 파일을 읽어 들인 후 matplotlib.pyplot의 imshow() 함수를 사용해 화면에 표시하라. \n",
    "- numpy ndarray의 색인 문법으로 컬러 채널의 순서를 변경"
   ]
  },
  {
   "cell_type": "code",
   "execution_count": null,
   "id": "76e1f1d8",
   "metadata": {},
   "outputs": [],
   "source": [
    "import matplotlib.pyplot as plt"
   ]
  },
  {
   "cell_type": "code",
   "execution_count": null,
   "id": "db185cca",
   "metadata": {},
   "outputs": [],
   "source": [
    "# 1.\n",
    "img_path = './data/lena.jpg'\n",
    "img = cv2.imread(img_path)\n",
    "\n",
    "print(img.shape)\n",
    "\n",
    "plt.imshow(img)"
   ]
  },
  {
   "cell_type": "code",
   "execution_count": null,
   "id": "f071d558",
   "metadata": {},
   "outputs": [],
   "source": [
    "# 2.\n",
    "img_path = './data/lena.jpg'\n",
    "img = cv2.imread(img_path) # img에는 BGR 의 순서로 데이터가 준비되어 있음\n",
    "img_rgb = cv2.cvtColor(img, cv2.COLOR_BGR2RGB) # convert 함수에 의해서 BGR -> RGB\n",
    "\n",
    "print(img_rgb.shape)\n",
    "\n",
    "plt.imshow(img_rgb) # matplotlib은 데이터가 RGB 형태로 들어올것을 기대"
   ]
  },
  {
   "cell_type": "code",
   "execution_count": null,
   "id": "cf345d03",
   "metadata": {},
   "outputs": [],
   "source": [
    "# 3.\n",
    "\n",
    "img_path = './data/lena.jpg'\n",
    "img = cv2.imread(img_path) # img에는 BGR 의 순서로 데이터가 준비되어 있음\n",
    "\n",
    "# TODO\n",
    "# numpy ndarray의 색인 문법으로 컬러 채널의 순서를 변경\n",
    "\n",
    "# option 1\n",
    "change = img[:,:,0].copy() # b channel -> change\n",
    "img[:,:,0] = img[:,:,2]  # r channel -> b channel\n",
    "img[:,:,2] = change # change -> r channel\n",
    "plt.imshow(img)"
   ]
  },
  {
   "cell_type": "code",
   "execution_count": null,
   "id": "8127b806",
   "metadata": {},
   "outputs": [],
   "source": [
    "# 3.\n",
    "\n",
    "img_path = './data/lena.jpg'\n",
    "img = cv2.imread(img_path) # img에는 BGR 의 순서로 데이터가 준비되어 있음\n",
    "\n",
    "# TODO\n",
    "# numpy ndarray의 색인 문법으로 컬러 채널의 순서를 변경\n",
    "\n",
    "# option 2\n",
    "img3 = img[...,::-1] #  ...은 특정행이나 열을 한꺼번에 가져오는 것 (by 재희)\n",
    "\n",
    "plt.imshow(img3)"
   ]
  },
  {
   "cell_type": "code",
   "execution_count": null,
   "id": "7af468c9",
   "metadata": {},
   "outputs": [],
   "source": [
    "# 3.\n",
    "\n",
    "img_path = './data/lena.jpg'\n",
    "img = cv2.imread(img_path) # img에는 BGR 의 순서로 데이터가 준비되어 있음\n",
    "\n",
    "# TODO\n",
    "# numpy ndarray의 색인 문법으로 컬러 채널의 순서를 변경\n",
    "\n",
    "# option 3\n",
    "img[:,:,[0,2]]=img[:,:,[2,0]]\n",
    "\n",
    "plt.imshow(img)"
   ]
  },
  {
   "cell_type": "code",
   "execution_count": null,
   "id": "92cf69b7",
   "metadata": {},
   "outputs": [],
   "source": [
    "# 3\n",
    "img_path = './data/lenna.bmp'\n",
    "img = cv2.imread(img_path)\n",
    "print(img.shape)\n",
    "\n",
    "# option 4\n",
    "img_convert = img.copy()\n",
    "img_convert[:,:,0] = img[:,:,2]\n",
    "img_convert[:,:,2] = img[:,:,0]\n",
    "plt.imshow(img_convert)\n"
   ]
  },
  {
   "cell_type": "code",
   "execution_count": null,
   "id": "a9e34648",
   "metadata": {},
   "outputs": [],
   "source": [
    "img_path = './data/lenna.bmp'\n",
    "img = cv2.imread(img_path)\n",
    "\n",
    "# option 5\n",
    "plt.imshow(img[:,:,-1::-1])\n"
   ]
  },
  {
   "cell_type": "markdown",
   "id": "f4a064d6",
   "metadata": {},
   "source": [
    "# 행렬 연산"
   ]
  },
  {
   "cell_type": "code",
   "execution_count": null,
   "id": "b61ec711",
   "metadata": {},
   "outputs": [],
   "source": [
    "import numpy as np"
   ]
  },
  {
   "cell_type": "markdown",
   "id": "9d4b29b0",
   "metadata": {},
   "source": [
    "## 행렬의 생성과 초기화"
   ]
  },
  {
   "cell_type": "code",
   "execution_count": null,
   "id": "dfe26064",
   "metadata": {},
   "outputs": [],
   "source": [
    "# 행렬 생성하는 방법\n",
    "# (1) np.empty\n",
    "# (2) np.zeros\n",
    "# (3) np.ones\n",
    "# (4) np.full"
   ]
  },
  {
   "cell_type": "code",
   "execution_count": null,
   "id": "f4fe9756",
   "metadata": {},
   "outputs": [],
   "source": [
    "# (5) np.array()\n",
    "\n",
    "l = [[1, 2, 3, 4],\n",
    "     [5, 6, 7, 8],\n",
    "     [9, 10, 11, 12]] # python list\n",
    "\n",
    "mat = np.array(l) # numpy ndarray\n",
    "mat"
   ]
  },
  {
   "cell_type": "code",
   "execution_count": null,
   "id": "c1b8cc84",
   "metadata": {},
   "outputs": [],
   "source": [
    "# 색인 (어떤 지점을 찾아가는 방법)\n",
    "# mat에서 2만 100으로 바꾸고 싶다면\n",
    "mat[0, 1] = 100\n",
    "mat"
   ]
  },
  {
   "cell_type": "code",
   "execution_count": null,
   "id": "88eb0c9e",
   "metadata": {},
   "outputs": [],
   "source": [
    "# 슬라이싱 (~부터 ~까지 부분을 찾아가는 방법)\n",
    "# mat에서 마지막행(9~12) 값 모두를 200으로 바꾸고 싶다면\n",
    "mat[2, :] = 200\n",
    "mat"
   ]
  },
  {
   "cell_type": "markdown",
   "id": "43845568",
   "metadata": {},
   "source": [
    "## 행렬의 복사"
   ]
  },
  {
   "cell_type": "code",
   "execution_count": null,
   "id": "ea8ed0d4",
   "metadata": {},
   "outputs": [],
   "source": [
    "img1 = cv2.imread(\"./data/cat.bmp\")\n",
    "\n",
    "img2 = img1 # 치환\n",
    "img3 = img1.copy() # 복사\n",
    "\n",
    "img1[:, :] = (0, 255, 255) \n",
    "\n",
    "# B=0, G=255, R=255\n",
    "# green + red = yellow\n",
    "\n",
    "cv2.imshow(\"img2\", img2)\n",
    "cv2.imshow(\"img3\", img3)\n",
    "\n",
    "cv2.waitKey()\n",
    "cv2.destroyAllWindows()"
   ]
  },
  {
   "cell_type": "markdown",
   "id": "5535f58f",
   "metadata": {},
   "source": [
    "## 행렬 원소값 참조"
   ]
  },
  {
   "cell_type": "code",
   "execution_count": null,
   "id": "96a9d6a3",
   "metadata": {},
   "outputs": [],
   "source": [
    "np.arange(12).reshape(3,4)"
   ]
  },
  {
   "cell_type": "code",
   "execution_count": null,
   "id": "54ab3d13",
   "metadata": {},
   "outputs": [],
   "source": [
    "mat1 = np.arange(12).reshape(3,4)\n",
    "mat2 = np.zeros(mat1.shape, type(mat))\n",
    "\n",
    "# mat2에 \"mat1의 모든 값에 10씩을 더해서\" 넣기"
   ]
  },
  {
   "cell_type": "code",
   "execution_count": null,
   "id": "af17b550",
   "metadata": {},
   "outputs": [],
   "source": [
    "# 파이썬 방식\n",
    "h, w = mat1.shape # (3, 4)\n",
    "for j in range(h):\n",
    "    for i in range(w):\n",
    "        mat2[j, i] = mat1[j, i] + 10"
   ]
  },
  {
   "cell_type": "code",
   "execution_count": null,
   "id": "c703c64e",
   "metadata": {},
   "outputs": [],
   "source": [
    "# 넘파이 방식\n",
    "mat2 = mat1 + 10 # broadcasting\n",
    "mat2"
   ]
  },
  {
   "cell_type": "markdown",
   "id": "4e60d385",
   "metadata": {},
   "source": [
    "## 행렬 연산"
   ]
  },
  {
   "cell_type": "code",
   "execution_count": null,
   "id": "69439176",
   "metadata": {},
   "outputs": [],
   "source": [
    "mat1 = np.ones((3, 4), np.int32)\n",
    "mat2 = np.arange(12).reshape(3,4)\n",
    "\n",
    "mat3 = mat1 + mat2\n",
    "mat4 = mat2 * 2 # broadcasting"
   ]
  },
  {
   "cell_type": "code",
   "execution_count": null,
   "id": "b3a9fafb",
   "metadata": {},
   "outputs": [],
   "source": [
    "mat3, mat4"
   ]
  },
  {
   "cell_type": "markdown",
   "id": "11f862d8",
   "metadata": {},
   "source": [
    "## Workshop : 액자 프레임 만들기"
   ]
  },
  {
   "cell_type": "code",
   "execution_count": null,
   "id": "7f6d6583",
   "metadata": {},
   "outputs": [],
   "source": [
    "img = plt.imread('./data/psj.png')\n",
    "plt.imshow(img)"
   ]
  },
  {
   "cell_type": "code",
   "execution_count": null,
   "id": "993d14e0",
   "metadata": {},
   "outputs": [],
   "source": [
    "print(type(img), img.shape) # shape에서 채널이 4개가 나온 이유는 R, G, B 외에 alpha 채널이 더 있어서 입니다!"
   ]
  },
  {
   "cell_type": "code",
   "execution_count": null,
   "id": "aaaa42f7",
   "metadata": {},
   "outputs": [],
   "source": [
    "img[0, 0] \n",
    "# 좌상단의 첫번째 픽셀의 R, G, B, alpha\n",
    "# 255로 나누어 정규화 된 상태\n",
    "# 0이 최소값, 1이 최대값"
   ]
  },
  {
   "cell_type": "code",
   "execution_count": null,
   "id": "d9d0cbb8",
   "metadata": {},
   "outputs": [],
   "source": [
    "img[0, 0, 0] # R channel의 밝기(광도, intensity)값"
   ]
  },
  {
   "cell_type": "code",
   "execution_count": null,
   "id": "6c90f2d1",
   "metadata": {},
   "outputs": [],
   "source": [
    "img[0, 0, 1] # G channel의 밝기(광도, intensity)값"
   ]
  },
  {
   "cell_type": "code",
   "execution_count": null,
   "id": "e42fbb4f",
   "metadata": {},
   "outputs": [],
   "source": [
    "img[0, 0, 2] # B channel의 밝기(광도, intensity)값"
   ]
  },
  {
   "cell_type": "code",
   "execution_count": null,
   "id": "bbf3045c",
   "metadata": {},
   "outputs": [],
   "source": [
    "img = plt.imread('./data/psj.png')\n",
    "\n",
    "# 좌상단의 첫번째 픽셀을 빨간색으로 변경\n",
    "img[0, 0, 0] = 1\n",
    "img[0, 0, 1] = 0\n",
    "img[0, 0, 2] = 0\n",
    "\n",
    "plt.imshow(img) # 한픽셀이 너무 작아서 확인 불가"
   ]
  },
  {
   "cell_type": "code",
   "execution_count": null,
   "id": "3d917a25",
   "metadata": {},
   "outputs": [],
   "source": [
    "# 범위로 슬라이싱"
   ]
  },
  {
   "cell_type": "code",
   "execution_count": null,
   "id": "4d74949e",
   "metadata": {},
   "outputs": [],
   "source": [
    "img = plt.imread('./data/psj.png')\n",
    "img[0:10, 0:10, 0] = 1\n",
    "img[0:10, 0:10, 1] = 0\n",
    "img[0:10, 0:10, 2] = 0\n",
    "plt.imshow(img)"
   ]
  },
  {
   "cell_type": "code",
   "execution_count": null,
   "id": "e644d93c",
   "metadata": {},
   "outputs": [],
   "source": [
    "img.shape[1]"
   ]
  },
  {
   "cell_type": "code",
   "execution_count": null,
   "id": "61a27336",
   "metadata": {},
   "outputs": [],
   "source": [
    "img = plt.imread('./data/psj.png')\n",
    "\n",
    "#상단 가로\n",
    "img[0:10, :] = [1, 1, 0, 1] # R:1, G:1, B:0, alpha:1\n",
    "\n",
    "#좌측 세로\n",
    "img[:, 0:10] = [1, 1, 0, 1] # R:1, G:1, B:0, alpha:1\n",
    "\n",
    "#우측 세로\n",
    "img[:, img.shape[1]-10:] = [1, 1, 0, 1] # R:1, G:1, B:0, alpha:1\n",
    "\n",
    "#하단 가로\n",
    "img[img.shape[0]-10:, :] = [1, 1, 0, 1] # R:1, G:1, B:0, alpha:1\n",
    "\n",
    "plt.imshow(img)\n"
   ]
  },
  {
   "cell_type": "code",
   "execution_count": null,
   "id": "8a12d481",
   "metadata": {},
   "outputs": [],
   "source": [
    "# 반전\n",
    "img = plt.imread('./data/psj.png')\n",
    "\n",
    "# option 1\n",
    "img[:, :, :3] = 1 - img[:, :, :3]\n",
    "\n",
    "plt.imshow(img)"
   ]
  },
  {
   "cell_type": "code",
   "execution_count": null,
   "id": "25ac5e54",
   "metadata": {},
   "outputs": [],
   "source": [
    "# option 2\n",
    "img = plt.imread('./data/psj.png')\n",
    "img = np.abs(1 - img[:,:])\n",
    "img[:,:,3] = 1\n",
    "plt.imshow(img)"
   ]
  },
  {
   "cell_type": "code",
   "execution_count": null,
   "id": "245c6f85",
   "metadata": {},
   "outputs": [],
   "source": [
    "# option 3\n",
    "img = plt.imread('./data/psj.png')\n",
    "img3 = img.copy()\n",
    "img3 = abs(img3-1)\n",
    "img3[:,:,3] = img[:,:,3]\n",
    "plt.imshow(img3);\n"
   ]
  },
  {
   "cell_type": "markdown",
   "id": "e3dfeab1",
   "metadata": {},
   "source": [
    "# 동영상 파일 다루기"
   ]
  },
  {
   "cell_type": "markdown",
   "id": "e63eb513",
   "metadata": {},
   "source": [
    "## 카메라 입력"
   ]
  },
  {
   "cell_type": "code",
   "execution_count": null,
   "id": "d366f689",
   "metadata": {},
   "outputs": [],
   "source": [
    "# cap = cv2.VideoCapture(device) # 카메라 디바이스, \n",
    "# cap = cv2.VideoCapture(file_path) # 동영상 파일\n",
    "# cap = cv2.VideoCapture(url) # 스트리밍 주소 "
   ]
  },
  {
   "cell_type": "code",
   "execution_count": 3,
   "id": "6517d38c",
   "metadata": {},
   "outputs": [
    {
     "name": "stdout",
     "output_type": "stream",
     "text": [
      "cap released\n"
     ]
    }
   ],
   "source": [
    "cap = cv2.VideoCapture(0)\n",
    "\n",
    "if not cap.isOpened():\n",
    "    print(\"Camera open failed!!\")\n",
    "    sys.exit()\n",
    "\n",
    "while True: # 무한반복에서는 반드시 break문 있어야 함!!\n",
    "\n",
    "    ret, frame = cap.read() # frane : 이미지 1장\n",
    "    \n",
    "    if not ret:\n",
    "        print(\"frame read error\")\n",
    "        break;\n",
    "        \n",
    "    cv2.imshow(\"frame\", frame)\n",
    "\n",
    "    if cv2.waitKey(10) == ord('q'): # cv2.waitKey(10) : 10ms 를 기다리기, Sleep효과\n",
    "                              # 27 : ESC Key \n",
    "        break;\n",
    "\n",
    "if cap.isOpened():\n",
    "    print(\"cap released\")\n",
    "    cap.release()        \n",
    "cv2.destroyAllWindows()    "
   ]
  },
  {
   "cell_type": "code",
   "execution_count": null,
   "id": "6a78ad81",
   "metadata": {},
   "outputs": [],
   "source": []
  },
  {
   "cell_type": "markdown",
   "id": "af199586",
   "metadata": {},
   "source": [
    "동영상 파일 : ./data/stopwatch.avi\n",
    "- 윈도우에 재생\n",
    "- 반전해서도 표시"
   ]
  },
  {
   "cell_type": "code",
   "execution_count": null,
   "id": "ea8a58ab",
   "metadata": {},
   "outputs": [],
   "source": [
    "if cap.isOpened():\n",
    "    cap.release()        \n",
    "cv2.destroyAllWindows()    "
   ]
  },
  {
   "cell_type": "code",
   "execution_count": null,
   "id": "8b2167a2",
   "metadata": {},
   "outputs": [],
   "source": [
    "# cap.get() # 입력영상의 속성들을 알 수 있는 함수"
   ]
  },
  {
   "cell_type": "code",
   "execution_count": null,
   "id": "93a7ae8e",
   "metadata": {},
   "outputs": [],
   "source": [
    "# cv2.CAP_PROP_FRAME_WIDTH\n",
    "# cv2.CAP_PROP_FRAME_HEIGHT\n",
    "# cv2.CAP_PROP_FPS"
   ]
  },
  {
   "cell_type": "code",
   "execution_count": null,
   "id": "8f63b232",
   "metadata": {},
   "outputs": [],
   "source": []
  },
  {
   "cell_type": "markdown",
   "id": "ca20554a",
   "metadata": {},
   "source": [
    "## 동영상 파일"
   ]
  },
  {
   "cell_type": "code",
   "execution_count": null,
   "id": "017a092b",
   "metadata": {},
   "outputs": [],
   "source": []
  },
  {
   "cell_type": "markdown",
   "id": "d108b5cc",
   "metadata": {},
   "source": [
    "## 동영상 저장"
   ]
  },
  {
   "cell_type": "code",
   "execution_count": null,
   "id": "fc595bac",
   "metadata": {},
   "outputs": [],
   "source": []
  },
  {
   "cell_type": "code",
   "execution_count": null,
   "id": "d0e73b5e",
   "metadata": {},
   "outputs": [],
   "source": []
  },
  {
   "cell_type": "code",
   "execution_count": null,
   "id": "7ddefacb",
   "metadata": {},
   "outputs": [],
   "source": []
  }
 ],
 "metadata": {
  "kernelspec": {
   "display_name": "Python 3 (ipykernel)",
   "language": "python",
   "name": "python3"
  },
  "language_info": {
   "codemirror_mode": {
    "name": "ipython",
    "version": 3
   },
   "file_extension": ".py",
   "mimetype": "text/x-python",
   "name": "python",
   "nbconvert_exporter": "python",
   "pygments_lexer": "ipython3",
   "version": "3.7.13"
  }
 },
 "nbformat": 4,
 "nbformat_minor": 5
}
