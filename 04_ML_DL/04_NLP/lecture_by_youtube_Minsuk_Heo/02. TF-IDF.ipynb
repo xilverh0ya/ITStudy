{
 "cells": [
  {
   "cell_type": "markdown",
   "metadata": {},
   "source": [
    "## 01. TF-IDF\n",
    "- TF : Term Frequency\n",
    "- IDF : Inverse Document Frequency\n",
    "- TF-IDF : Term Frequency * Inverse Document Frequency"
   ]
  },
  {
   "cell_type": "markdown",
   "metadata": {},
   "source": [
    "### 1. TF-IDF를 쓰는 이유\n",
    "![Why_TF_IDF_1](./assets/Why_TF_IDF_1.png)  \n",
    "- 각 단어별로 문서와 연관성을 찾기 위해서\n",
    "    - 문서와의 연관성이란? : 어떤 문장이 있을 때, 각 단어별로 이 문서에 대한 정보를 얼마나 가지고 있는 지 수치로 나타낸 데이터"
   ]
  },
  {
   "cell_type": "markdown",
   "metadata": {},
   "source": [
    "### 2. TF\n",
    "#### 1) TF(Term Frequency)란?\n",
    "- TF는 문서에 단어가 몇 번 출현했는지에 대한 데이터"
   ]
  },
  {
   "cell_type": "markdown",
   "metadata": {},
   "source": [
    "#### 2) TF를 쓰는 이유\n",
    "- TF개념의 가정 : 자주 출현하는 단어는 문서와 연관성이 높을 것이다.  \n",
    "![Why_TF_1](./assets/Why_TF_1.png)  \n",
    "    - 총 단어 수 : 7\n",
    "    - 총 단어 수 中 3개를 차지하고 있는 car의 연관성이 가장 높을 것이다.\n",
    "    - car의 TF Score : 3  \n",
    "<br>\n",
    "- TF Scroe의 한계  \n",
    "![TF_Score_drawback_1](./assets/TF_Score_drawback_1.png)  \n",
    "    - 중요하지 않은 단어인 a가 중요도가 높게 나옴\n",
    "    - 조사, 전치사 등의 따로 의미가 없지만 높은 빈도로 사용하는 단어들에도 높은 점수가 주어질 수 있음"
   ]
  },
  {
   "cell_type": "markdown",
   "metadata": {},
   "source": [
    "#### 3) IDF(Inverse Document Frequency)란?\n",
    "- 문서와 연관성이 없는데도 불구하고 어느 문장에서나 자주 출연하는 단어들에 대해 패널티를 주기 위한 개념\n",
    "- 공식 : Log ( Total # of Docs / # of Docs with the term in it )\n",
    "- 공식(Smoothing 적용) : Log ( Total # of Docs / # of Docs with the term in it + 1 ) 수학적 오류를 피하기 위함  \n",
    "![What_is_IDF_Score_1](./assets/What_is_IDF_score_1.png)\n",
    "    - a는 두 문장에서 둘 다 출현했으므로 Log(2 / 2) = 0\n",
    "    - 나머지는 두 문장에서 한 번씩 출연했으므로 Log(2 / 1) = 0.3"
   ]
  },
  {
   "cell_type": "markdown",
   "metadata": {},
   "source": [
    "#### 4) TF-IDF Score\n",
    "- TF Score와 IDF Score를 곱해준 값  \n",
    "![TF-IDF_Score_explain_1](./assets/TF-IDF_Score_explain_1.png)  \n",
    "    - a는 0\n",
    "    - 각각의 문장에서 핵심 단어인 car와 friend가 가장 높은 Score 기록"
   ]
  }
 ],
 "metadata": {
  "language_info": {
   "name": "python"
  },
  "orig_nbformat": 4
 },
 "nbformat": 4,
 "nbformat_minor": 2
}
