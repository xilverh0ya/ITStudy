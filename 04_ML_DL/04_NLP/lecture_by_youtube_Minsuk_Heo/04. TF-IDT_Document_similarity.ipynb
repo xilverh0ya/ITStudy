{
 "cells": [
  {
   "cell_type": "markdown",
   "metadata": {},
   "source": [
    "## 01. TF_IDF 문서 유사도 측정"
   ]
  },
  {
   "cell_type": "markdown",
   "metadata": {},
   "source": [
    "### 1. 문서 유사도를 구하는 법\n",
    "- 1. Bag of Word 에서 Consine 유사도 활용  \n",
    "<br>\n",
    "- 2. Bag of Word 에서 TF-IDF 적용 후, Consine 유사도 활용  \n",
    "<br>\n",
    "\n",
    "- 예제  \n",
    "![Docu_similarity_explain_1](./assets/Docu_similarity_explain_1.png)  \n",
    "<br>\n",
    "\n",
    "- Bag of word 적용  \n",
    "![Docu_similarity_explain_2](./assets/Docu_similarity_explain_2.png)  "
   ]
  },
  {
   "cell_type": "markdown",
   "metadata": {},
   "source": [
    "#### 1) Bag of Word 에서 Cosine 유사도 활용\n",
    "- 단어 벡터들을 활용해서 코사인 유사도 구하기 (d1, d2)\n",
    "![Docu_similarity_explain_3](./assets/Docu_similarity_explain_3.png)  \n",
    "![Docu_similarity_explain_4](./assets/Docu_similarity_explain_4.png)  \n",
    "\n",
    "<br>\n",
    "\n",
    "- d4와 다른 문장들의 코사인 유사도  \n",
    "![Docu_similarity_explain_4](./assets/Docu_similarity_explain_4.png)  \n",
    "    - 자기 자신 외에 가장 유사도가 높은 값은 d1\n",
    "    - 하지만 d2의 유사도가 더 높아야 함.\n",
    "        - 검색이 잘못된 경우라고 볼 수 있음.(원하는 결과 X)"
   ]
  },
  {
   "cell_type": "markdown",
   "metadata": {},
   "source": [
    "#### 2) Bag of Word 에서 TF-IDF 적용 후, Cosine 유사도 활용"
   ]
  }
 ],
 "metadata": {
  "language_info": {
   "name": "python"
  },
  "orig_nbformat": 4
 },
 "nbformat": 4,
 "nbformat_minor": 2
}
