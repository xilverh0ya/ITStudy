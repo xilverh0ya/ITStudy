{
 "cells": [
  {
   "cell_type": "markdown",
   "metadata": {},
   "source": [
    "## 자연어 처리에서 유사도 측정 방법"
   ]
  },
  {
   "cell_type": "markdown",
   "metadata": {},
   "source": [
    "### 1. 유클리드 거리 (Euclidean Distance)\n",
    "- Vector 상에서 거리가 가까우면 유사도가 더 높다.  \n",
    "![Euclidean_Distance_explain_1](./assets/Euclidean_Distance_explain_1.png)  \n",
    "    - d1 < d2 : prince가 precess보다 man과의 유사도가 높다는 의미\n",
    "    <br><br>\n",
    "- 거리를 계산하는 방법 : 피타고라스의 정리\n",
    "![Euclidean_Distance_explain_2](./assets/Euclidean_Distance_explain_2.png)  "
   ]
  },
  {
   "cell_type": "markdown",
   "metadata": {},
   "source": [
    "### 2. 코사인 유사도 (Cosine Similarity)\n",
    "- 다음과 같은 예제에서  \n",
    "![Cosine_Similarity_explain_1](./assets/Cosine_Similarity_expain_1.png)  \n",
    "    - 유클리드 거리로는 2번 문장이 laundering과 유사도가 더 높게 나오지만 실제로는 money가 6번 반복된 문장과 유사도가 더 높다.\n",
    "    - Vector의 특성때문에 나오는 문제\n",
    "    - 이런 문제를 해결하기 위해서 나온 개념 : 코사인 유사도 (Cosine Similarity)\n",
    "    <br><br>\n",
    "- 코사인 유사도에서는 Vector의 크기를 고려하지 않고, 각도만 고려하여 유사도 결정  \n",
    "![Cosine_Similarity_explain_2](./assets/Cosine_Similarity_expain_2.png)  \n",
    "    - 각도가 더 좁을수록 유사도가 더 높다.\n",
    "    ![Cosine_Similarity_explain_3](./assets/Cosine_Similarity_expain_3.png)  \n",
    "        - Cosine의 특성 이용\n",
    "        - 각이 0일 때 : 1\n",
    "        - 각이 90일 때 : 0\n",
    "    <br>\n",
    "    - Cosine θ 구하는 법  \n",
    "    ![Cosine_Similarity_explain_4](./assets/Cosine_Similarity_expain_4.png)   \n",
    "        - Cosine θ = 벡터의 곱 / 각 벡터 크기의 곱\n",
    "    <br>\n",
    "    - 유사도 구하기 예제\n",
    "    ![Cosine_Similarity_explain_6](./assets/Cosine_Similarity_expain_5.png)   \n",
    "        - Similarity = Cosine θ\n",
    "<br>\n",
    "\n",
    "- 각이 90도보다 더 크다면?\n",
    "    - 일반적으로, 각이 90도보다 더 클 수 없음.  \n",
    "    ![Cosine_Similarity_explain_7](./assets/Cosine_Similarity_expain_6.png)  \n",
    "        - 단어의 갯수를 축으로 삼기 때문에 음수가 나올 수 없음."
   ]
  }
 ],
 "metadata": {
  "language_info": {
   "name": "python"
  },
  "orig_nbformat": 4
 },
 "nbformat": 4,
 "nbformat_minor": 2
}
