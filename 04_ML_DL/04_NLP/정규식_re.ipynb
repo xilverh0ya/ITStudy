{
  "nbformat": 4,
  "nbformat_minor": 0,
  "metadata": {
    "colab": {
      "name": "정규식 re.ipynb",
      "provenance": [],
      "collapsed_sections": []
    },
    "kernelspec": {
      "name": "python3",
      "display_name": "Python 3"
    },
    "language_info": {
      "name": "python"
    }
  },
  "cells": [
    {
      "cell_type": "markdown",
      "source": [
        "# 1. 정규식 re"
      ],
      "metadata": {
        "id": "d39bkO0U9Sdu"
      }
    },
    {
      "cell_type": "markdown",
      "source": [
        "## 1) complie 형태\n",
        "예시) p = re.compile('ca.e')\n",
        "\n",
        "- . : 하나의 문자를  \n",
        "cf) ca.e : care, cafe, case\n",
        "- 문자열의 시작에서 \n",
        "cf) ^de : de로 시작하는 모든 것, destination\n",
        "- 문자열의 끝에서 \n",
        "cf) se$ : case, base "
      ],
      "metadata": {
        "id": "C3BWcMI59VtZ"
      }
    },
    {
      "cell_type": "markdown",
      "source": [
        "## 2) 메소드 \n",
        "- case로 예시\n",
        "\n",
        "### A) match\n",
        "```\n",
        "m = p.match('case')  # case\n",
        "```\n",
        "### B) search\n",
        "```\n",
        "m = p.search('case') # case\n",
        "```\n",
        "### C) findall\n",
        "```\n",
        "lst = p.findall('case') # ['case']\n",
        "```"
      ],
      "metadata": {
        "id": "cCxGq_fn-NRo"
      }
    },
    {
      "cell_type": "code",
      "source": [
        "import re"
      ],
      "metadata": {
        "id": "YC4GDBMG_BfG"
      },
      "execution_count": null,
      "outputs": []
    },
    {
      "cell_type": "code",
      "source": [
        "def print_match(m):\n",
        "    if m:\n",
        "        print(m.group())\n",
        "    else:\n",
        "        print('매칭되지 않음')"
      ],
      "metadata": {
        "id": "jSwGRDtN_A0X"
      },
      "execution_count": null,
      "outputs": []
    },
    {
      "cell_type": "code",
      "source": [
        "#match: 일치하는 것만 반환\n",
        "p = re.compile('ca.e') #세번째 글자가 기억 안 날때 \n",
        "m1 = p.match('case')\n",
        "m_error = p.match('caffe')\n",
        "m2 = p.match('caseless')\n",
        "m3 = p.match('Good case') # search와 비교\n",
        "\n",
        "m_lst = [m1, m_error, m2, m3, ]\n",
        "\n",
        "for i in m_lst:\n",
        "    print_match(i)\n",
        "    print('-'*20)"
      ],
      "metadata": {
        "colab": {
          "base_uri": "https://localhost:8080/"
        },
        "id": "C_TJt4dy_GP1",
        "outputId": "57875afa-5545-429a-92f4-c04658ff2d67"
      },
      "execution_count": null,
      "outputs": [
        {
          "output_type": "stream",
          "name": "stdout",
          "text": [
            "case\n",
            "--------------------\n",
            "매칭되지 않음\n",
            "--------------------\n",
            "case\n",
            "--------------------\n",
            "매칭되지 않음\n",
            "--------------------\n"
          ]
        }
      ]
    },
    {
      "cell_type": "code",
      "source": [
        "#search : 일치하는 것을 포함한 통 문자열 반환\n",
        "p = re.compile('ca.e') #세번째 글자가 기억 안 날때 \n",
        "m1 = p.search('case')\n",
        "m_error = p.search('caffe')\n",
        "m2 = p.search('caseless')\n",
        "m3 = p.search('Good case') # match와 비교\n",
        "\n",
        "m_lst = [m1, m_error, m2, m3, ]\n",
        "\n",
        "for i in m_lst:\n",
        "    print_match(i)\n",
        "    print('-'*20)"
      ],
      "metadata": {
        "colab": {
          "base_uri": "https://localhost:8080/"
        },
        "id": "twP7M1hk-56p",
        "outputId": "8d0a1f28-42aa-4717-ed0f-3289afc040cc"
      },
      "execution_count": null,
      "outputs": [
        {
          "output_type": "stream",
          "name": "stdout",
          "text": [
            "case\n",
            "--------------------\n",
            "매칭되지 않음\n",
            "--------------------\n",
            "case\n",
            "--------------------\n",
            "case\n",
            "--------------------\n"
          ]
        }
      ]
    },
    {
      "cell_type": "code",
      "source": [
        "#findall 일치하는 모든 것을 리스트 형태로 반환\n",
        "p = re.compile('ca.e') #세번째 글자가 기억 안 날때 \n",
        "lst1 = p.findall('care')\n",
        "lst2 = p.findall('Good care')\n",
        "lst3 = p.findall('Good care cafe')\n",
        "lst_lst = [lst1, lst2, lst3]\n",
        "\n",
        "for i in lst_lst:\n",
        "    print(i)"
      ],
      "metadata": {
        "colab": {
          "base_uri": "https://localhost:8080/"
        },
        "id": "XyqlRNlJ9pve",
        "outputId": "500d9014-b595-4751-cc38-c13caca82291"
      },
      "execution_count": null,
      "outputs": [
        {
          "output_type": "stream",
          "name": "stdout",
          "text": [
            "['care']\n",
            "['care']\n",
            "['care', 'cafe']\n"
          ]
        }
      ]
    },
    {
      "cell_type": "markdown",
      "source": [
        "## 3) 반환 형식\n",
        "\n",
        "- m.group() #포함한 문자열만\n",
        "- m.string #포함한 문자열 전체\n",
        "- m.start() # 해당 문자열 첫 인덱스\n",
        "- m.end() #해당 문자열 마지막 인덱스\n",
        "- m.span() #해당 문자역의 첫번째와 마지막 인덱스"
      ],
      "metadata": {
        "id": "bXzrBzi9ABxh"
      }
    },
    {
      "cell_type": "code",
      "source": [
        "def print_search(m):\n",
        "    if m:\n",
        "        print('m.group(): ',m.group()) #포함한 문자열만\n",
        "        print('m.string:',m.string) #포함한 문자열 전체\n",
        "        print('m.start():',m.start()) # 해당 문자열 첫 인덱스\n",
        "        print('m.end():',m.end()) #해당 문자열 마지막 인덱스\n",
        "        print('m.span():', m.span()) #해당 문자역의 첫번째와 마지막 인덱스\n",
        "    else:\n",
        "        print('매칭되지 않음')"
      ],
      "metadata": {
        "id": "nkpu36wkAkWD"
      },
      "execution_count": null,
      "outputs": []
    },
    {
      "cell_type": "code",
      "source": [
        "#search : 일치하는 것을 포함한 통 문자열 반환\n",
        "p = re.compile('ca.e') #세번째 글자가 기억 안 날때 \n",
        "m1 = p.search('case')\n",
        "m_error = p.search('caffe')\n",
        "m2 = p.search('caseless')\n",
        "m3 = p.search('Good case')\n",
        "\n",
        "m_lst = [m1, m_error, m2, m3, ]\n",
        "\n",
        "for i in m_lst:\n",
        "    print_search(i)\n",
        "    print('-'*20)"
      ],
      "metadata": {
        "colab": {
          "base_uri": "https://localhost:8080/"
        },
        "id": "i6sUxm4-AnbP",
        "outputId": "546635fc-a0c7-4611-ae90-574bbb10c015"
      },
      "execution_count": null,
      "outputs": [
        {
          "output_type": "stream",
          "name": "stdout",
          "text": [
            "m.group():  case\n",
            "m.string: case\n",
            "m.start(): 0\n",
            "m.end(): 4\n",
            "m.span(): (0, 4)\n",
            "--------------------\n",
            "매칭되지 않음\n",
            "--------------------\n",
            "m.group():  case\n",
            "m.string: caseless\n",
            "m.start(): 0\n",
            "m.end(): 4\n",
            "m.span(): (0, 4)\n",
            "--------------------\n",
            "m.group():  case\n",
            "m.string: Good case\n",
            "m.start(): 5\n",
            "m.end(): 9\n",
            "m.span(): (5, 9)\n",
            "--------------------\n"
          ]
        }
      ]
    },
    {
      "cell_type": "markdown",
      "source": [
        "# 4) 정규식 더 공부하기\n",
        "- [w3schools](https://www.w3schools.com/python/python_regex.asp)\n",
        "- [파이썬 공식문서](https://docs.python.org/ko/3/library/re.html)"
      ],
      "metadata": {
        "id": "g2xxD7C8A6g8"
      }
    }
  ]
}