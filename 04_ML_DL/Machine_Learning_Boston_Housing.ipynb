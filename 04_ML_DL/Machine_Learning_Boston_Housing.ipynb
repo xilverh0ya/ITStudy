{
  "nbformat": 4,
  "nbformat_minor": 0,
  "metadata": {
    "colab": {
      "name": "Machine Learning Boston Housing.ipynb",
      "provenance": [],
      "collapsed_sections": []
    },
    "kernelspec": {
      "name": "python3",
      "display_name": "Python 3"
    },
    "language_info": {
      "name": "python"
    }
  },
  "cells": [
    {
      "cell_type": "markdown",
      "source": [
        "## 보스톤 주택가격 예측"
      ],
      "metadata": {
        "id": "XJCjTPfv4eEy"
      }
    },
    {
      "cell_type": "code",
      "execution_count": 1,
      "metadata": {
        "id": "ac1y782u4bmM"
      },
      "outputs": [],
      "source": [
        "from sklearn.datasets import load_boston"
      ]
    },
    {
      "cell_type": "code",
      "source": [
        "boston = load_boston()"
      ],
      "metadata": {
        "colab": {
          "base_uri": "https://localhost:8080/"
        },
        "id": "0Gej325s4t4z",
        "outputId": "0d84dee8-81c0-4de8-9c08-9eadc616f2c7"
      },
      "execution_count": 2,
      "outputs": [
        {
          "output_type": "stream",
          "name": "stderr",
          "text": [
            "/usr/local/lib/python3.7/dist-packages/sklearn/utils/deprecation.py:87: FutureWarning: Function load_boston is deprecated; `load_boston` is deprecated in 1.0 and will be removed in 1.2.\n",
            "\n",
            "    The Boston housing prices dataset has an ethical problem. You can refer to\n",
            "    the documentation of this function for further details.\n",
            "\n",
            "    The scikit-learn maintainers therefore strongly discourage the use of this\n",
            "    dataset unless the purpose of the code is to study and educate about\n",
            "    ethical issues in data science and machine learning.\n",
            "\n",
            "    In this special case, you can fetch the dataset from the original\n",
            "    source::\n",
            "\n",
            "        import pandas as pd\n",
            "        import numpy as np\n",
            "\n",
            "\n",
            "        data_url = \"http://lib.stat.cmu.edu/datasets/boston\"\n",
            "        raw_df = pd.read_csv(data_url, sep=\"\\s+\", skiprows=22, header=None)\n",
            "        data = np.hstack([raw_df.values[::2, :], raw_df.values[1::2, :2]])\n",
            "        target = raw_df.values[1::2, 2]\n",
            "\n",
            "    Alternative datasets include the California housing dataset (i.e.\n",
            "    :func:`~sklearn.datasets.fetch_california_housing`) and the Ames housing\n",
            "    dataset. You can load the datasets as follows::\n",
            "\n",
            "        from sklearn.datasets import fetch_california_housing\n",
            "        housing = fetch_california_housing()\n",
            "\n",
            "    for the California housing dataset and::\n",
            "\n",
            "        from sklearn.datasets import fetch_openml\n",
            "        housing = fetch_openml(name=\"house_prices\", as_frame=True)\n",
            "\n",
            "    for the Ames housing dataset.\n",
            "    \n",
            "  warnings.warn(msg, category=FutureWarning)\n"
          ]
        }
      ]
    },
    {
      "cell_type": "markdown",
      "source": [
        "* CRIM: 지역별 범죄 발생률  \n",
        "* ZN: 25,000평방피트를 초과하는 거주 지역의 비율\n",
        "* NDUS: 비상업 지역 넓이 비율\n",
        "* CHAS: 찰스강에 대한 더미 변수(강의 경계에 위치한 경우는 1, 아니면 0)\n",
        "* NOX: 일산화질소 농도\n",
        "* RM: 거주할 수 있는 방 개수\n",
        "* AGE: 1940년 이전에 건축된 소유 주택의 비율\n",
        "* DIS: 5개 주요 고용센터까지의 가중 거리\n",
        "* RAD: 고속도로 접근 용이도\n",
        "* TAX: 10,000달러당 재산세율\n",
        "* PTRATIO: 지역의 교사와 학생 수 비율\n",
        "* B: 지역의 흑인 거주 비율\n",
        "* LSTAT: 하위 계층의 비율\n",
        "* MEDV: 본인 소유의 주택 가격(중앙값)"
      ],
      "metadata": {
        "id": "UAUfBrmn4y2M"
      }
    },
    {
      "cell_type": "code",
      "source": [
        ""
      ],
      "metadata": {
        "id": "lT6T08C74wGH"
      },
      "execution_count": null,
      "outputs": []
    }
  ]
}