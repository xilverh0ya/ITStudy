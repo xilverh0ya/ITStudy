{
  "nbformat": 4,
  "nbformat_minor": 0,
  "metadata": {
    "colab": {
      "name": "Machine Learning Logistic Regression.ipynb",
      "provenance": [],
      "collapsed_sections": []
    },
    "kernelspec": {
      "name": "python3",
      "display_name": "Python 3"
    },
    "language_info": {
      "name": "python"
    }
  },
  "cells": [
    {
      "cell_type": "markdown",
      "source": [
        "## 로지스틱 회귀"
      ],
      "metadata": {
        "id": "nQS1BLjxVjWJ"
      }
    },
    {
      "cell_type": "code",
      "source": [
        "import numpy as np\n",
        "import matplotlib.pyplot as plt"
      ],
      "metadata": {
        "id": "8vlbyKS5V53A"
      },
      "execution_count": 1,
      "outputs": []
    },
    {
      "cell_type": "code",
      "source": [
        "from sklearn.datasets import load_iris\n",
        "\n",
        "iris = load_iris()\n",
        "iris.keys()"
      ],
      "metadata": {
        "colab": {
          "base_uri": "https://localhost:8080/"
        },
        "id": "SgpbhvANV5xj",
        "outputId": "b85a9662-821d-4e31-fb24-3e81183bda09"
      },
      "execution_count": 2,
      "outputs": [
        {
          "output_type": "execute_result",
          "data": {
            "text/plain": [
              "dict_keys(['data', 'target', 'frame', 'target_names', 'DESCR', 'feature_names', 'filename', 'data_module'])"
            ]
          },
          "metadata": {},
          "execution_count": 2
        }
      ]
    },
    {
      "cell_type": "code",
      "source": [
        "iris.feature_names"
      ],
      "metadata": {
        "colab": {
          "base_uri": "https://localhost:8080/"
        },
        "id": "Y5EM1VTyWQLH",
        "outputId": "d943cefc-4757-4258-bafc-4dd336ea137e"
      },
      "execution_count": 4,
      "outputs": [
        {
          "output_type": "execute_result",
          "data": {
            "text/plain": [
              "['sepal length (cm)',\n",
              " 'sepal width (cm)',\n",
              " 'petal length (cm)',\n",
              " 'petal width (cm)']"
            ]
          },
          "metadata": {},
          "execution_count": 4
        }
      ]
    },
    {
      "cell_type": "code",
      "source": [
        "iris.target_names"
      ],
      "metadata": {
        "colab": {
          "base_uri": "https://localhost:8080/"
        },
        "id": "QpJ2plveWYMl",
        "outputId": "1aa8833a-e677-478e-e872-47a8d5a4303a"
      },
      "execution_count": 5,
      "outputs": [
        {
          "output_type": "execute_result",
          "data": {
            "text/plain": [
              "array(['setosa', 'versicolor', 'virginica'], dtype='<U10')"
            ]
          },
          "metadata": {},
          "execution_count": 5
        }
      ]
    },
    {
      "cell_type": "code",
      "source": [
        "iris.data[-5:]"
      ],
      "metadata": {
        "colab": {
          "base_uri": "https://localhost:8080/"
        },
        "id": "HB1Qa4vdYXnd",
        "outputId": "7ac1d3d8-ae2f-468d-df81-46378acf6c04"
      },
      "execution_count": 21,
      "outputs": [
        {
          "output_type": "execute_result",
          "data": {
            "text/plain": [
              "array([[6.7, 3. , 5.2, 2.3],\n",
              "       [6.3, 2.5, 5. , 1.9],\n",
              "       [6.5, 3. , 5.2, 2. ],\n",
              "       [6.2, 3.4, 5.4, 2.3],\n",
              "       [5.9, 3. , 5.1, 1.8]])"
            ]
          },
          "metadata": {},
          "execution_count": 21
        }
      ]
    },
    {
      "cell_type": "code",
      "source": [
        "print(iris.data[:, 3:].shape, iris.data[:, 3].shape)"
      ],
      "metadata": {
        "colab": {
          "base_uri": "https://localhost:8080/"
        },
        "id": "BQG4WFRYV5n8",
        "outputId": "2038c8c3-3e2b-4ec9-be18-396e3f8b33d7"
      },
      "execution_count": 18,
      "outputs": [
        {
          "output_type": "stream",
          "name": "stdout",
          "text": [
            "(150, 1) (150,)\n"
          ]
        }
      ]
    },
    {
      "cell_type": "code",
      "source": [
        ""
      ],
      "metadata": {
        "colab": {
          "base_uri": "https://localhost:8080/"
        },
        "id": "2fwzRs0KXczd",
        "outputId": "d8f88050-8551-4800-e29d-4bc39219952a"
      },
      "execution_count": 9,
      "outputs": [
        {
          "output_type": "execute_result",
          "data": {
            "text/plain": [
              "array([0, 0, 0, 0, 0, 0, 0, 0, 0, 0, 0, 0, 0, 0, 0, 0, 0, 0, 0, 0, 0, 0,\n",
              "       0, 0, 0, 0, 0, 0, 0, 0, 0, 0, 0, 0, 0, 0, 0, 0, 0, 0, 0, 0, 0, 0,\n",
              "       0, 0, 0, 0, 0, 0, 0, 0, 0, 0, 0, 0, 0, 0, 0, 0, 0, 0, 0, 0, 0, 0,\n",
              "       0, 0, 0, 0, 0, 0, 0, 0, 0, 0, 0, 0, 0, 0, 0, 0, 0, 0, 0, 0, 0, 0,\n",
              "       0, 0, 0, 0, 0, 0, 0, 0, 0, 0, 0, 0, 1, 1, 1, 1, 1, 1, 1, 1, 1, 1,\n",
              "       1, 1, 1, 1, 1, 1, 1, 1, 1, 1, 1, 1, 1, 1, 1, 1, 1, 1, 1, 1, 1, 1,\n",
              "       1, 1, 1, 1, 1, 1, 1, 1, 1, 1, 1, 1, 1, 1, 1, 1, 1, 1], dtype=int32)"
            ]
          },
          "metadata": {},
          "execution_count": 9
        }
      ]
    },
    {
      "cell_type": "code",
      "source": [
        "X = iris.data[:, 3:] # 특성 : petal width (cm) 1가지 특성만 사용하기\n",
        "y = (iris.target == 2).astype(np.int32)  # 정답 : viriginica 인지(1) 아닌지(0)"
      ],
      "metadata": {
        "id": "DYqPTOFeWM-O"
      },
      "execution_count": 19,
      "outputs": []
    },
    {
      "cell_type": "code",
      "source": [
        "from sklearn.linear_model import LogisticRegression\n",
        "\n",
        "# LogisticRegression 모델 생성/훈련\n",
        "log_reg = LogisticRegression(random_state=42)\n",
        "log_reg.fit(X, y) # 비용함수(로그 손실)를 최소화하는 모델 파라미터를 찾고 있음"
      ],
      "metadata": {
        "colab": {
          "base_uri": "https://localhost:8080/"
        },
        "id": "MUv1n_jQYPzl",
        "outputId": "a7c361b6-33da-4fd4-e8e8-11eefbc673a5"
      },
      "execution_count": 20,
      "outputs": [
        {
          "output_type": "execute_result",
          "data": {
            "text/plain": [
              "LogisticRegression(random_state=42)"
            ]
          },
          "metadata": {},
          "execution_count": 20
        }
      ]
    },
    {
      "cell_type": "code",
      "source": [
        "# 0cm ~ 3cm 꽃잎의 넓이(petal width)를 테스트 데이터(1000개)로 해서 예측\n",
        "X_new = np.linspace(0, 3, 1000).reshape(-1, 1)  # 1000개의 X_new data가 (1000,1) shape의 2차원 데이터로 바뀜\n",
        "\n",
        "# LogisticRegression 모델로 예측\n",
        "# 학습이 완료된 후 새로운 데이터로 예측을 하는 단계\n",
        "predict_prob = log_reg.predict_proba(X_new) # 중간 과정(확률:시그모이드 함수를 거친 결과)\n",
        "predict = log_reg.predict(X_new) # 최종 결과"
      ],
      "metadata": {
        "id": "Tg2ySobnZQ-P"
      },
      "execution_count": 31,
      "outputs": []
    },
    {
      "cell_type": "code",
      "source": [
        "predict_prob[1][0] # virginica가 아닐 확률 99.924%\n",
        "predict_prob[1][1] # virginica일 확률 0.0007%\n",
        "predict_prob[1][0] + predict_prob[1][1]"
      ],
      "metadata": {
        "colab": {
          "base_uri": "https://localhost:8080/"
        },
        "id": "49is373Wak4M",
        "outputId": "f4a8861d-aac4-4170-f13f-1e1c49593200"
      },
      "execution_count": 38,
      "outputs": [
        {
          "output_type": "execute_result",
          "data": {
            "text/plain": [
              "1.0"
            ]
          },
          "metadata": {},
          "execution_count": 38
        }
      ]
    },
    {
      "cell_type": "code",
      "source": [
        "X_new[500]"
      ],
      "metadata": {
        "colab": {
          "base_uri": "https://localhost:8080/"
        },
        "id": "fa88ozTCirw9",
        "outputId": "c796069a-01d2-482f-cb76-ada03d60bbf6"
      },
      "execution_count": 40,
      "outputs": [
        {
          "output_type": "execute_result",
          "data": {
            "text/plain": [
              "array([1.5015015])"
            ]
          },
          "metadata": {},
          "execution_count": 40
        }
      ]
    },
    {
      "cell_type": "code",
      "source": [
        "predict_prob[500] # 500번 째 데이터(0~3cm의 1000개 데이터 중 5000번째 데이터 - petal width가 대략 1.5cm인 샘플의 확률)\n",
        "                  # 0.5(50%)를 기준으로 virginica일 확률이 33% 밖에 안되므로 virginica가 아님(predict의 결과가 0)"
      ],
      "metadata": {
        "colab": {
          "base_uri": "https://localhost:8080/"
        },
        "id": "VjuvXb9ggxO2",
        "outputId": "54937b72-fd8e-441e-9ba6-bb79052a87d7"
      },
      "execution_count": 39,
      "outputs": [
        {
          "output_type": "execute_result",
          "data": {
            "text/plain": [
              "array([0.66564991, 0.33435009])"
            ]
          },
          "metadata": {},
          "execution_count": 39
        }
      ]
    },
    {
      "cell_type": "code",
      "source": [
        "predict_prob[:10]"
      ],
      "metadata": {
        "colab": {
          "base_uri": "https://localhost:8080/"
        },
        "id": "vS9EtFTgjiol",
        "outputId": "5c53845a-64eb-438c-a18e-be20732cd394"
      },
      "execution_count": 41,
      "outputs": [
        {
          "output_type": "execute_result",
          "data": {
            "text/plain": [
              "array([[9.99250016e-01, 7.49984089e-04],\n",
              "       [9.99240201e-01, 7.59799387e-04],\n",
              "       [9.99230257e-01, 7.69743043e-04],\n",
              "       [9.99220183e-01, 7.79816732e-04],\n",
              "       [9.99209978e-01, 7.90022153e-04],\n",
              "       [9.99199639e-01, 8.00361024e-04],\n",
              "       [9.99189165e-01, 8.10835088e-04],\n",
              "       [9.99178554e-01, 8.21446109e-04],\n",
              "       [9.99167804e-01, 8.32195877e-04],\n",
              "       [9.99156914e-01, 8.43086202e-04]])"
            ]
          },
          "metadata": {},
          "execution_count": 41
        }
      ]
    },
    {
      "cell_type": "code",
      "source": [
        ""
      ],
      "metadata": {
        "colab": {
          "base_uri": "https://localhost:8080/"
        },
        "id": "4ELOdtgVkwOf",
        "outputId": "37198421-fd3f-44fc-fbf7-a12e0f0c11bd"
      },
      "execution_count": 48,
      "outputs": [
        {
          "output_type": "execute_result",
          "data": {
            "text/plain": [
              "array([1.66066066])"
            ]
          },
          "metadata": {},
          "execution_count": 48
        }
      ]
    },
    {
      "cell_type": "code",
      "source": [
        "plt.figure(figsize=(8, 3))\n",
        "plt.plot(X_new, predict_prob[:, 0], \"b--\", label=\"Not Iris-Viriginica\") # virginica가 아닐 확률\n",
        "plt.plot(X_new, predict_prob[:, 1], \"g-\", label=\"Iris-Virginica\") # virginica 일 확률\n",
        "plt.legend()\n",
        "\n",
        "# decision boundary(결정경계)\n",
        "decision_boundary = X_new[predict_prob[:, 1] > 0.5][0] # virginica로 최초로 예측하게 되는 petal width 의 길이, 1.66cm\n",
        "plt.plot([decision_boundary, decision_boundary], [0, 1], \"k:\")\n",
        "print(decision_boundary)"
      ],
      "metadata": {
        "colab": {
          "base_uri": "https://localhost:8080/",
          "height": 230
        },
        "id": "g-EVMNOrioW_",
        "outputId": "a3ef90ec-b765-4df3-c9ca-981b482cd6b5"
      },
      "execution_count": 50,
      "outputs": [
        {
          "output_type": "stream",
          "name": "stdout",
          "text": [
            "[1.66066066]\n"
          ]
        },
        {
          "output_type": "display_data",
          "data": {
            "text/plain": [
              "<Figure size 576x216 with 1 Axes>"
            ],
            "image/png": "[encoded data removed]"
          },
          "metadata": {
            "needs_background": "light"
          }
        }
      ]
    },
    {
      "cell_type": "code",
      "source": [
        "log_reg.predict([[1.7]])  # 결정경계 1.66 보다 크므로 virginica(1)"
      ],
      "metadata": {
        "colab": {
          "base_uri": "https://localhost:8080/"
        },
        "id": "2XAwPo8OmKK1",
        "outputId": "ecd508ec-64d9-4303-f2c3-e66b3106a5d3"
      },
      "execution_count": 54,
      "outputs": [
        {
          "output_type": "execute_result",
          "data": {
            "text/plain": [
              "array([1], dtype=int32)"
            ]
          },
          "metadata": {},
          "execution_count": 54
        }
      ]
    },
    {
      "cell_type": "code",
      "source": [
        "\n",
        "log_reg.predict([[1.5]])  # 결정경계 1.66 보다 작으므로 virginica(0)"
      ],
      "metadata": {
        "colab": {
          "base_uri": "https://localhost:8080/"
        },
        "id": "7AUvfs2BjvQ0",
        "outputId": "09894307-4564-4c41-b0d1-5f7a84ede268"
      },
      "execution_count": 55,
      "outputs": [
        {
          "output_type": "execute_result",
          "data": {
            "text/plain": [
              "array([0], dtype=int32)"
            ]
          },
          "metadata": {},
          "execution_count": 55
        }
      ]
    },
    {
      "cell_type": "code",
      "source": [
        ""
      ],
      "metadata": {
        "id": "-SuEg0k2l5Iq"
      },
      "execution_count": null,
      "outputs": []
    }
  ]
}