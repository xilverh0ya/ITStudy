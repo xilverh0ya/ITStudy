{
  "nbformat": 4,
  "nbformat_minor": 0,
  "metadata": {
    "colab": {
      "name": "Machine Learning Linear Regression.ipynb",
      "provenance": [],
      "collapsed_sections": []
    },
    "kernelspec": {
      "name": "python3",
      "display_name": "Python 3"
    },
    "language_info": {
      "name": "python"
    }
  },
  "cells": [
    {
      "cell_type": "markdown",
      "source": [
        "## 선형 회귀"
      ],
      "metadata": {
        "id": "ECvufce_V-uW"
      }
    },
    {
      "cell_type": "markdown",
      "source": [
        "### 정규 방정식을 사용한 선형 회귀"
      ],
      "metadata": {
        "id": "lYNWORaUWB4H"
      }
    },
    {
      "cell_type": "code",
      "execution_count": 1,
      "metadata": {
        "id": "mrvWKGWUVwm5"
      },
      "outputs": [],
      "source": [
        "import numpy as np\n",
        "import matplotlib.pyplot as plt\n",
        "np.random.seed(42)"
      ]
    },
    {
      "cell_type": "code",
      "source": [
        "X = 2 * np.random.rand(100, 1)\n",
        "y = 3 * X + 4 + np.random.randn(100, 1)"
      ],
      "metadata": {
        "id": "OK7AyYwpWSyY"
      },
      "execution_count": 2,
      "outputs": []
    },
    {
      "cell_type": "code",
      "source": [
        "plt.plot(X, y, 'b.')"
      ],
      "metadata": {
        "colab": {
          "base_uri": "https://localhost:8080/",
          "height": 284
        },
        "id": "h7SbxYmjWzJO",
        "outputId": "ecf7482e-337b-48b8-a6ad-ea2d1fcf6627"
      },
      "execution_count": null,
      "outputs": [
        {
          "output_type": "execute_result",
          "data": {
            "text/plain": [
              "[<matplotlib.lines.Line2D at 0x7f1b59991c10>]"
            ]
          },
          "metadata": {},
          "execution_count": 7
        },
        {
          "output_type": "display_data",
          "data": {
            "text/plain": [
              "<Figure size 432x288 with 1 Axes>"
            ],
            "image/png": "[encoded data removed]"
          },
          "metadata": {
            "needs_background": "light"
          }
        }
      ]
    },
    {
      "cell_type": "code",
      "source": [
        "X_b = np.c_[np.ones((100, 1)), X]"
      ],
      "metadata": {
        "id": "XYuXy27nXife"
      },
      "execution_count": null,
      "outputs": []
    },
    {
      "cell_type": "markdown",
      "source": [
        "![image.png](data:image/png;base64,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)"
      ],
      "metadata": {
        "id": "eKhgqf3uXZoh"
      }
    },
    {
      "cell_type": "markdown",
      "source": [
        "#### 정규방정식공식을 np.linalg 함수들을 이용하여 해를 구함"
      ],
      "metadata": {
        "id": "4pHFJaO6dCRv"
      }
    },
    {
      "cell_type": "code",
      "source": [
        "theta_best = np.linalg.inv(X_b.T.dot(X_b)).dot(X_b.T).dot(y)"
      ],
      "metadata": {
        "id": "Vgvwf9G-Y67F"
      },
      "execution_count": null,
      "outputs": []
    },
    {
      "cell_type": "code",
      "source": [
        "theta_best"
      ],
      "metadata": {
        "colab": {
          "base_uri": "https://localhost:8080/"
        },
        "id": "hlZC60tqaG5K",
        "outputId": "0688d280-5e1b-43c0-aa2a-4327f6ae0d32"
      },
      "execution_count": null,
      "outputs": [
        {
          "output_type": "execute_result",
          "data": {
            "text/plain": [
              "array([[4.21509616],\n",
              "       [2.77011339]])"
            ]
          },
          "metadata": {},
          "execution_count": 13
        }
      ]
    },
    {
      "cell_type": "code",
      "source": [
        "X_new = np.array([[0], [2]])\n",
        "X_new_b = np.c_[np.ones((2,1)), X_new]\n",
        "X_new_b\n"
      ],
      "metadata": {
        "colab": {
          "base_uri": "https://localhost:8080/"
        },
        "id": "i_bTFNRmaIU-",
        "outputId": "b8338639-0a16-49bf-fa6d-53a280e0cf25"
      },
      "execution_count": null,
      "outputs": [
        {
          "output_type": "execute_result",
          "data": {
            "text/plain": [
              "array([[1., 0.],\n",
              "       [1., 2.]])"
            ]
          },
          "metadata": {},
          "execution_count": 15
        }
      ]
    },
    {
      "cell_type": "code",
      "source": [
        "y_predict = X_new_b.dot(theta_best)\n",
        "y_predict"
      ],
      "metadata": {
        "colab": {
          "base_uri": "https://localhost:8080/"
        },
        "id": "-6pV2ttRbWv3",
        "outputId": "b8d57248-b2f1-493e-c811-831915c4d835"
      },
      "execution_count": null,
      "outputs": [
        {
          "output_type": "execute_result",
          "data": {
            "text/plain": [
              "array([[4.21509616],\n",
              "       [9.75532293]])"
            ]
          },
          "metadata": {},
          "execution_count": 16
        }
      ]
    },
    {
      "cell_type": "code",
      "source": [
        "plt.plot(X_new, y_predict, \"r-\")\n",
        "plt.plot(X, y, 'b.')\n",
        "plt.show()"
      ],
      "metadata": {
        "colab": {
          "base_uri": "https://localhost:8080/",
          "height": 284
        },
        "id": "1xp752C2boqO",
        "outputId": "e106d7fe-b379-4036-ec6a-9240fa4f3a38"
      },
      "execution_count": null,
      "outputs": [
        {
          "output_type": "execute_result",
          "data": {
            "text/plain": [
              "[<matplotlib.lines.Line2D at 0x7f1b56f4cad0>]"
            ]
          },
          "metadata": {},
          "execution_count": 18
        },
        {
          "output_type": "display_data",
          "data": {
            "text/plain": [
              "<Figure size 432x288 with 1 Axes>"
            ],
            "image/png": "[encoded data removed]"
          },
          "metadata": {
            "needs_background": "light"
          }
        }
      ]
    },
    {
      "cell_type": "markdown",
      "source": [
        "#### 사이킷런 제공 LinearRegression"
      ],
      "metadata": {
        "id": "0Dzw8UnndL1m"
      }
    },
    {
      "cell_type": "code",
      "source": [
        "from sklearn.linear_model import LinearRegression"
      ],
      "metadata": {
        "id": "EaDcA6MNcbJP"
      },
      "execution_count": 34,
      "outputs": []
    },
    {
      "cell_type": "code",
      "source": [
        "lin_reg = LinearRegression()\n",
        "lin_reg.fit(X, y)"
      ],
      "metadata": {
        "colab": {
          "base_uri": "https://localhost:8080/"
        },
        "id": "zb8wQXOIdVCg",
        "outputId": "af3370ba-3692-4cd9-bdd5-6a9d1bf6175b"
      },
      "execution_count": null,
      "outputs": [
        {
          "output_type": "execute_result",
          "data": {
            "text/plain": [
              "LinearRegression()"
            ]
          },
          "metadata": {},
          "execution_count": 20
        }
      ]
    },
    {
      "cell_type": "code",
      "source": [
        "lin_reg.intercept_, lin_reg.coef_"
      ],
      "metadata": {
        "colab": {
          "base_uri": "https://localhost:8080/"
        },
        "id": "uiPdkQCAdju-",
        "outputId": "bc8cac50-cdd0-4e16-b9c4-03fff5a97a3f"
      },
      "execution_count": null,
      "outputs": [
        {
          "output_type": "execute_result",
          "data": {
            "text/plain": [
              "(array([4.21509616]), array([[2.77011339]]))"
            ]
          },
          "metadata": {},
          "execution_count": 21
        }
      ]
    },
    {
      "cell_type": "code",
      "source": [
        "lin_reg.score(__, __) # R2 값"
      ],
      "metadata": {
        "id": "k1GPTlOjdud_"
      },
      "execution_count": null,
      "outputs": []
    },
    {
      "cell_type": "markdown",
      "source": [
        "### 경사 하강법을 사용한 선형 회귀"
      ],
      "metadata": {
        "id": "KGWqzAMDonFz"
      }
    },
    {
      "cell_type": "markdown",
      "source": [
        "![image.png](data:image/png;base64,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)"
      ],
      "metadata": {
        "id": "IqzvsdmGpq6Q"
      }
    },
    {
      "cell_type": "markdown",
      "source": [
        "![image.png](data:image/png;base64,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)"
      ],
      "metadata": {
        "id": "_cTbZji4qkAn"
      }
    },
    {
      "cell_type": "code",
      "source": [
        "X_b = np.c_[np.ones((100, 1)), X]"
      ],
      "metadata": {
        "colab": {
          "base_uri": "https://localhost:8080/"
        },
        "id": "abfpPW--pXr5",
        "outputId": "7dbb303d-4dcc-46c7-c6e4-04dfcd419e7d"
      },
      "execution_count": 4,
      "outputs": [
        {
          "output_type": "execute_result",
          "data": {
            "text/plain": [
              "(100, 2)"
            ]
          },
          "metadata": {},
          "execution_count": 4
        }
      ]
    },
    {
      "cell_type": "code",
      "source": [
        "m = 100\n",
        "theta = np.random.randn(2, 1)\n",
        "eta = 0.1\n",
        "n_iterations = 1000\n",
        "for iteration in range(n_iterations):\n",
        "  gradients = 2/m * X_b.T.dot(X_b.dot(theta) - y)\n",
        "  theta = theta - eta * gradients"
      ],
      "metadata": {
        "id": "gY5AG2L9pXjv"
      },
      "execution_count": 6,
      "outputs": []
    },
    {
      "cell_type": "code",
      "source": [
        "theta"
      ],
      "metadata": {
        "colab": {
          "base_uri": "https://localhost:8080/"
        },
        "id": "V5Ip4czgrbgI",
        "outputId": "958897d1-5cdb-4a9b-d87e-33df294e3023"
      },
      "execution_count": 8,
      "outputs": [
        {
          "output_type": "execute_result",
          "data": {
            "text/plain": [
              "array([[4.21509616],\n",
              "       [2.77011339]])"
            ]
          },
          "metadata": {},
          "execution_count": 8
        }
      ]
    },
    {
      "cell_type": "markdown",
      "source": [
        "#### 확률적 경사 하강법"
      ],
      "metadata": {
        "id": "4VYAzi2Zr9u0"
      }
    },
    {
      "cell_type": "code",
      "source": [
        "np.random.seed(42)"
      ],
      "metadata": {
        "id": "rjiKYlDutuw3"
      },
      "execution_count": 17,
      "outputs": []
    },
    {
      "cell_type": "code",
      "source": [
        "m = 100\n",
        "theta = np.random.randn(2, 1)\n",
        "eta = 0.1\n",
        "n_epochs = 50\n",
        "t0, t1 = 5, 50\n",
        "\n",
        "def learning_schedule(t):\n",
        "  return t0/(t+t1)\n",
        "\n",
        "for epoch in range(n_epochs):\n",
        "  for i in range(m):\n",
        "    random_index = np.random.randint(m)\n",
        "    xi = X_b[random_index: random_index +1] # 한개의 샘플\n",
        "    yi = y[random_index: random_index +1]\n",
        "    gradients = 2 * xi.T.dot(xi.dot(theta) - yi)\n",
        "    eta = learning_schedule(epoch*m + i) # step 수가 증가함에 따라 eta가 작아지게 함\n",
        "    theta = theta - eta * gradients"
      ],
      "metadata": {
        "id": "A2jPxGnfrdl5"
      },
      "execution_count": 18,
      "outputs": []
    },
    {
      "cell_type": "code",
      "source": [
        "theta"
      ],
      "metadata": {
        "colab": {
          "base_uri": "https://localhost:8080/"
        },
        "id": "B67fdd4bv7yZ",
        "outputId": "5739f6e6-2c93-4de8-df8c-2bd04a2fd648"
      },
      "execution_count": 19,
      "outputs": [
        {
          "output_type": "execute_result",
          "data": {
            "text/plain": [
              "array([[4.21076011],\n",
              "       [2.74856079]])"
            ]
          },
          "metadata": {},
          "execution_count": 19
        }
      ]
    },
    {
      "cell_type": "code",
      "source": [
        "from sklearn.linear_model import SGDRegressor\n",
        "sgd_reg = SGDRegressor(max_iter=50, penalty=None, eta0=0.1, random_state=42)\n",
        "sgd_reg.fit(X, y.ravel())"
      ],
      "metadata": {
        "colab": {
          "base_uri": "https://localhost:8080/"
        },
        "id": "Yom2PoKEv-GA",
        "outputId": "22fc19c8-eec0-454a-8841-e09f910c339d"
      },
      "execution_count": 27,
      "outputs": [
        {
          "output_type": "execute_result",
          "data": {
            "text/plain": [
              "SGDRegressor(eta0=0.1, max_iter=50, penalty=None, random_state=42)"
            ]
          },
          "metadata": {},
          "execution_count": 27
        }
      ]
    },
    {
      "cell_type": "code",
      "source": [
        "sgd_reg.intercept_, sgd_reg.coef_"
      ],
      "metadata": {
        "colab": {
          "base_uri": "https://localhost:8080/"
        },
        "id": "M4AtPrKa46CK",
        "outputId": "e45ae671-3c3d-467f-b679-ff7579cd0950"
      },
      "execution_count": 28,
      "outputs": [
        {
          "output_type": "execute_result",
          "data": {
            "text/plain": [
              "(array([4.24365286]), array([2.8250878]))"
            ]
          },
          "metadata": {},
          "execution_count": 28
        }
      ]
    },
    {
      "cell_type": "markdown",
      "source": [
        "### 다항회귀"
      ],
      "metadata": {
        "id": "SbfXkIDm5LqY"
      }
    },
    {
      "cell_type": "code",
      "source": [
        "# 비선형성을 갖는 데이터를 표현하기 위해 0.5X**2 + X + 2 형태의 데이터를 임으로 만듬\n",
        "# 모델 훈련후 0.5, 1, 2(0.5X**2 + X + 2) 와 같은 모델 파라미터를 근사하는지 확인할 목적\n",
        "np.random.seed(42)\n",
        "\n",
        "m = 100\n",
        "X = 6 * np.random.rand(m, 1) - 3\n",
        "y = 0.5 * X**2 + X + 2 + np.random.randn(m, 1)\n",
        "plt.plot(X, y, 'b.')"
      ],
      "metadata": {
        "colab": {
          "base_uri": "https://localhost:8080/",
          "height": 284
        },
        "id": "pksVEI4ttKwj",
        "outputId": "0fd17662-19ad-4b33-b889-a5d685896329"
      },
      "execution_count": 30,
      "outputs": [
        {
          "output_type": "execute_result",
          "data": {
            "text/plain": [
              "[<matplotlib.lines.Line2D at 0x7f011f8c5c50>]"
            ]
          },
          "metadata": {},
          "execution_count": 30
        },
        {
          "output_type": "display_data",
          "data": {
            "text/plain": [
              "<Figure size 432x288 with 1 Axes>"
            ],
            "image/png": "[encoded data removed]"
          },
          "metadata": {
            "needs_background": "light"
          }
        }
      ]
    },
    {
      "cell_type": "code",
      "source": [
        "# 기본 선형회귀 모델로 모델링을 했을때 : 기울기 0.8 절편 3.5 정도의 1차 방정식으로 데이터를 표현\n",
        "lin_reg = LinearRegression()\n",
        "lin_reg.fit(X, y)\n",
        "lin_reg.intercept_, lin_reg.coef_"
      ],
      "metadata": {
        "colab": {
          "base_uri": "https://localhost:8080/"
        },
        "id": "7Dp3Wv1Atb4_",
        "outputId": "4a65fdb8-d133-4765-d185-d663cc387b6a"
      },
      "execution_count": 35,
      "outputs": [
        {
          "output_type": "execute_result",
          "data": {
            "text/plain": [
              "(array([3.56401543]), array([[0.84362064]]))"
            ]
          },
          "metadata": {},
          "execution_count": 35
        }
      ]
    },
    {
      "cell_type": "code",
      "source": [
        "# 특성의 제곱항을 추가하기 위해 PolynomialFeatures 변화기 사용\n",
        "from sklearn.preprocessing import PolynomialFeatures\n",
        "\n",
        "poly_features = PolynomialFeatures(degree=2, include_bias=False) # PolynomialFeatures는 변환기의 한종류\n",
        "\n",
        "X_poly = poly_features.fit_transform(X) # fit과 transform을 동시에 수행, 변환된 데이터가 X_poly로 반환"
      ],
      "metadata": {
        "id": "A8xBWflnubdg"
      },
      "execution_count": 36,
      "outputs": []
    },
    {
      "cell_type": "code",
      "source": [
        "X[0], X_poly[0] # 원본 특성에 제곱된 특성 하나 더 추가된 것을 확인할 수 있음"
      ],
      "metadata": {
        "colab": {
          "base_uri": "https://localhost:8080/"
        },
        "id": "6I8D1Ll5vlrv",
        "outputId": "712abb89-5cce-4709-b4a8-f6f13120fef5"
      },
      "execution_count": 52,
      "outputs": [
        {
          "output_type": "execute_result",
          "data": {
            "text/plain": [
              "(array([-0.75275929]), array([-0.75275929,  0.56664654]))"
            ]
          },
          "metadata": {},
          "execution_count": 52
        }
      ]
    },
    {
      "cell_type": "code",
      "source": [
        "poly_features.get_feature_names()"
      ],
      "metadata": {
        "colab": {
          "base_uri": "https://localhost:8080/"
        },
        "id": "XlCOlIsQvzYk",
        "outputId": "0dc5fd90-6832-419d-80cb-37447ae6b9aa"
      },
      "execution_count": 53,
      "outputs": [
        {
          "output_type": "stream",
          "name": "stderr",
          "text": [
            "/usr/local/lib/python3.7/dist-packages/sklearn/utils/deprecation.py:87: FutureWarning: Function get_feature_names is deprecated; get_feature_names is deprecated in 1.0 and will be removed in 1.2. Please use get_feature_names_out instead.\n",
            "  warnings.warn(msg, category=FutureWarning)\n"
          ]
        },
        {
          "output_type": "execute_result",
          "data": {
            "text/plain": [
              "['x0', 'x0^2']"
            ]
          },
          "metadata": {},
          "execution_count": 53
        }
      ]
    },
    {
      "cell_type": "code",
      "source": [
        "# 다항 회귀 기법(즉, 변환된 데이터로 훈련)을 이용하여 모델링\n",
        "# 모델 훈련후 0.5, 1, 2 (0.5X**2 + X + 2) 와 같은 모델 파라미터를 근사하는지 확인\n",
        "lin_reg = LinearRegression()\n",
        "lin_reg.fit(X_poly, y)\n",
        "lin_reg.intercept_, lin_reg.coef_"
      ],
      "metadata": {
        "colab": {
          "base_uri": "https://localhost:8080/"
        },
        "id": "EUq83mcNwbB0",
        "outputId": "1bb4582d-c516-4beb-bd23-ab129b0167a7"
      },
      "execution_count": 54,
      "outputs": [
        {
          "output_type": "execute_result",
          "data": {
            "text/plain": [
              "(array([1.78134581]), array([[0.93366893, 0.56456263]]))"
            ]
          },
          "metadata": {},
          "execution_count": 54
        }
      ]
    },
    {
      "cell_type": "code",
      "source": [
        "# 학습된 모델로 새로운 데이터(-3에서 3까지의 100개의 데이터)에 대한 예측선 그리기\n",
        "X_new = np.linspace(-3, 3, 100).reshape(100, 1)\n",
        "X_new_poly = poly_features.transform(X_new)\n",
        "\n",
        "y_new = lin_reg.predict(X_new_poly)\n",
        "\n",
        "plt.plot(X_new, y_new, \"r-\")\n",
        "plt.plot(X, y, 'b.')\n",
        "plt.show()"
      ],
      "metadata": {
        "colab": {
          "base_uri": "https://localhost:8080/",
          "height": 265
        },
        "id": "JwPOQ3gsxbhi",
        "outputId": "8f8dbf3b-7c30-479f-a290-23c595557b1f"
      },
      "execution_count": 55,
      "outputs": [
        {
          "output_type": "display_data",
          "data": {
            "text/plain": [
              "<Figure size 432x288 with 1 Axes>"
            ],
            "image/png": "[encoded data removed]"
          },
          "metadata": {
            "needs_background": "light"
          }
        }
      ]
    },
    {
      "cell_type": "markdown",
      "source": [
        "### 릿지 회귀 - L2 규제"
      ],
      "metadata": {
        "id": "GnaLSydIGZGI"
      }
    },
    {
      "cell_type": "code",
      "source": [
        "np.random.seed(42)\n",
        "m = 20\n",
        "X = 3 * np.random.rand(m, 1)\n",
        "y = 0.5*X + 1+ np.random.randn(m,1)/1.5\n",
        "plt.plot(X, y, \"b.\" )\n"
      ],
      "metadata": {
        "colab": {
          "base_uri": "https://localhost:8080/",
          "height": 284
        },
        "id": "GBNAJp9JHWX1",
        "outputId": "4befb559-e19b-4df2-a688-69a1aab88718"
      },
      "execution_count": 63,
      "outputs": [
        {
          "output_type": "execute_result",
          "data": {
            "text/plain": [
              "[<matplotlib.lines.Line2D at 0x7f011ce68650>]"
            ]
          },
          "metadata": {},
          "execution_count": 63
        },
        {
          "output_type": "display_data",
          "data": {
            "text/plain": [
              "<Figure size 432x288 with 1 Axes>"
            ],
            "image/png": "[encoded data removed]"
          },
          "metadata": {
            "needs_background": "light"
          }
        }
      ]
    },
    {
      "cell_type": "code",
      "source": [
        "# 선형모델 (규제없이)\n",
        "lin_reg = LinearRegression()\n",
        "lin_reg.fit(X, y.ravel())\n",
        "lin_reg.predict([[1.5]])\n"
      ],
      "metadata": {
        "colab": {
          "base_uri": "https://localhost:8080/"
        },
        "id": "4Ojzrb0aHw9w",
        "outputId": "a3cc9cc7-e9cd-49f0-da76-cf7512a60df1"
      },
      "execution_count": 69,
      "outputs": [
        {
          "output_type": "execute_result",
          "data": {
            "text/plain": [
              "array([1.55355842])"
            ]
          },
          "metadata": {},
          "execution_count": 69
        }
      ]
    },
    {
      "cell_type": "code",
      "source": [
        "lin_reg.intercept_, lin_reg.coef_"
      ],
      "metadata": {
        "colab": {
          "base_uri": "https://localhost:8080/"
        },
        "id": "Zaz89kErILrm",
        "outputId": "f4f1cf22-5347-4949-804d-9c54a0e97487"
      },
      "execution_count": 70,
      "outputs": [
        {
          "output_type": "execute_result",
          "data": {
            "text/plain": [
              "(0.9757366686668743, array([0.3852145]))"
            ]
          },
          "metadata": {},
          "execution_count": 70
        }
      ]
    },
    {
      "cell_type": "code",
      "source": [
        "# 릿지 모델 (L2 규제가 들어간 모델) - 해석적으로 해를 구함\n",
        "from sklearn.linear_model import Ridge\n",
        "\n",
        "ridge_reg = Ridge(alpha=1, random_state=42)\n",
        "ridge_reg.fit(X, y.ravel())\n",
        "\n",
        "ridge_reg.predict([[1.5]])"
      ],
      "metadata": {
        "colab": {
          "base_uri": "https://localhost:8080/"
        },
        "id": "xvZVX5auGvIa",
        "outputId": "42464851-e5b9-456d-e85c-51960ebfe86e"
      },
      "execution_count": 72,
      "outputs": [
        {
          "output_type": "execute_result",
          "data": {
            "text/plain": [
              "array([1.55071465])"
            ]
          },
          "metadata": {},
          "execution_count": 72
        }
      ]
    },
    {
      "cell_type": "code",
      "source": [
        "ridge_reg.intercept_, ridge_reg.coef_"
      ],
      "metadata": {
        "colab": {
          "base_uri": "https://localhost:8080/"
        },
        "id": "Ifmpc43nHEnT",
        "outputId": "39c80d78-0547-4da3-a7dc-987dac738b57"
      },
      "execution_count": 73,
      "outputs": [
        {
          "output_type": "execute_result",
          "data": {
            "text/plain": [
              "(1.0065091134341868, array([0.36280369]))"
            ]
          },
          "metadata": {},
          "execution_count": 73
        }
      ]
    },
    {
      "cell_type": "code",
      "source": [
        "# 릿지모델 (L2 규제가 들어간 모델) - 경사하강법으로 해를 구함\n",
        "\n",
        "sgd_reg = SGDRegressor(penalty='l2', random_state=42)\n",
        "sgd_reg.fit(X, y.ravel())\n",
        "sgd_reg.predict([[1.5]])"
      ],
      "metadata": {
        "colab": {
          "base_uri": "https://localhost:8080/"
        },
        "id": "sqYetQanHO7l",
        "outputId": "e6714dd8-8555-4471-e6a7-200021ea1dec"
      },
      "execution_count": 78,
      "outputs": [
        {
          "output_type": "execute_result",
          "data": {
            "text/plain": [
              "array([1.47012588])"
            ]
          },
          "metadata": {},
          "execution_count": 78
        }
      ]
    },
    {
      "cell_type": "code",
      "source": [
        "sgd_reg.intercept_, sgd_reg.coef_"
      ],
      "metadata": {
        "colab": {
          "base_uri": "https://localhost:8080/"
        },
        "id": "u7iSU4W-JKev",
        "outputId": "4d75c3b2-fb62-49b9-b639-ef01db563836"
      },
      "execution_count": 79,
      "outputs": [
        {
          "output_type": "execute_result",
          "data": {
            "text/plain": [
              "(array([0.53947472]), array([0.62043411]))"
            ]
          },
          "metadata": {},
          "execution_count": 79
        }
      ]
    },
    {
      "cell_type": "code",
      "source": [
        "## 라소회귀 (L1 규제가 들어간 모델) - 해석적으로 해를 구함"
      ],
      "metadata": {
        "id": "5WtvjUooJQrN"
      },
      "execution_count": null,
      "outputs": []
    },
    {
      "cell_type": "code",
      "source": [
        "from sklearn.linear_model import Lasso\n",
        "lasso_reg = Lasso(alpha=0.1)\n",
        "lasso_reg.fit(X, y.ravel())\n",
        "\n",
        "lasso_reg.predict([[1.5]])"
      ],
      "metadata": {
        "colab": {
          "base_uri": "https://localhost:8080/"
        },
        "id": "_JE8hHJtKCIg",
        "outputId": "da371742-e9b1-47b8-eca8-9b271b9821f8"
      },
      "execution_count": 82,
      "outputs": [
        {
          "output_type": "execute_result",
          "data": {
            "text/plain": [
              "array([1.53788174])"
            ]
          },
          "metadata": {},
          "execution_count": 82
        }
      ]
    },
    {
      "cell_type": "code",
      "source": [
        "lasso_reg.intercept_, lasso_reg.coef_"
      ],
      "metadata": {
        "colab": {
          "base_uri": "https://localhost:8080/"
        },
        "id": "6Po_L0alKCDi",
        "outputId": "f2f599e1-9984-4d9e-8bf1-cac389e26d8a"
      },
      "execution_count": 83,
      "outputs": [
        {
          "output_type": "execute_result",
          "data": {
            "text/plain": [
              "(1.145373559244166, array([0.26167212]))"
            ]
          },
          "metadata": {},
          "execution_count": 83
        }
      ]
    },
    {
      "cell_type": "code",
      "source": [
        "## 라소회귀 (L1 규제가 들어간 모델) - 경사하강법으로 해를 구함"
      ],
      "metadata": {
        "id": "i6iIwV_jKB_u"
      },
      "execution_count": null,
      "outputs": []
    },
    {
      "cell_type": "code",
      "source": [
        "sgd_reg = SGDRegressor(penalty=\"l1\", random_state=41)\n",
        "sgd_reg.fit(X, y.ravel())\n",
        "\n",
        "sgd_reg.predict([[1.5]])"
      ],
      "metadata": {
        "colab": {
          "base_uri": "https://localhost:8080/"
        },
        "id": "0vQJvYFGKB5A",
        "outputId": "3b0ac1ea-3c53-4e34-dd00-20ea0c6f69fa"
      },
      "execution_count": 84,
      "outputs": [
        {
          "output_type": "execute_result",
          "data": {
            "text/plain": [
              "array([1.46683196])"
            ]
          },
          "metadata": {},
          "execution_count": 84
        }
      ]
    },
    {
      "cell_type": "code",
      "source": [
        "sgd_reg.intercept_, sgd_reg.coef_"
      ],
      "metadata": {
        "colab": {
          "base_uri": "https://localhost:8080/"
        },
        "id": "eK61FvJ2K3nH",
        "outputId": "b42527f0-7a32-44ef-d850-0a6b2a62baeb"
      },
      "execution_count": 85,
      "outputs": [
        {
          "output_type": "execute_result",
          "data": {
            "text/plain": [
              "(array([0.53974797]), array([0.61805599]))"
            ]
          },
          "metadata": {},
          "execution_count": 85
        }
      ]
    },
    {
      "cell_type": "code",
      "source": [
        ""
      ],
      "metadata": {
        "id": "Z3pIRlXVK6el"
      },
      "execution_count": null,
      "outputs": []
    }
  ]
}