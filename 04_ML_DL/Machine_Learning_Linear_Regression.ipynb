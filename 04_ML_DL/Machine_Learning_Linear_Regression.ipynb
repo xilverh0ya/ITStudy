{
  "nbformat": 4,
  "nbformat_minor": 0,
  "metadata": {
    "colab": {
      "name": "Machine Learning Linear Regression.ipynb",
      "provenance": []
    },
    "kernelspec": {
      "name": "python3",
      "display_name": "Python 3"
    },
    "language_info": {
      "name": "python"
    }
  },
  "cells": [
    {
      "cell_type": "markdown",
      "source": [
        "## 선형 회귀"
      ],
      "metadata": {
        "id": "ECvufce_V-uW"
      }
    },
    {
      "cell_type": "markdown",
      "source": [
        "### 정규 방정식을 사용한 선형 회귀"
      ],
      "metadata": {
        "id": "lYNWORaUWB4H"
      }
    },
    {
      "cell_type": "code",
      "execution_count": 1,
      "metadata": {
        "id": "mrvWKGWUVwm5"
      },
      "outputs": [],
      "source": [
        "import numpy as np\n",
        "import matplotlib.pyplot as plt\n",
        "np.random.seed(42)"
      ]
    },
    {
      "cell_type": "code",
      "source": [
        "X = 2 * np.random.rand(100, 1)\n",
        "y = 3 * X + 4 + np.random.randn(100, 1)"
      ],
      "metadata": {
        "id": "OK7AyYwpWSyY"
      },
      "execution_count": 2,
      "outputs": []
    },
    {
      "cell_type": "code",
      "source": [
        "plt.plot(X, y, 'b.')"
      ],
      "metadata": {
        "colab": {
          "base_uri": "https://localhost:8080/",
          "height": 284
        },
        "id": "h7SbxYmjWzJO",
        "outputId": "ecf7482e-337b-48b8-a6ad-ea2d1fcf6627"
      },
      "execution_count": 7,
      "outputs": [
        {
          "output_type": "execute_result",
          "data": {
            "text/plain": [
              "[<matplotlib.lines.Line2D at 0x7f1b59991c10>]"
            ]
          },
          "metadata": {},
          "execution_count": 7
        },
        {
          "output_type": "display_data",
          "data": {
            "text/plain": [
              "<Figure size 432x288 with 1 Axes>"
            ],
            "image/png": "[encoded data removed]"
          },
          "metadata": {
            "needs_background": "light"
          }
        }
      ]
    },
    {
      "cell_type": "code",
      "source": [
        "X_b = np.c_[np.ones((100, 1)), X]"
      ],
      "metadata": {
        "id": "XYuXy27nXife"
      },
      "execution_count": 11,
      "outputs": []
    },
    {
      "cell_type": "markdown",
      "source": [
        "![image.png](data:image/png;base64,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)"
      ],
      "metadata": {
        "id": "eKhgqf3uXZoh"
      }
    },
    {
      "cell_type": "markdown",
      "source": [
        "#### 정규방정식공식을 np.linalg 함수들을 이용하여 해를 구함"
      ],
      "metadata": {
        "id": "4pHFJaO6dCRv"
      }
    },
    {
      "cell_type": "code",
      "source": [
        "theta_best = np.linalg.inv(X_b.T.dot(X_b)).dot(X_b.T).dot(y)"
      ],
      "metadata": {
        "id": "Vgvwf9G-Y67F"
      },
      "execution_count": 12,
      "outputs": []
    },
    {
      "cell_type": "code",
      "source": [
        "theta_best"
      ],
      "metadata": {
        "colab": {
          "base_uri": "https://localhost:8080/"
        },
        "id": "hlZC60tqaG5K",
        "outputId": "0688d280-5e1b-43c0-aa2a-4327f6ae0d32"
      },
      "execution_count": 13,
      "outputs": [
        {
          "output_type": "execute_result",
          "data": {
            "text/plain": [
              "array([[4.21509616],\n",
              "       [2.77011339]])"
            ]
          },
          "metadata": {},
          "execution_count": 13
        }
      ]
    },
    {
      "cell_type": "code",
      "source": [
        "X_new = np.array([[0], [2]])\n",
        "X_new_b = np.c_[np.ones((2,1)), X_new]\n",
        "X_new_b\n"
      ],
      "metadata": {
        "colab": {
          "base_uri": "https://localhost:8080/"
        },
        "id": "i_bTFNRmaIU-",
        "outputId": "b8338639-0a16-49bf-fa6d-53a280e0cf25"
      },
      "execution_count": 15,
      "outputs": [
        {
          "output_type": "execute_result",
          "data": {
            "text/plain": [
              "array([[1., 0.],\n",
              "       [1., 2.]])"
            ]
          },
          "metadata": {},
          "execution_count": 15
        }
      ]
    },
    {
      "cell_type": "code",
      "source": [
        "y_predict = X_new_b.dot(theta_best)\n",
        "y_predict"
      ],
      "metadata": {
        "colab": {
          "base_uri": "https://localhost:8080/"
        },
        "id": "-6pV2ttRbWv3",
        "outputId": "b8d57248-b2f1-493e-c811-831915c4d835"
      },
      "execution_count": 16,
      "outputs": [
        {
          "output_type": "execute_result",
          "data": {
            "text/plain": [
              "array([[4.21509616],\n",
              "       [9.75532293]])"
            ]
          },
          "metadata": {},
          "execution_count": 16
        }
      ]
    },
    {
      "cell_type": "code",
      "source": [
        "plt.plot(X_new, y_predict, \"r-\")\n",
        "plt.plot(X, y, 'b.')\n",
        "plt.show()"
      ],
      "metadata": {
        "colab": {
          "base_uri": "https://localhost:8080/",
          "height": 284
        },
        "id": "1xp752C2boqO",
        "outputId": "e106d7fe-b379-4036-ec6a-9240fa4f3a38"
      },
      "execution_count": 18,
      "outputs": [
        {
          "output_type": "execute_result",
          "data": {
            "text/plain": [
              "[<matplotlib.lines.Line2D at 0x7f1b56f4cad0>]"
            ]
          },
          "metadata": {},
          "execution_count": 18
        },
        {
          "output_type": "display_data",
          "data": {
            "text/plain": [
              "<Figure size 432x288 with 1 Axes>"
            ],
            "image/png": "[encoded data removed]"
          },
          "metadata": {
            "needs_background": "light"
          }
        }
      ]
    },
    {
      "cell_type": "markdown",
      "source": [
        "#### 사이킷런 제공 LinearRegression"
      ],
      "metadata": {
        "id": "0Dzw8UnndL1m"
      }
    },
    {
      "cell_type": "code",
      "source": [
        "from sklearn.linear_model import LinearRegression"
      ],
      "metadata": {
        "id": "EaDcA6MNcbJP"
      },
      "execution_count": 19,
      "outputs": []
    },
    {
      "cell_type": "code",
      "source": [
        "lin_reg = LinearRegression()\n",
        "lin_reg.fit(X, y)"
      ],
      "metadata": {
        "colab": {
          "base_uri": "https://localhost:8080/"
        },
        "id": "zb8wQXOIdVCg",
        "outputId": "af3370ba-3692-4cd9-bdd5-6a9d1bf6175b"
      },
      "execution_count": 20,
      "outputs": [
        {
          "output_type": "execute_result",
          "data": {
            "text/plain": [
              "LinearRegression()"
            ]
          },
          "metadata": {},
          "execution_count": 20
        }
      ]
    },
    {
      "cell_type": "code",
      "source": [
        "lin_reg.intercept_, lin_reg.coef_"
      ],
      "metadata": {
        "colab": {
          "base_uri": "https://localhost:8080/"
        },
        "id": "uiPdkQCAdju-",
        "outputId": "bc8cac50-cdd0-4e16-b9c4-03fff5a97a3f"
      },
      "execution_count": 21,
      "outputs": [
        {
          "output_type": "execute_result",
          "data": {
            "text/plain": [
              "(array([4.21509616]), array([[2.77011339]]))"
            ]
          },
          "metadata": {},
          "execution_count": 21
        }
      ]
    },
    {
      "cell_type": "code",
      "source": [
        "lin_reg.score(__, __) # R2 값"
      ],
      "metadata": {
        "id": "k1GPTlOjdud_"
      },
      "execution_count": null,
      "outputs": []
    }
  ]
}