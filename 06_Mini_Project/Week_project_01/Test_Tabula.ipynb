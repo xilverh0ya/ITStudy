{
 "cells": [
  {
   "cell_type": "code",
   "execution_count": 12,
   "id": "290edf1d",
   "metadata": {},
   "outputs": [
    {
     "name": "stderr",
     "output_type": "stream",
     "text": [
      "Got stderr: 5월 16, 2022 4:15:32 오후 org.apache.pdfbox.pdmodel.font.PDType0Font toUnicode\n",
      "WARNING: No Unicode mapping for CID+30193 (30193) in font *??¾??ß°???-Identity-H\n",
      "5월 16, 2022 4:15:32 오후 org.apache.pdfbox.pdmodel.font.PDType0Font toUnicode\n",
      "WARNING: No Unicode mapping for CID+24813 (24813) in font *??¾??ß°???-Identity-H\n",
      "5월 16, 2022 4:15:32 오후 org.apache.pdfbox.pdmodel.font.PDType0Font toUnicode\n",
      "WARNING: No Unicode mapping for CID+27132 (27132) in font *??¾??ß°???-Identity-H\n",
      "5월 16, 2022 4:15:32 오후 org.apache.pdfbox.pdmodel.font.PDType0Font toUnicode\n",
      "WARNING: No Unicode mapping for CID+30190 (30190) in font *??¾??ß°???-Identity-H\n",
      "5월 16, 2022 4:15:32 오후 org.apache.pdfbox.pdmodel.font.PDType0Font toUnicode\n",
      "WARNING: No Unicode mapping for CID+26101 (26101) in font *??¾??ß°???-Identity-H\n",
      "5월 16, 2022 4:15:32 오후 org.apache.pdfbox.pdmodel.font.PDType0Font toUnicode\n",
      "WARNING: No Unicode mapping for CID+30189 (30189) in font *??¾??ß°???-Identity-H\n",
      "\n"
     ]
    },
    {
     "name": "stdout",
     "output_type": "stream",
     "text": [
      "-------------------------------  --------------------------------  ---------------------------  -----------------------------------------------------------\n",
      "0             NaN                0    NaN                          0                 연간 3월   0                     2월p 3월p 증감액 증감률 증감액 증감률\n",
      "1           ? 합 계              1    NaN                          1     1,870,784 155,123      1     154,147 172,324 18,178 11.8 17,201 11.1\n",
      "2             - 가               2    NaN                          2        301,209 24,524      2           27,503 25,516 -1,987 -7.2 992 4.0\n",
      "3       .컴퓨터 주변기기         3    NaN                          3          82,975 7,935      3                8,408 7,990 -418 -5.0 55 0.7\n",
      "4     .가 · 자·통신기기          4    NaN                          4        218,234 16,589      4           19,095 17,526 -1,569 -8.2 937 5.6\n",
      "5           - 도 서              5    NaN                          5          37,456 3,766      5                3,267 3,905 639 19.5 139 3.7\n",
      "6              .서               6    NaN                          6          25,941 2,714      6                 2,248 2,762 514 22.8 49 1.8\n",
      "7          .사무·문구            7    NaN                          7          11,515 1,053      7                 1,018 1,143 125 12.3 90 8.6\n",
      "8           - 패 션              8    NaN                          8        482,164 41,453      8            34,463 42,324 7,861 22.8 871 2.1\n",
      "9             .의복              9    NaN                          9        166,428 14,540      9          11,498 15,646 4,148 36.1 1,106 7.6\n",
      "10            .신발              10   NaN                          10         28,833 2,656      10                2,038 2,734 696 34.2 78 2.9\n",
      "11            .가방              11   NaN                          11         32,418 2,809      11               2,563 2,958 395 15.4 149 5.3\n",
      "12     .패션용품 액세서리        12   NaN                          12         24,295 1,984      12                 2,023 2,094 71 3.5 110 5.5\n",
      "13       .스포츠· 용품           13   NaN                          13         58,616 4,622      13             3,799 4,899 1,100 29.0 277 6.0\n",
      "14           .화장품             14   NaN                          14       121,734 10,623      14          8,639 9,547 908 10.5 -1,076 -10.1\n",
      "15       .아동·유아용품          15   NaN                          15         49,841 4,219      15               3,904 4,447 542 13.9 227 5.4\n",
      "16          - 식 품              16   NaN                          16       314,114 25,008      16        26,324 30,971 4,646 17.7 5,963 23.8\n",
      "17         .음·식료품            17   NaN                          17       242,949 19,448      17        20,623 23,953 3,330 16.1 4,505 23.2\n",
      "18         .농축수산물           18   NaN                          18         71,164 5,560      18          5,701 7,018 1,316 23.1 1,458 26.2\n",
      "19          - 생 활              19   NaN                          19       260,648 22,743      19        21,683 25,067 3,384 15.6 2,324 10.2\n",
      "20          .생활용품            20   NaN                          20       159,849 13,228      20         13,678 15,009 1,331 9.7 1,781 13.5\n",
      "21     .자동차 자동차용품        21   NaN                          21         34,053 3,476      21            2,249 4,059 1,810 80.5 583 16.8\n",
      "22            .가구              22   NaN                          22         53,976 4,999      22              4,657 4,757 100 2.1 -243 -4.9\n",
      "23          .애완용품            23   NaN                          23         12,770 1,040      23              1,099 1,243 144 13.1 203 19.5\n",
      "24          - 서비스             24   NaN                          24       442,921 34,228      24         38,096 41,629 3,533 9.3 7,402 21.6\n",
      "25      .여행 교통서비스         25   NaN                          25         93,421 6,227      25          7,940 9,455 1,515 19.1 3,228 51.8\n",
      "26        .문화 서비스           26   NaN                          26           12,582 855      26                982 1,085 103 10.5 229 26.8\n",
      "27        .이쿠폰서비스          27   NaN                          27         59,534 4,867      27               5,282 5,652 370 7.0 785 16.1\n",
      "28         .음식서비스           28   NaN                          28       256,783 19,660      28         22,442 23,807 1,365 6.1 4,147 21.1\n",
      "29         .기타서비스           29   NaN                          29         20,601 2,618      29            1,451 1,631 180 12.4 -987 -37.7\n",
      "30          - 기 타              30   NaN                          30         32,273 3,401      30             2,811 2,912 101 3.6 -489 -14.4\n",
      "Name: Unnamed: 0, dtype: object  Name: Unnamed: 1, dtype: float64  Name: 2021년, dtype: object  Name: 2022년 월 비 년동월 비, dtype: object\n",
      "-------------------------------  --------------------------------  ---------------------------  -----------------------------------------------------------\n"
     ]
    }
   ],
   "source": [
    "import pandas as pd\n",
    "import tabula\n",
    "from tabulate import tabulate\n",
    "\n",
    "file = './2022년 3월 온라인쇼핑 동향.pdf'\n",
    "df = tabula.read_pdf(file, pages='9', encoding='cp949')\n",
    "print(tabulate(df))"
   ]
  },
  {
   "cell_type": "code",
   "execution_count": 13,
   "id": "f47efe2a",
   "metadata": {},
   "outputs": [
    {
     "ename": "UnicodeDecodeError",
     "evalue": "'utf-8' codec can't decode byte 0xbf in position 1: invalid start byte",
     "output_type": "error",
     "traceback": [
      "\u001b[1;31m---------------------------------------------------------------------------\u001b[0m",
      "\u001b[1;31mUnicodeDecodeError\u001b[0m                        Traceback (most recent call last)",
      "\u001b[1;32mc:\\MyStudy\\06_Mini_Project\\Week_project_01\\Test_Tabula.ipynb Cell 2'\u001b[0m in \u001b[0;36m<cell line: 1>\u001b[1;34m()\u001b[0m\n\u001b[1;32m----> <a href='vscode-notebook-cell:/c%3A/MyStudy/06_Mini_Project/Week_project_01/Test_Tabula.ipynb#ch0000001?line=0'>1</a>\u001b[0m tabula\u001b[39m.\u001b[39;49mconvert_into(file, \u001b[39m\"\u001b[39;49m\u001b[39moutput.csv\u001b[39;49m\u001b[39m\"\u001b[39;49m, output_format\u001b[39m=\u001b[39;49m\u001b[39m\"\u001b[39;49m\u001b[39mcsv\u001b[39;49m\u001b[39m\"\u001b[39;49m, pages\u001b[39m=\u001b[39;49m\u001b[39m'\u001b[39;49m\u001b[39m9\u001b[39;49m\u001b[39m'\u001b[39;49m)\n",
      "File \u001b[1;32mc:\\Users\\xilverh0ya\\Anaconda3\\lib\\site-packages\\tabula\\io.py:562\u001b[0m, in \u001b[0;36mconvert_into\u001b[1;34m(input_path, output_path, output_format, java_options, **kwargs)\u001b[0m\n\u001b[0;32m    <a href='file:///c%3A/Users/xilverh0ya/Anaconda3/lib/site-packages/tabula/io.py?line=556'>557</a>\u001b[0m     \u001b[39mraise\u001b[39;00m \u001b[39mValueError\u001b[39;00m(\n\u001b[0;32m    <a href='file:///c%3A/Users/xilverh0ya/Anaconda3/lib/site-packages/tabula/io.py?line=557'>558</a>\u001b[0m         \u001b[39m\"\u001b[39m\u001b[39m{}\u001b[39;00m\u001b[39m is empty. Check the file, or download it manually.\u001b[39m\u001b[39m\"\u001b[39m\u001b[39m.\u001b[39mformat(path)\n\u001b[0;32m    <a href='file:///c%3A/Users/xilverh0ya/Anaconda3/lib/site-packages/tabula/io.py?line=558'>559</a>\u001b[0m     )\n\u001b[0;32m    <a href='file:///c%3A/Users/xilverh0ya/Anaconda3/lib/site-packages/tabula/io.py?line=560'>561</a>\u001b[0m \u001b[39mtry\u001b[39;00m:\n\u001b[1;32m--> <a href='file:///c%3A/Users/xilverh0ya/Anaconda3/lib/site-packages/tabula/io.py?line=561'>562</a>\u001b[0m     _run(java_options, kwargs, path)\n\u001b[0;32m    <a href='file:///c%3A/Users/xilverh0ya/Anaconda3/lib/site-packages/tabula/io.py?line=562'>563</a>\u001b[0m \u001b[39mfinally\u001b[39;00m:\n\u001b[0;32m    <a href='file:///c%3A/Users/xilverh0ya/Anaconda3/lib/site-packages/tabula/io.py?line=563'>564</a>\u001b[0m     \u001b[39mif\u001b[39;00m temporary:\n",
      "File \u001b[1;32mc:\\Users\\xilverh0ya\\Anaconda3\\lib\\site-packages\\tabula\\io.py:88\u001b[0m, in \u001b[0;36m_run\u001b[1;34m(java_options, options, path, encoding)\u001b[0m\n\u001b[0;32m     <a href='file:///c%3A/Users/xilverh0ya/Anaconda3/lib/site-packages/tabula/io.py?line=79'>80</a>\u001b[0m     result \u001b[39m=\u001b[39m subprocess\u001b[39m.\u001b[39mrun(\n\u001b[0;32m     <a href='file:///c%3A/Users/xilverh0ya/Anaconda3/lib/site-packages/tabula/io.py?line=80'>81</a>\u001b[0m         args,\n\u001b[0;32m     <a href='file:///c%3A/Users/xilverh0ya/Anaconda3/lib/site-packages/tabula/io.py?line=81'>82</a>\u001b[0m         stdout\u001b[39m=\u001b[39msubprocess\u001b[39m.\u001b[39mPIPE,\n\u001b[1;32m   (...)\u001b[0m\n\u001b[0;32m     <a href='file:///c%3A/Users/xilverh0ya/Anaconda3/lib/site-packages/tabula/io.py?line=84'>85</a>\u001b[0m         check\u001b[39m=\u001b[39m\u001b[39mTrue\u001b[39;00m,\n\u001b[0;32m     <a href='file:///c%3A/Users/xilverh0ya/Anaconda3/lib/site-packages/tabula/io.py?line=85'>86</a>\u001b[0m     )\n\u001b[0;32m     <a href='file:///c%3A/Users/xilverh0ya/Anaconda3/lib/site-packages/tabula/io.py?line=86'>87</a>\u001b[0m     \u001b[39mif\u001b[39;00m result\u001b[39m.\u001b[39mstderr:\n\u001b[1;32m---> <a href='file:///c%3A/Users/xilverh0ya/Anaconda3/lib/site-packages/tabula/io.py?line=87'>88</a>\u001b[0m         logger\u001b[39m.\u001b[39mwarning(\u001b[39m\"\u001b[39m\u001b[39mGot stderr: \u001b[39m\u001b[39m{}\u001b[39;00m\u001b[39m\"\u001b[39m\u001b[39m.\u001b[39mformat(result\u001b[39m.\u001b[39;49mstderr\u001b[39m.\u001b[39;49mdecode(encoding)))\n\u001b[0;32m     <a href='file:///c%3A/Users/xilverh0ya/Anaconda3/lib/site-packages/tabula/io.py?line=88'>89</a>\u001b[0m     \u001b[39mreturn\u001b[39;00m result\u001b[39m.\u001b[39mstdout\n\u001b[0;32m     <a href='file:///c%3A/Users/xilverh0ya/Anaconda3/lib/site-packages/tabula/io.py?line=89'>90</a>\u001b[0m \u001b[39mexcept\u001b[39;00m \u001b[39mFileNotFoundError\u001b[39;00m:\n",
      "\u001b[1;31mUnicodeDecodeError\u001b[0m: 'utf-8' codec can't decode byte 0xbf in position 1: invalid start byte"
     ]
    }
   ],
   "source": [
    "tabula.convert_into(file, \"output.csv\", output_format=\"csv\", pages='9')"
   ]
  }
 ],
 "metadata": {
  "interpreter": {
   "hash": "f95ed01c636313a93ed268236be8659cd857ea8812cdbcf34ce11f32eace8417"
  },
  "kernelspec": {
   "display_name": "Python 3.9.12 ('base')",
   "language": "python",
   "name": "python3"
  },
  "language_info": {
   "codemirror_mode": {
    "name": "ipython",
    "version": 3
   },
   "file_extension": ".py",
   "mimetype": "text/x-python",
   "name": "python",
   "nbconvert_exporter": "python",
   "pygments_lexer": "ipython3",
   "version": "3.9.12"
  }
 },
 "nbformat": 4,
 "nbformat_minor": 5
}
