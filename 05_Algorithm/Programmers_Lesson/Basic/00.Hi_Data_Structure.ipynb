{
 "cells": [
  {
   "cell_type": "markdown",
   "id": "f38874bc",
   "metadata": {},
   "source": [
    "### 자료구조와 알고리즘"
   ]
  },
  {
   "cell_type": "markdown",
   "id": "f11aaaaa",
   "metadata": {},
   "source": [
    "#### 0. 들어가기에 앞서"
   ]
  },
  {
   "cell_type": "markdown",
   "id": "745b21e6",
   "metadata": {},
   "source": [
    "- 대상 : Python 언어에 대해 어느정도 지식이 있는 사람(기초 문법, 구조, 자료형)"
   ]
  },
  {
   "cell_type": "markdown",
   "id": "8dc48919",
   "metadata": {},
   "source": [
    "0-1. Python 언어의 몇가지 기초적인 자료형"
   ]
  },
  {
   "cell_type": "code",
   "execution_count": 1,
   "id": "367588e7",
   "metadata": {},
   "outputs": [
    {
     "data": {
      "text/plain": [
       "{'a': 6, 'bc': 4}"
      ]
     },
     "execution_count": 1,
     "metadata": {},
     "output_type": "execute_result"
    }
   ],
   "source": [
    "\"This is String\"        # 문자열(str)\n",
    "[5, 9, 2, 7]            # 리스트(list)\n",
    "{'a' : 6, 'bc' : 4}     # 사전(dict)\n",
    "# 이 외에 순서쌍(tuple), 집합(set), 등등 존재"
   ]
  },
  {
   "cell_type": "markdown",
   "id": "5aa210df",
   "metadata": {},
   "source": [
    "웬만한 것들은\n",
    "Python에서 이미 제공하는 데이터 타입으로\n",
    "다 해결할 수 있을것 같은데...?\n",
    "\n",
    "**자료구조(Data Structure)**는 대체 왜 알아야 하는걸까?\n",
    "- Python에서 제공하는 기본적인 자료형들로 *해결할 수 없는*, 또는 *어려운*, *효율적이지 않은* 문제들을 해결하기 위해서!\n",
    "\n",
    "- 우리가 해결해야 할 문제의 종류에 따라 **적합한 자료구조**는 달라짐.\n",
    "\n",
    "- 앞으로 어떤 문제 종류에 어떤 자료구조가 적합한지 **예제**를 보면서 학습할 예정"
   ]
  },
  {
   "cell_type": "markdown",
   "id": "990d3613",
   "metadata": {},
   "source": [
    "#### 1. 알고리즘"
   ]
  },
  {
   "cell_type": "code",
   "execution_count": 6,
   "id": "ecf0dd44",
   "metadata": {},
   "outputs": [
    {
     "name": "stdout",
     "output_type": "stream",
     "text": [
      "Number of elemnts : 100000000\n",
      "Searching for the maximum value...\n",
      "Maximum element = 99999999, Elapsed time = 1.44\n"
     ]
    }
   ],
   "source": [
    "# 작성된 리스트에서 최대치를 찾는데 걸리는 시간을 알아보자\n",
    "\n",
    "import time\n",
    "\n",
    "n = int(input(\"Number of elemnts : \"))\n",
    "haystack = [k for k in range(n)]\n",
    "\n",
    "print(\"Searching for the maximum value...\")\n",
    "\n",
    "# 프로그램 실행 시간을 재는 부분\n",
    "ts = time.time()              # 현재 시각의 타임 스탬프\n",
    "maximum = max(haystack)\n",
    "elapsed = time.time() - ts    # 실행 종료 후의 타임 스탬프에서 실행 전 시간을 뺌(실질적인 실행 시간)\n",
    "\n",
    "print(\"Maximum element = %d, Elapsed time = %.2f\" % (maximum, elapsed))"
   ]
  },
  {
   "cell_type": "markdown",
   "id": "7d6e7b93",
   "metadata": {},
   "source": [
    "* 어떤 리스트에서 최댓값을 찾기 위해서는 리스트의 모든 요소를 검사해야 한다.\n",
    "    * 요소수가 백만, 천만, 억... 이면 요소수 만큼 검사를 진행하기 때문에\n",
    "    * 점점 프로그램의 실행 시간이 늘어남"
   ]
  },
  {
   "cell_type": "markdown",
   "id": "8ce4ea92",
   "metadata": {},
   "source": [
    "##### 1-1. 알고리즘이란?\n",
    "- [사전적 정의] : 어떤 문제를 해결하기 위한 절차, 방법, 명령어들의 집합\n",
    "- [프로그래밍] : 주어진 문제의 해결을 위한 자료구조와 연산 방법에 대한 선택"
   ]
  },
  {
   "cell_type": "markdown",
   "id": "1d65c3e8",
   "metadata": {},
   "source": [
    "**549를 찾아보세요 1.**  \n",
    "![549](./asset/find5491.png)\n",
    "___"
   ]
  },
  {
   "cell_type": "markdown",
   "id": "f91a3087",
   "metadata": {},
   "source": [
    "**549를 찾아보세요 2.**  \n",
    "![549](./asset/find5492.png)\n",
    "___"
   ]
  },
  {
   "cell_type": "markdown",
   "id": "55f0b077",
   "metadata": {},
   "source": [
    "**549를 찾아보세요 1. 정답**  \n",
    "![549](./asset/find5491_answer.png)\n",
    "___"
   ]
  },
  {
   "cell_type": "markdown",
   "id": "c876779b",
   "metadata": {},
   "source": [
    "**549를 찾아보세요 2. 정답**  \n",
    "![549](./asset/find5492_answer.png)\n",
    "___"
   ]
  },
  {
   "cell_type": "markdown",
   "id": "c22c06f5",
   "metadata": {},
   "source": [
    "1번과 달리 2번은 정렬되어 있기 때문에 대부분 1번보다 일찍 찾아냈을 것이다.\n",
    "- 순서대로 있기 때문에 더 쉽다!\n",
    "- 이와 같이 무슨 일을 하냐에 따라서 최적의 해법은 다르다."
   ]
  },
  {
   "cell_type": "markdown",
   "id": "b244e52e",
   "metadata": {},
   "source": [
    "해결하고자 하는 문제에 따라(응용 종류와 범위에 따라)  \n",
    "최적의 해법은 서로 다르다.\n",
    "- 이 선택을 어떻게 해야 하느냐를 알기 위해 **자료구조**를 이해해야 함."
   ]
  },
  {
   "cell_type": "markdown",
   "id": "41b3dedf",
   "metadata": {},
   "source": [
    "#### 2. 과제 : 프로그래머스 테스트에 익숙해지기"
   ]
  },
  {
   "cell_type": "markdown",
   "id": "71966aaf",
   "metadata": {},
   "source": [
    "**1강 실습 : 리스트 원소 합**  \n",
    "[Link](https://programmers.co.kr/learn/courses/57/lessons/13772)\n",
    "\n",
    "\n",
    "입력으로 주어지는 리스트 x 의 첫 원소와 마지막 원소의 합을 리턴하는 함수 solution()을 완성하세요.\n",
    "\n",
    "```py3\n",
    "def solution(x):\n",
    "    answer = 0\n",
    "    answer = x[0] + x[(len(x) - 1)]\n",
    "    return answer\n",
    "```"
   ]
  },
  {
   "cell_type": "code",
   "execution_count": 7,
   "id": "e0da58d9",
   "metadata": {},
   "outputs": [],
   "source": [
    "# My answer\n",
    "\n",
    "def solution(x):\n",
    "    answer = 0\n",
    "    answer = x[0] + x[-1]\n",
    "    return answer"
   ]
  },
  {
   "attachments": {},
   "cell_type": "markdown",
   "id": "8e89c030",
   "metadata": {},
   "source": [
    "- 실행 결과\n",
    "![result](./asset/Test_answer_01.png)"
   ]
  },
  {
   "cell_type": "code",
   "execution_count": 8,
   "id": "c0a910ff",
   "metadata": {},
   "outputs": [],
   "source": [
    "# Teacher answer\n",
    "\n",
    "def solution(x):\n",
    "    answer = 0\n",
    "    answer = x[0] + x[len(x)-1]\n",
    "    return answer"
   ]
  }
 ],
 "metadata": {
  "kernelspec": {
   "display_name": "Python 3 (ipykernel)",
   "language": "python",
   "name": "python3"
  },
  "language_info": {
   "codemirror_mode": {
    "name": "ipython",
    "version": 3
   },
   "file_extension": ".py",
   "mimetype": "text/x-python",
   "name": "python",
   "nbconvert_exporter": "python",
   "pygments_lexer": "ipython3",
   "version": "3.7.13"
  }
 },
 "nbformat": 4,
 "nbformat_minor": 5
}
