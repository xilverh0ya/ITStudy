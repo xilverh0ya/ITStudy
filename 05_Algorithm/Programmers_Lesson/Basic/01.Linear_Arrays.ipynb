{
 "cells": [
  {
   "cell_type": "markdown",
   "id": "cec28af9",
   "metadata": {},
   "source": [
    "## 선형 배열(Linear Arrays)"
   ]
  },
  {
   "cell_type": "markdown",
   "id": "47a5e7eb",
   "metadata": {},
   "source": [
    "#### 1. 선형 배열이란?\n",
    "- 데이터들일 선(line)처럼 일렬로 쭉 늘어선 형태를 가져 붙여진 이름\n",
    "- Python에서는 이 배열을 List를 통해 구현할 수 있음\n",
    "    - 배열(Arrays) : 같은 종류의 데이터가 줄지어 늘어서 있는 것.\n",
    "    - Python에서는 따로 배열 자료형(Data type)이 존재하지 않음.\n",
    "    - 대신 리스트(List)라는 자료형 제공\n",
    "        - 타언어의 배열보다는 융통성이 있음"
   ]
  },
  {
   "cell_type": "markdown",
   "id": "d059ff5a",
   "metadata": {},
   "source": [
    "* 배열 : 원소들을 순서대로 늘어놓은 것.\n",
    "    \n",
    "![Array](./asset/array_sc.png)\n",
    "    \n",
    "보통 배열의 인덱스는 0부터 시작\n",
    "Python도 마찬가지"
   ]
  },
  {
   "cell_type": "markdown",
   "id": "6c4bda5d",
   "metadata": {},
   "source": [
    "- Python 에서의 리스트(List)\n",
    "![py_list](./asset/py_list_sc.png)\n",
    "- 다른 언어에서의 배열은 한 종류의 데이터만 취급\n",
    "- 파이썬은 여러 종류의 데이터를 취급할 수 있다는 점에서 융통성이 있다.\n",
    "    - 문자열의 길이가 다 달라도 됨.\n",
    "    - 리스트의 각 원소가 서로 다른 데이터 타입을 가지고 있어도, 리스트로 취급할 수 있음.\n",
    "\n",
    "```py\n",
    "L = ['Bob', 'Cat', 'Spam', 'Programmers']\n",
    "```\n"
   ]
  },
  {
   "cell_type": "markdown",
   "id": "b4d762e0",
   "metadata": {},
   "source": [
    "###### 직접 만들어보자!"
   ]
  },
  {
   "cell_type": "code",
   "execution_count": 3,
   "id": "cb7e4600",
   "metadata": {},
   "outputs": [
    {
     "name": "stdout",
     "output_type": "stream",
     "text": [
      "['Bob', 'Cat', 'Spam', 'Programmers']\n",
      "Cat\n",
      "Spam\n"
     ]
    }
   ],
   "source": [
    "L = ['Bob', 'Cat', 'Spam', 'Programmers']\n",
    "print(L)\n",
    "print(L[1])\n",
    "print(L[-2])"
   ]
  },
  {
   "cell_type": "markdown",
   "id": "44d1864b",
   "metadata": {},
   "source": [
    "###### 리스트 (배열) 연산 1\n",
    "- (1) 원소 덧붙이기\n",
    "- (2) 끝에서 꺼내기"
   ]
  },
  {
   "cell_type": "code",
   "execution_count": 6,
   "id": "6bc456d9",
   "metadata": {},
   "outputs": [
    {
     "name": "stdout",
     "output_type": "stream",
     "text": [
      "['Bob', 'Cat', 'Spam', 'Programmers', 'New']\n",
      "New\n",
      "['Bob', 'Cat', 'Spam', 'Programmers']\n"
     ]
    }
   ],
   "source": [
    "L.append('New')           # (1)\n",
    "print(L)\n",
    "print(L.pop())            # (2)\n",
    "print(L)"
   ]
  },
  {
   "cell_type": "markdown",
   "id": "b6548eba",
   "metadata": {},
   "source": [
    "- 이러한 연산들은 순식간에(빠르게) 할 수 있는 일\n",
    "    - 리스트의 길이와 무관 (**상수 시간**)\n",
    "    - 빅오표기법(Big O Notation)으로 O(1)\n",
    "        - 나중에 배울 것!"
   ]
  },
  {
   "cell_type": "markdown",
   "id": "194e95a6",
   "metadata": {},
   "source": [
    "###### 리스트 (배열) 연산 2\n",
    "- (1) 원소 삽입하기\n",
    "- (2) 원소 삭제하기\n",
    "\n",
    "<br>\n",
    "\n",
    "- 위 연산들은 리스트의 길이(크기)가 커질수록 *연산량 증가, 실행 속도 감소*"
   ]
  },
  {
   "cell_type": "code",
   "execution_count": 7,
   "id": "9d247374",
   "metadata": {},
   "outputs": [
    {
     "data": {
      "text/plain": [
       "[20, 37, 58, 65, 72, 91]"
      ]
     },
     "execution_count": 7,
     "metadata": {},
     "output_type": "execute_result"
    }
   ],
   "source": [
    "L = [20, 37, 58, 72, 91]\n",
    "L.insert(3, 65)    # (1)\n",
    "L"
   ]
  },
  {
   "cell_type": "markdown",
   "id": "70c264d9",
   "metadata": {},
   "source": [
    "![insert](./asset/list_insert_sc.png)\n",
    "- 리스트 3번 인덱스 자리에 65를 삽입하기 위해 일어나는 과정\n",
    "    - 배열 크기 + 1\n",
    "    - 91의 인덱스 + 1\n",
    "    - 72의 인덱스 + 1\n",
    "    - 3번 인덱스에 65 삽입\n"
   ]
  },
  {
   "cell_type": "code",
   "execution_count": 8,
   "id": "dc444a4d",
   "metadata": {},
   "outputs": [
    {
     "data": {
      "text/plain": [
       "[20, 37, 65, 72, 91]"
      ]
     },
     "execution_count": 8,
     "metadata": {},
     "output_type": "execute_result"
    }
   ],
   "source": [
    "del(L[2])    # (2)\n",
    "L"
   ]
  },
  {
   "cell_type": "markdown",
   "id": "c3274e10",
   "metadata": {},
   "source": [
    "![insert](./asset/list_del_sc.png)\n",
    "- 리스트 2번 인덱스 자리에 있던 원소를 삭제하는 과정\n",
    "    - 2번 자리에 있던 58 삭제\n",
    "    - 65의 인덱스 - 1\n",
    "    - 72의 인덱스 - 1\n",
    "    - 91의 인덱스 - 1\n",
    "    - 리스트의 크기 - 1"
   ]
  },
  {
   "cell_type": "markdown",
   "id": "64d922e1",
   "metadata": {},
   "source": [
    "- 이러한 연산들은 리스트의 길이가 길어질수록 오래걸리는 일\n",
    "    - 리스트의 길이에 비례(**선형 시간**)\n",
    "    - 빅오표기법(Big O Notation : O(n)"
   ]
  },
  {
   "cell_type": "markdown",
   "id": "f16fc78b",
   "metadata": {},
   "source": [
    "###### 리스트 (배열) 연산 3\n",
    "- (1) 원소 탐색"
   ]
  },
  {
   "cell_type": "code",
   "execution_count": 9,
   "id": "076740a6",
   "metadata": {},
   "outputs": [
    {
     "data": {
      "text/plain": [
       "2"
      ]
     },
     "execution_count": 9,
     "metadata": {},
     "output_type": "execute_result"
    }
   ],
   "source": [
    "L = ['Bob', 'Cat', 'Spam', 'Programmers']\n",
    "L.index('Spam')"
   ]
  },
  {
   "cell_type": "markdown",
   "id": "82815241",
   "metadata": {},
   "source": [
    "![insert](./asset/list_idx_sc.png)\n",
    "- 'Spam' 원소가 리스트 내에 있는지 탐색하는 과정"
   ]
  },
  {
   "cell_type": "markdown",
   "id": "b914fc16",
   "metadata": {},
   "source": [
    "#### 2. 과제 : 프로그래머스 테스트에 익숙해지기"
   ]
  },
  {
   "cell_type": "markdown",
   "id": "d1439249",
   "metadata": {},
   "source": [
    "**2강 실습 (1)**\n",
    "[Link](https://programmers.co.kr/learn/courses/57/lessons/13773)\n",
    "- 정렬된 리스트에 주어진 원소 삽입하기\n",
    "- 힌트\n",
    "    - (1) 주어진 원소를 삽입할 위치를 찾는다.\n",
    "    - (2) 해당 위치에 원소를 삽입한다.\n",
    "    - 결과는 여전히 정렬된 상태를 유지하는 리스트여야 한다."
   ]
  },
  {
   "cell_type": "code",
   "execution_count": 13,
   "id": "837517b3",
   "metadata": {},
   "outputs": [],
   "source": [
    "def solution(L, x):\n",
    "    for i in range(len(L)):\n",
    "        if L[i] > x:\n",
    "            L.insert(i, x)\n",
    "            break\n",
    "        if L[-1] < x:\n",
    "            L.append(x)\n",
    "    return L"
   ]
  },
  {
   "cell_type": "markdown",
   "id": "8511d8db",
   "metadata": {},
   "source": [
    "![answer](./asset/Test_answer_02_1.png)"
   ]
  },
  {
   "cell_type": "markdown",
   "id": "6c00b878",
   "metadata": {},
   "source": [
    "**2강 실습 (2)**\n",
    "[Link](https://programmers.co.kr/learn/courses/57/lessons/13774)\n",
    "- 주어진 리스트에서 특정 원소 탐색\n",
    "    - 단, 원소가 여러개일 수 있음\n",
    "- 힌트\n",
    "    - index() 메소드 이용\n",
    "    - 리스트 슬라이싱 이용"
   ]
  },
  {
   "cell_type": "code",
   "execution_count": null,
   "id": "c3da1411",
   "metadata": {},
   "outputs": [],
   "source": [
    "def solution(L, x):\n",
    "    answer = []\n",
    "    if x in L:\n",
    "        for i in range(len(L)):\n",
    "            if L[i] == x:\n",
    "                answer.append(i)\n",
    "    else:\n",
    "        answer.append(-1)             \n",
    "\n",
    "    return answer"
   ]
  },
  {
   "cell_type": "markdown",
   "id": "5b0dc41b",
   "metadata": {},
   "source": [
    "![answer](./asset/Test_answer_02_2.png)"
   ]
  }
 ],
 "metadata": {
  "kernelspec": {
   "display_name": "Python 3 (ipykernel)",
   "language": "python",
   "name": "python3"
  },
  "language_info": {
   "codemirror_mode": {
    "name": "ipython",
    "version": 3
   },
   "file_extension": ".py",
   "mimetype": "text/x-python",
   "name": "python",
   "nbconvert_exporter": "python",
   "pygments_lexer": "ipython3",
   "version": "3.7.13"
  }
 },
 "nbformat": 4,
 "nbformat_minor": 5
}
