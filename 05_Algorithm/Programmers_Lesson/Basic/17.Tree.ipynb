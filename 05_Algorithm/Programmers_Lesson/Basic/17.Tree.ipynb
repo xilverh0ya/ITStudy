{
 "cells": [
  {
   "cell_type": "markdown",
   "metadata": {},
   "source": [
    "## 트리(Trees)"
   ]
  },
  {
   "cell_type": "markdown",
   "metadata": {},
   "source": [
    "#### 01. 트리(Tree)"
   ]
  },
  {
   "cell_type": "markdown",
   "metadata": {},
   "source": [
    "- 정점(Node)와 간선(Edge)를 이용, 데이터의 배치 형태를 추상화한 자료 구조  \n",
    "<br>\n",
    "    - Node, Edge 영어 표현을 더 많이 사용  \n",
    "    <br>"
   ]
  },
  {
   "cell_type": "markdown",
   "metadata": {},
   "source": [
    "- 자료구조에서의 트리  \n",
    "<br>\n",
    "    - 일반적인 나무의 구조    \n",
    "    <br>\n",
    "        - 뿌리가 있고, 가지를 따라 이파리가 있는 구조  \n",
    "        <br>\n",
    "        ![Tree_Explain_01](./asset/Tree_Explain_01.png)  \n",
    "    <br>\n",
    "    - 컴퓨터 자료구조에서 표현하는 트리의 구조  \n",
    "    <br>\n",
    "        - 거꾸로 표현  \n",
    "        <br>\n",
    "        ![Tree_Explain_02](./asset/Tree_Explain_02.png)"
   ]
  },
  {
   "cell_type": "markdown",
   "metadata": {},
   "source": [
    "- 트리의 구조  \n",
    "<br>\n",
    "    - 10개의 노드와 9개의 간선을 갖는 예시 트리  \n",
    "    <br>\n",
    "    ![Tree_Explain_03](./asset/Tree_Explain_03.png)  \n",
    "    <br>\n",
    "    - 루트(Root) 노드 : 최상단에 위치한 노드    \n",
    "    <br>\n",
    "    ![Tree_Explain_04](./asset/Tree_Explain_04.png)  \n",
    "    <br>\n",
    "    - 리프(Leaf) 노드 : 최하단에 위치한 노드들  \n",
    "    <br>\n",
    "    ![Tree_Explain_05](./asset/Tree_Explain_05.png)  \n",
    "    <br>\n",
    "    - 내부(Intener) 노드 : 루트, 리프 노드가 아닌 노드들  \n",
    "    <br>\n",
    "    ![Tree_Explain_06](./asset/Tree_Explain_06.png)  \n"
   ]
  },
  {
   "cell_type": "markdown",
   "metadata": {},
   "source": [
    "- 부모(Parent) 노드와 자식(Child) 노드  \n",
    "<br>\n",
    "    - 노드들 사이에는 부모/자식 관계가 존재  \n",
    "    <br>\n",
    "    ![Tree_Explain_07](./asset/Tree_Explain_07.png)  \n",
    "    <br>\n",
    "        - 부모(Parent) 노드 : 간선으로 연결된 노드 중 **뿌리(Root)** 에 더 가까운 노드  \n",
    "        <br>\n",
    "        - 자식(Child) 노드 : 간선으로 연결된 노드 중 **이파리(Leaf)** 에 더 가까운 노드  \n",
    "        <br>\n",
    "    - 같은 부모를 가진 노드들의 관계를 형제간(Sibling)의 관계라고 표현  \n",
    "    <br>\n",
    "        ![Tree_Explain_08](./asset/Tree_Explain_08.png)  \n",
    "    <br>\n",
    "    - 이 이상의 관계를 표현할 때  \n",
    "    <br>\n",
    "        - 부모의 부모(의 부모의...) : 조상(Ancestor)  \n",
    "        <br>\n",
    "        - 자식의 자식(의 자식의...) : 후손(Descendant)  \n",
    "        <br>"
   ]
  },
  {
   "cell_type": "markdown",
   "metadata": {},
   "source": [
    "- 노드의 수준(Level)  \n",
    "<br>\n",
    "    - Level 0 : Root 노드로써 트리 수준의 기준  \n",
    "    <br>\n",
    "    ![Tree_Explain_09](./asset/Tree_Explain_09.png)  \n",
    "    <br>\n",
    "    - Level은 0인 Root 노드로부터 몇 개의 간선을 통해 떨어져 있는 지를 나타냄.  \n",
    "    <br>\n",
    "\n",
    "- 트리의 높이(Height)  \n",
    "<br>\n",
    "    ![Tree_Explain_10](./asset/Tree_Explain_10.png)  \n",
    "    <br>"
   ]
  },
  {
   "cell_type": "markdown",
   "metadata": {},
   "source": [
    "- 부분 트리(서브트리 - Sub Tree)  \n",
    "<br>\n",
    "    - 트리에 포함 된 더 작은 규모의 트리(2개의 노드로 구성된 서브트리도 존재)  \n",
    "    <br>\n",
    "    ![Tree_Explain_11](./asset/Tree_Explain_11.png)  "
   ]
  },
  {
   "cell_type": "markdown",
   "metadata": {},
   "source": [
    "- 노드의 차수(Degree)  \n",
    "<br>\n",
    "    - 자식(서브트리)의 수  \n",
    "    <br>\n",
    "    ![Tree_Expain_12](./asset/Tree_Explain_12.png)  \n",
    "    <br>\n",
    "    ![Tree_Expain_13](./asset/Tree_Explain_13.png)  \n",
    "    <br>\n",
    "    - 루트 노드를 제외한 모든 노드는 단 하나의 부모 노드만을 가진다.(트리의 성질 중 하나)  \n",
    "    <br>\n",
    "    - 리프 노드들은 차수가 0이다.(자식 노드가 없기 떄문)  "
   ]
  },
  {
   "cell_type": "markdown",
   "metadata": {},
   "source": [
    "#### 02. 이진 트리 (Binary Tree)"
   ]
  },
  {
   "cell_type": "markdown",
   "metadata": {},
   "source": [
    "- 모든 노드의 차수가 2 이하인 트리  \n",
    "<br>\n",
    "![Tree_Explain_Binary_01](./asset/Tree_Explain_Binary_01.png)  \n",
    "<br>"
   ]
  },
  {
   "cell_type": "markdown",
   "metadata": {},
   "source": [
    "- 트리는 본질적으로 재귀적인 성질을 지님  \n",
    "<br>\n",
    "    - 따라서 이진 트리(Binary Tree)도 재귀적으로 정의 가능  \n",
    "    <br>\n",
    "    ![Tree_Explain_Binary_02](./asset/Tree_Explain_Binary_02.png)  \n",
    "    <br>"
   ]
  },
  {
   "cell_type": "markdown",
   "metadata": {},
   "source": [
    "- 포화 이진 트리(Full Binary Tree)  \n",
    "<br>\n",
    "![Tree_Explain_Binary_03](./asset/Tree_Explain_Binary_03.png)  \n",
    "<br>\n",
    "- 완전 이진 트리(Complete Binary Tree)  \n",
    "<br>\n",
    "![Tree_Explain_Binary_04](./asset/Tree_Explain_Binary_04.png)  \n",
    "![Tree_Explain_Binary_05](./asset/Tree_Explain_Binary_05.png)  \n",
    "<br>"
   ]
  },
  {
   "cell_type": "markdown",
   "metadata": {},
   "source": [
    "### 실습"
   ]
  },
  {
   "cell_type": "markdown",
   "metadata": {},
   "source": [
    "![문제](./asset/Lecture18_Q_1.png)"
   ]
  },
  {
   "cell_type": "code",
   "execution_count": null,
   "metadata": {},
   "outputs": [],
   "source": [
    "class Node:\n",
    "\n",
    "    def __init__(self, item):\n",
    "        self.data = item\n",
    "        self.left = None\n",
    "        self.right = None\n",
    "\n",
    "    def size(self):\n",
    "        l = self.left.size() if self.left else 0\n",
    "        r = self.right.size() if self.right else 0\n",
    "        return l + r + 1\n",
    "\n",
    "    # 깊이를 구하는 메서드\n",
    "    def depth(self):\n",
    "        l = self.left.depth() if self.left else 0\n",
    "        r = self.right.depth() if self.right else 0\n",
    "        if(r > l):\n",
    "            return r + 1\n",
    "        else:\n",
    "            return l + 1\n",
    "\n",
    "\n",
    "class BinaryTree:\n",
    "\n",
    "    def __init__(self, r):\n",
    "        self.root = r\n",
    "\n",
    "    def size(self):\n",
    "        if self.root:\n",
    "            return self.root.size()\n",
    "        else:\n",
    "            return 0\n",
    "\n",
    "    # 이진 트리의 깊이 구하는 메서드\n",
    "    def depth(self):\n",
    "        if self.root:\n",
    "            return self.root.depth()\n",
    "        else:\n",
    "            return 0\n",
    "\n",
    "\n",
    "def solution(x):\n",
    "    return 0"
   ]
  },
  {
   "cell_type": "markdown",
   "metadata": {},
   "source": [
    "![결과](./asset/Test_answer_18.png)"
   ]
  },
  {
   "cell_type": "markdown",
   "metadata": {},
   "source": [
    "![문제](./asset/Lecture18_Q_2.png)"
   ]
  },
  {
   "cell_type": "code",
   "execution_count": null,
   "metadata": {},
   "outputs": [],
   "source": [
    "class Node:\n",
    "\n",
    "    def __init__(self, item):\n",
    "        self.data = item\n",
    "        self.left = None\n",
    "        self.right = None\n",
    "\n",
    "\n",
    "    def inorder(self):\n",
    "        traversal = []\n",
    "        if self.left:\n",
    "            traversal += self.left.inorder()\n",
    "        traversal.append(self.data)\n",
    "        if self.right:\n",
    "            traversal += self.right.inorder()\n",
    "        return traversal\n",
    "\n",
    "    # 전위 순회\n",
    "    def preorder(self):\n",
    "        traversal = []\n",
    "        traversal.append(self.data)\n",
    "        if self.left:\n",
    "            traversal += self.left.preorder\n",
    "        if self.right:\n",
    "            traversal += self.right.preorder\n",
    "        return traversal\n",
    "\n",
    "\n",
    "class BinaryTree:\n",
    "\n",
    "    def __init__(self, r):\n",
    "        self.root = r\n",
    "\n",
    "\n",
    "    def inorder(self):\n",
    "        if self.root:\n",
    "            return self.root.inorder()\n",
    "        else:\n",
    "            return []\n",
    "\n",
    "    # 이진 트리의 전위 순회\n",
    "    def preorder(self):\n",
    "        if self.root:\n",
    "            return self.root.preorder()\n",
    "        else:\n",
    "            return []\n",
    "\n",
    "\n",
    "def solution(x):\n",
    "    return 0"
   ]
  },
  {
   "cell_type": "markdown",
   "metadata": {},
   "source": [
    "![답](./asset/Test_answer_18_2.png)"
   ]
  },
  {
   "cell_type": "markdown",
   "metadata": {},
   "source": [
    "![문제](./asset/Lecture18_Q_3.png)"
   ]
  },
  {
   "cell_type": "code",
   "execution_count": null,
   "metadata": {},
   "outputs": [],
   "source": [
    "class Node:\n",
    "\n",
    "    def __init__(self, item):\n",
    "        self.data = item\n",
    "        self.left = None\n",
    "        self.right = None\n",
    "\n",
    "\n",
    "    def inorder(self):\n",
    "        traversal = []\n",
    "        if self.left:\n",
    "            traversal += self.left.inorder()\n",
    "        traversal.append(self.data)\n",
    "        if self.right:\n",
    "            traversal += self.right.inorder()\n",
    "        return traversal\n",
    "\n",
    "    # 후위 순회\n",
    "    def postorder(self):\n",
    "        traversal = []\n",
    "        if self.left:\n",
    "            traversal += self.left.postorder()\n",
    "        if self.right:\n",
    "            traversal += self.right.postorder()\n",
    "        traversal.append(self.data)\n",
    "        return traversal\n",
    "\n",
    "\n",
    "class BinaryTree:\n",
    "\n",
    "    def __init__(self, r):\n",
    "        self.root = r\n",
    "\n",
    "\n",
    "    def inorder(self):\n",
    "        if self.root:\n",
    "            return self.root.inorder()\n",
    "        else:\n",
    "            return []\n",
    "\n",
    "    # 이진 트리의 후위 순회\n",
    "    def postorder(self):\n",
    "        if self.root:\n",
    "            return self.root.postorder()\n",
    "        else:\n",
    "            return []\n",
    "\n",
    "\n",
    "def solution(x):\n",
    "    return 0"
   ]
  },
  {
   "cell_type": "markdown",
   "metadata": {},
   "source": [
    "![답](./asset/Test_answer_18_3.png)"
   ]
  },
  {
   "cell_type": "markdown",
   "metadata": {},
   "source": [
    "![문제](./asset/Lecture19_Q_1.png)"
   ]
  },
  {
   "cell_type": "code",
   "execution_count": null,
   "metadata": {},
   "outputs": [],
   "source": [
    "class ArrayQueue:\n",
    "\n",
    "    def __init__(self):\n",
    "        self.data = []\n",
    "\n",
    "    def size(self):\n",
    "        return len(self.data)\n",
    "\n",
    "    def isEmpty(self):\n",
    "        return self.size() == 0\n",
    "\n",
    "    def enqueue(self, item):\n",
    "        self.data.append(item)\n",
    "\n",
    "    def dequeue(self):\n",
    "        return self.data.pop(0)\n",
    "\n",
    "    def peek(self):\n",
    "        return self.data[0]\n",
    "\n",
    "\n",
    "class Node:\n",
    "\n",
    "    def __init__(self, item):\n",
    "        self.data = item\n",
    "        self.left = None\n",
    "        self.right = None\n",
    "\n",
    "\n",
    "class BinaryTree:\n",
    "\n",
    "    def __init__(self, r):\n",
    "        self.root = r\n",
    "\n",
    "    # 이진 트리의 넓이 우선 순회\n",
    "    def bft(self):\n",
    "        traversal = [] # 빈 리스트로 traversal 초기화\n",
    "        q = ArrayQueue() # 빈 큐\n",
    "        \n",
    "        if self.root: # 빈 트리가 아니면\n",
    "            q.enqueue(self.root) # root node를 q에 추가\n",
    "            \n",
    "        while q.size() != 0: # q가 빈 큐가 될 때까지 모든 노드 방문\n",
    "            element = q.dequeue() # q에서 원소를 추출\n",
    "            traversal.append(element.data) \n",
    "            if element.left: # node의 왼쪽, 오른쪽 자식(있으면)들을 q에 추가\n",
    "                q.enqueue(element.left)\n",
    "            if element.right:\n",
    "                q.enqueue(element.right)\n",
    "                \n",
    "        return traversal\n",
    "\n",
    "\n",
    "def solution(x):\n",
    "    return 0"
   ]
  },
  {
   "cell_type": "markdown",
   "metadata": {},
   "source": [
    "![답](./asset/Test_answer_19_1.png)"
   ]
  }
 ],
 "metadata": {
  "language_info": {
   "name": "python"
  },
  "orig_nbformat": 4
 },
 "nbformat": 4,
 "nbformat_minor": 2
}
