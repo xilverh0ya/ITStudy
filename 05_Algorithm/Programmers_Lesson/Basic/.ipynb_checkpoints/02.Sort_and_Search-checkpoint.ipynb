{
 "cells": [
  {
   "cell_type": "markdown",
   "id": "d44f1c57",
   "metadata": {},
   "source": [
    "## 정렬과 탐색(Sorting & Searching)"
   ]
  },
  {
   "cell_type": "markdown",
   "id": "17f4b19b",
   "metadata": {},
   "source": [
    "#### 00. 들어가기에 앞서\n",
    "  \n",
    "- 람다함수(lambda)\n",
    "    - 런타임에서 생성, 사용할 수 있는 익명 함수\n",
    "    - 주로 filter(), map(), reduce()와 같은 전형적인 기능 개념과 함께 사용\n",
    "    - 쓰고 버리는 일시적인 함수\n",
    "        - 함수가 생성된 곳에서만 필요\n",
    "        - 간단한 기능을 필요한 곳에서 즉시 사용하고 버림\n",
    "  \n",
    "- 람다의 정의\n",
    "```py\n",
    "lambda [인자리스트]: [표현식]\n",
    "```\n",
    "\n",
    "    - return문 포함하지 않음\n",
    "    - 반환값은 표현식에 의해 만들어짐"
   ]
  },
  {
   "cell_type": "code",
   "execution_count": 3,
   "id": "f95642c0",
   "metadata": {},
   "outputs": [],
   "source": [
    "# 활용 예시\n",
    "\n",
    "def inc(n):\n",
    "    return lambda x: x + n\n",
    "   \n",
    "f = inc(2)\n",
    "g = inc(4)"
   ]
  },
  {
   "cell_type": "code",
   "execution_count": 4,
   "id": "705ec3a9",
   "metadata": {},
   "outputs": [
    {
     "name": "stdout",
     "output_type": "stream",
     "text": [
      "14\n",
      "16\n",
      "14\n"
     ]
    }
   ],
   "source": [
    "print(f(12))\n",
    "# 14 (2 + 12)\n",
    "print(g(12))\n",
    "# 16 (4 + 12)\n",
    "print(inc(2)(12))\n",
    "# 14 (2 + 12)"
   ]
  },
  {
   "cell_type": "markdown",
   "id": "28184e6d",
   "metadata": {},
   "source": [
    "*기능 함수와 같이 쓰는 Lambda*"
   ]
  },
  {
   "cell_type": "markdown",
   "id": "afba2134",
   "metadata": {},
   "source": [
    "- 1. map() : 내장 함수\n",
    "    - 2개의 인자\n",
    "    - function을 iterable의 모든 요소에 대해 적용\n",
    "    - function에 의해 변경된 iterator 반환\n",
    "```py\n",
    "map(function, iterable)\n",
    "```"
   ]
  },
  {
   "cell_type": "code",
   "execution_count": 5,
   "id": "c6e754b9",
   "metadata": {},
   "outputs": [
    {
     "data": {
      "text/plain": [
       "[14, 18, 20, 18]"
      ]
     },
     "execution_count": 5,
     "metadata": {},
     "output_type": "execute_result"
    }
   ],
   "source": [
    "a = [1, 2, 3, 4]\n",
    "b = [13, 16, 17, 14]\n",
    "list(map(lambda x, y: x + y, a, b))"
   ]
  },
  {
   "cell_type": "markdown",
   "id": "a8bc1538",
   "metadata": {},
   "source": [
    "- 2. filter() : 내장 함수\n",
    "    - 2개의 인자\n",
    "    - interable의 각각의 요소에 대해 Boolean 값 반환\n",
    "    - True면 남고, False면 제거\n",
    "```py\n",
    "filter(function, iterable)\n",
    "```"
   ]
  },
  {
   "cell_type": "code",
   "execution_count": 6,
   "id": "808d0330",
   "metadata": {},
   "outputs": [
    {
     "data": {
      "text/plain": [
       "[18, 9, 24, 12, 27]"
      ]
     },
     "execution_count": 6,
     "metadata": {},
     "output_type": "execute_result"
    }
   ],
   "source": [
    "a = [2, 18, 9, 22, 17, 24, 8, 12, 27]\n",
    "list(filter(lambda x: x % 3 == 0, a))"
   ]
  },
  {
   "cell_type": "markdown",
   "id": "3bb166a9",
   "metadata": {},
   "source": [
    "- 3. reduce() : **외장** 함수\n",
    "    - 2개의 필수 인자와 하나의 옵션 인자\n",
    "    - function을 사용해서 iterable을 하나의 값으로 줄인다는 개념\n",
    "    - Initializer : 첫 번째 인자로 추가됨\n",
    "```py\n",
    "functools.reduce(function, iterable[, initializer])\n",
    "```"
   ]
  },
  {
   "cell_type": "code",
   "execution_count": 8,
   "id": "af9330c1",
   "metadata": {},
   "outputs": [
    {
     "data": {
      "text/plain": [
       "16"
      ]
     },
     "execution_count": 8,
     "metadata": {},
     "output_type": "execute_result"
    }
   ],
   "source": [
    "from functools import reduce\n",
    "reduce(lambda x, y: x + y, [1, 2, 3, 4, 5], 1)"
   ]
  },
  {
   "cell_type": "markdown",
   "id": "10fbd651",
   "metadata": {},
   "source": [
    "#### 01. 정렬(Sort)\n",
    "\n",
    "- 정렬이란?\n",
    "    - 복수의 원소로 주어진 데이터를 **정해진 기준**에 따라 새로 늘어놓는 작업\n",
    "    ![예시)오름차순 정렬](./asset/sort_ex_asc.png)"
   ]
  },
  {
   "cell_type": "code",
   "execution_count": 10,
   "id": "295de6d5",
   "metadata": {},
   "outputs": [],
   "source": [
    "L = [3, 8, 2, 7, 6, 10, 9]"
   ]
  },
  {
   "cell_type": "markdown",
   "id": "253ff7bf",
   "metadata": {},
   "source": [
    "- Python 리스트의 정렬 1. sorted()\n",
    "    - 내장 함수(built-in function)\n",
    "    - 정렬된 새로운 리스트를 얻어냄\n",
    "    ```py\n",
    "    sorted(function)\n",
    "    ```"
   ]
  },
  {
   "cell_type": "code",
   "execution_count": 14,
   "id": "49c42f39",
   "metadata": {},
   "outputs": [
    {
     "data": {
      "text/plain": [
       "[2, 3, 6, 7, 8, 9, 10]"
      ]
     },
     "execution_count": 14,
     "metadata": {},
     "output_type": "execute_result"
    }
   ],
   "source": [
    "sorted(L)                     # 오름차순"
   ]
  },
  {
   "cell_type": "code",
   "execution_count": 15,
   "id": "6d138f50",
   "metadata": {},
   "outputs": [
    {
     "data": {
      "text/plain": [
       "[10, 9, 8, 7, 6, 3, 2]"
      ]
     },
     "execution_count": 15,
     "metadata": {},
     "output_type": "execute_result"
    }
   ],
   "source": [
    "sorted(L, reverse = True)    # 내림차순(Reverse : 역순 정렬)"
   ]
  },
  {
   "cell_type": "markdown",
   "id": "5174132a",
   "metadata": {},
   "source": [
    "- Python 리스트의 정렬 2. sort()\n",
    "    - 리스트이 메서드(method)\n",
    "    - 해당 리스트를 정렬\n",
    "    ```py\n",
    "    list.sort()\n",
    "    ```"
   ]
  },
  {
   "cell_type": "code",
   "execution_count": 16,
   "id": "2eab2212",
   "metadata": {},
   "outputs": [
    {
     "data": {
      "text/plain": [
       "[2, 3, 6, 7, 8, 9, 10]"
      ]
     },
     "execution_count": 16,
     "metadata": {},
     "output_type": "execute_result"
    }
   ],
   "source": [
    "L.sort()                   # 오름차순\n",
    "L"
   ]
  },
  {
   "cell_type": "code",
   "execution_count": 18,
   "id": "02329cd0",
   "metadata": {},
   "outputs": [
    {
     "data": {
      "text/plain": [
       "[10, 9, 8, 7, 6, 3, 2]"
      ]
     },
     "execution_count": 18,
     "metadata": {},
     "output_type": "execute_result"
    }
   ],
   "source": [
    "L.sort(reverse = True)    # 내림차순(Reverse : 역순 정렬)\n",
    "L"
   ]
  },
  {
   "cell_type": "markdown",
   "id": "bfba39da",
   "metadata": {},
   "source": [
    "- 문자열로 이루어진 리스트의 경우\n",
    "    - 정렬 순서 : 사전 순서(알파벳 순)\n",
    "    - 대문자를 소문자보다 우선\n",
    "    - 문자열의 길이 = 크기 X\n",
    "        - 문자열 길이 순서로 정렬하는 법 : 정렬에 이용하는 **키(key)** 지정(길이를 키로 지정)"
   ]
  },
  {
   "cell_type": "code",
   "execution_count": 19,
   "id": "28e20f7d",
   "metadata": {},
   "outputs": [],
   "source": [
    "L = ['abcd', 'xyz', 'spam']"
   ]
  },
  {
   "cell_type": "code",
   "execution_count": 20,
   "id": "a666022f",
   "metadata": {},
   "outputs": [
    {
     "data": {
      "text/plain": [
       "['xyz', 'abcd', 'spam']"
      ]
     },
     "execution_count": 20,
     "metadata": {},
     "output_type": "execute_result"
    }
   ],
   "source": [
    "# 문자열의 길이 순으로 정렬\n",
    "sorted(L, key = lambda x: len(x))    # lambda 를 사용, 정렬의 키를 지정\n",
    "# 같은 길이라면 원래의 순서를 적용"
   ]
  },
  {
   "cell_type": "markdown",
   "id": "b1b77e00",
   "metadata": {},
   "source": [
    "- 정렬에서 키를 지정하는 또 다른 예"
   ]
  },
  {
   "cell_type": "code",
   "execution_count": 21,
   "id": "aaf52b62",
   "metadata": {},
   "outputs": [],
   "source": [
    "L = [{'name' : 'John', 'score' : 83},\n",
    "      {'name' : 'Paul', 'score' : 92}]"
   ]
  },
  {
   "cell_type": "code",
   "execution_count": 28,
   "id": "1ef633a9",
   "metadata": {},
   "outputs": [
    {
     "data": {
      "text/plain": [
       "[{'name': 'John', 'score': 83}, {'name': 'Paul', 'score': 92}]"
      ]
     },
     "execution_count": 28,
     "metadata": {},
     "output_type": "execute_result"
    }
   ],
   "source": [
    "L.sort(key = lambda x: x['name'])    # 레코드들을 이름의 알파벳 순서대로 정렬\n",
    "L\n",
    "# 레코드? : 여러 데이터의 복합으로 이루어진 데이터 원소"
   ]
  },
  {
   "cell_type": "code",
   "execution_count": 29,
   "id": "70bada49",
   "metadata": {},
   "outputs": [
    {
     "data": {
      "text/plain": [
       "[{'name': 'Paul', 'score': 92}, {'name': 'John', 'score': 83}]"
      ]
     },
     "execution_count": 29,
     "metadata": {},
     "output_type": "execute_result"
    }
   ],
   "source": [
    "L.sort(key = lambda x: x['score'], reverse = True)    # 레코드들을 점수 높은 순서대로 정렬\n",
    "L"
   ]
  },
  {
   "cell_type": "markdown",
   "id": "ff169471",
   "metadata": {},
   "source": [
    "#### 02. 탐색(Search)\n",
    "    - 탐색이란?\n",
    "        - 복수의 원소로 이루어진 데이터에서 특정 원소를 찾아내는 작업."
   ]
  },
  {
   "cell_type": "markdown",
   "id": "43224db0",
   "metadata": {},
   "source": [
    "1. 선형 탐색 || 순차 탐색 (Linear Search || Sequential Search)\n",
    "    - 리스트의 길이에 비례하는 시간 소요 : O(n)\n",
    "    - 최악의 경우 : 모든 원소를 모두 비교\n",
    "    ![예시) 선형탐색](./asset/search_ex_linear.png)"
   ]
  },
  {
   "cell_type": "code",
   "execution_count": 30,
   "id": "52cf3a87",
   "metadata": {},
   "outputs": [],
   "source": [
    "# 선형 탐색 코드 구현\n",
    "\n",
    "def linear_search(L, x):    # L : 탐색의 대상 리스트, x 찾으려고 하는 원소\n",
    "    i = 0\n",
    "    while i < len(L) and L[i] != x:    # L의 마지막 원소까지 검사하거나, 찾으면 멈춤\n",
    "        i += 1\n",
    "    if i < len(L):    # 리스트 내에 있으면\n",
    "        return i     # 찾은 위치 반환\n",
    "    else:            # 없으면\n",
    "        return -1"
   ]
  },
  {
   "cell_type": "code",
   "execution_count": 31,
   "id": "6c2415b2",
   "metadata": {},
   "outputs": [
    {
     "data": {
      "text/plain": [
       "4"
      ]
     },
     "execution_count": 31,
     "metadata": {},
     "output_type": "execute_result"
    }
   ],
   "source": [
    "S = [3, 8, 2, 7, 6, 10, 9]\n",
    "linear_search(S, 6)"
   ]
  },
  {
   "cell_type": "code",
   "execution_count": 32,
   "id": "b7e7b7ee",
   "metadata": {},
   "outputs": [
    {
     "data": {
      "text/plain": [
       "-1"
      ]
     },
     "execution_count": 32,
     "metadata": {},
     "output_type": "execute_result"
    }
   ],
   "source": [
    "linear_search(S, 1)"
   ]
  },
  {
   "cell_type": "code",
   "execution_count": 33,
   "id": "31f59bf0",
   "metadata": {},
   "outputs": [
    {
     "data": {
      "text/plain": [
       "4"
      ]
     },
     "execution_count": 33,
     "metadata": {},
     "output_type": "execute_result"
    }
   ],
   "source": [
    "S.index(6)    # index() 함수 : 선형탐색"
   ]
  },
  {
   "cell_type": "code",
   "execution_count": 34,
   "id": "69fc05a6",
   "metadata": {},
   "outputs": [
    {
     "ename": "ValueError",
     "evalue": "1 is not in list",
     "output_type": "error",
     "traceback": [
      "\u001b[1;31m---------------------------------------------------------------------------\u001b[0m",
      "\u001b[1;31mValueError\u001b[0m                                Traceback (most recent call last)",
      "\u001b[1;32mC:\\Users\\Public\\Documents\\ESTsoft\\CreatorTemp\\ipykernel_12024\\819852622.py\u001b[0m in \u001b[0;36m<module>\u001b[1;34m\u001b[0m\n\u001b[1;32m----> 1\u001b[1;33m \u001b[0mS\u001b[0m\u001b[1;33m.\u001b[0m\u001b[0mindex\u001b[0m\u001b[1;33m(\u001b[0m\u001b[1;36m1\u001b[0m\u001b[1;33m)\u001b[0m\u001b[1;33m\u001b[0m\u001b[1;33m\u001b[0m\u001b[0m\n\u001b[0m",
      "\u001b[1;31mValueError\u001b[0m: 1 is not in list"
     ]
    }
   ],
   "source": [
    "S.index(1)    # 리스트에 없는 요소를 탐색하면 ValueError"
   ]
  },
  {
   "cell_type": "markdown",
   "id": "27591899",
   "metadata": {},
   "source": [
    "1. 이진 탐색(Binary Search)\n",
    "    - 탐색하려는 리스트가 이미 정렬되어 있는 경우에만 적용 가능\n",
    "    - **크기 순으로 정렬**되어 있다는 성질 이용!\n",
    "    ![예시) 이진탐색_1](./asset/search_ex_binary_1.png)\n",
    "    - lower, uppper, middle 생성 후, middle과 탐색값 비교\n",
    "        - 탐색값 == middle : 탐색 완료\n",
    "        - 탐색값 > middle : lower ~ middle 무시\n",
    "        - 탐색값 < middle : middle ~ upper 무시\n",
    "    ![예시) 이진탐색_1](./asset/search_ex_binary_2.png)\n",
    "    ![예시) 이진탐색_1](./asset/search_ex_binary_3.png)\n",
    "    ![예시) 이진탐색_1](./asset/search_ex_binary_4.png)\n",
    "    ![예시) 이진탐색_1](./asset/search_ex_binary_5.png)\n",
    "    - 한 번 비교가 일어날 떄마다 리스트 반씩 줄임(Divide & Conquer) : O(log n)\n",
    "        - 분할정복(Divide & Conquer) : 기존의 문제를 해결하기 쉬운 단위로 나눠서 해결한 후 다시 합침"
   ]
  },
  {
   "cell_type": "code",
   "execution_count": 45,
   "id": "cc18e63e",
   "metadata": {},
   "outputs": [],
   "source": [
    "# 이진 탐색 코드 구현\n",
    "def binary_search(L, x):    \n",
    "    lower = 0\n",
    "    upper = len(L) - 1\n",
    "    idx = -1\n",
    "    \n",
    "    while lower <= upper:\n",
    "        middle = (lower + upper) // 2\n",
    "        if L[middle] == x:\n",
    "            return middle\n",
    "            break\n",
    "        elif L[middle] < x:\n",
    "            lower = middle + 1\n",
    "        else:\n",
    "            upper = middle - 1\n",
    "    return -1"
   ]
  },
  {
   "cell_type": "code",
   "execution_count": null,
   "id": "e82df9a6",
   "metadata": {},
   "outputs": [],
   "source": [
    "S = [1, 3, 7, 8, 12, 15, 17, 21, 24 ,30, 32, 34, 39, 45, 51, 62]"
   ]
  },
  {
   "cell_type": "code",
   "execution_count": 47,
   "id": "0e2a0cbd",
   "metadata": {},
   "outputs": [
    {
     "data": {
      "text/plain": [
       "9"
      ]
     },
     "execution_count": 47,
     "metadata": {},
     "output_type": "execute_result"
    }
   ],
   "source": [
    "binary_search(S, 30)"
   ]
  },
  {
   "cell_type": "code",
   "execution_count": 48,
   "id": "66d38d8d",
   "metadata": {},
   "outputs": [
    {
     "data": {
      "text/plain": [
       "-1"
      ]
     },
     "execution_count": 48,
     "metadata": {},
     "output_type": "execute_result"
    }
   ],
   "source": [
    "binary_search(S, 31)"
   ]
  },
  {
   "cell_type": "markdown",
   "id": "ab471e76",
   "metadata": {},
   "source": [
    "3. 선형 탐색과 이진 탐색의 성능 차이\n",
    "    - 10만개의 원소 중, 1000개의 숫자를 찾아보기\n",
    "    - 결과(강사님의 예시)\n",
    "    ![예시)선형 탐색과 이진 탐색의 성능 차이](./asset/search_diff_lin_bin.png)\n",
    "    - 효율적인 자료구조, 알고리즘을 사용해야하는 이유 : 성능 차이\n",
    "    - 무조건 이진 탐색이 옳은게 아니라, 때에 따라서는 선형 탐색이 더 나을 수 있음"
   ]
  },
  {
   "cell_type": "markdown",
   "id": "db71fa73",
   "metadata": {},
   "source": [
    "#### 03. 과제\n",
    "3강 실습([Link](https://programmers.co.kr/learn/courses/57/lessons/13775))"
   ]
  },
  {
   "cell_type": "code",
   "execution_count": 51,
   "id": "e9d4a5ca",
   "metadata": {},
   "outputs": [],
   "source": [
    "def solution(L, x):\n",
    "    lower = 0\n",
    "    upper = len(L) - 1\n",
    "    \n",
    "    while lower <= upper:\n",
    "        mid = (lower + upper) // 2\n",
    "        if L[mid] == x:\n",
    "            return mid\n",
    "            break\n",
    "        elif L[mid] < x:\n",
    "            lower = mid + 1\n",
    "        else:\n",
    "            upper = mid - 1\n",
    "    return - 1"
   ]
  },
  {
   "cell_type": "markdown",
   "id": "4e0175dc",
   "metadata": {},
   "source": [
    "![Test_answer1](./asset/Test_answer_03_1.png)\n",
    "![Test_answer2](./asset/Test_answer_03_2.png)"
   ]
  }
 ],
 "metadata": {
  "kernelspec": {
   "display_name": "Python 3 (ipykernel)",
   "language": "python",
   "name": "python3"
  },
  "language_info": {
   "codemirror_mode": {
    "name": "ipython",
    "version": 3
   },
   "file_extension": ".py",
   "mimetype": "text/x-python",
   "name": "python",
   "nbconvert_exporter": "python",
   "pygments_lexer": "ipython3",
   "version": "3.7.13"
  }
 },
 "nbformat": 4,
 "nbformat_minor": 5
}
